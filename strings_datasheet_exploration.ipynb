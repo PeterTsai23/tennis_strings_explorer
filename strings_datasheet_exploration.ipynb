{
 "cells": [
  {
   "cell_type": "markdown",
   "metadata": {},
   "source": [
    "# String Spec Visualization with Plotly"
   ]
  },
  {
   "cell_type": "markdown",
   "metadata": {},
   "source": [
    "The purpose of this notebook is to create an interactive scatter plot of tennis strings and their measurable properties (stiffness, spin potential, tension loss %, etc.). Data was scraped from TWU's webpage. "
   ]
  },
  {
   "cell_type": "code",
   "execution_count": 1,
   "metadata": {},
   "outputs": [
    {
     "data": {
      "text/html": [
       "        <script type=\"text/javascript\">\n",
       "        window.PlotlyConfig = {MathJaxConfig: 'local'};\n",
       "        if (window.MathJax) {MathJax.Hub.Config({SVG: {font: \"STIX-Web\"}});}\n",
       "        if (typeof require !== 'undefined') {\n",
       "        require.undef(\"plotly\");\n",
       "        requirejs.config({\n",
       "            paths: {\n",
       "                'plotly': ['https://cdn.plot.ly/plotly-latest.min']\n",
       "            }\n",
       "        });\n",
       "        require(['plotly'], function(Plotly) {\n",
       "            window._Plotly = Plotly;\n",
       "        });\n",
       "        }\n",
       "        </script>\n",
       "        "
      ]
     },
     "metadata": {},
     "output_type": "display_data"
    }
   ],
   "source": [
    "# Import standard modules\n",
    "from math import *\n",
    "import pandas as pd\n",
    "import numpy as np\n",
    "\n",
    "# Import Plotly\n",
    "import plotly as py\n",
    "import plotly.graph_objs as go\n",
    "import ipywidgets as widgets\n",
    "\n",
    "py.offline.init_notebook_mode(connected=True)"
   ]
  },
  {
   "cell_type": "code",
   "execution_count": 3,
   "metadata": {
    "collapsed": true
   },
   "outputs": [],
   "source": [
    "\"\"\"\n",
    "    Read in string spec data from CSV files and clean up the data for visualization.\n",
    "\"\"\"\n",
    "\n",
    "# Get list of string brands\n",
    "stiffness_df = pd.read_csv('tennis_string_stiffness.csv', names=['brand', 'string', 'stiffness'])\n",
    "brand_list = list(stiffness_df.brand.unique())\n",
    "\n",
    "# Create function to separate brand and string into 2 columns\n",
    "def extract_brand_and_string(string, brand_list):\n",
    "    \n",
    "    string_split = string.split()\n",
    "    temp_brand = string_split[0] + ' ' + string_split[1]\n",
    "    if temp_brand in brand_list:\n",
    "        brand = temp_brand\n",
    "        string = ' '.join(string_split[2:])\n",
    "    else:\n",
    "        brand = string_split[0]\n",
    "        string = ' '.join(string_split[1:])\n",
    "        \n",
    "    return (brand, string)\n",
    "\n",
    "# Read in string performance datasheet into a dataframe and rename columns\n",
    "string_specs_df = pd.read_csv('tennis_string_datasheet.csv')\n",
    "string_specs_df.rename(columns={'String': 'brand_plus_string', \n",
    "                                'Ref. Ten. (lbs)': 'ref_tension_lbs', \n",
    "                                'Swing Speed': 'swing_speed', \n",
    "                                'Material': 'material', \n",
    "                                'Stiffness (lb/in)': 'stiffness_lbs_per_in',\n",
    "                                'Tension Loss (%)': 'tension_loss_pct', \n",
    "                                'Spin Potential': 'spin_potential'}, inplace=True)\n",
    "\n",
    "# Extract brand and name of string from 'brand_plus_string'\n",
    "string_specs_df['brand'] = string_specs_df.brand_plus_string.apply(lambda x: extract_brand_and_string(x, brand_list)[0])\n",
    "string_specs_df['string'] = string_specs_df.brand_plus_string.apply(lambda x: extract_brand_and_string(x, brand_list)[1])\n",
    "\n",
    "# Count the number of occurences for each string and only keep strings with\n",
    "# counts of 3, corresponding to the 3 references tensions of 40, 51, and 62 lbs.\n",
    "string_count_df = string_specs_df.groupby(['brand', 'string'], as_index=False)['ref_tension_lbs'].count()\n",
    "string_count_df.rename(columns={'ref_tension_lbs': 'num_count'}, inplace=True)\n",
    "string_specs_df = pd.merge(string_specs_df, string_count_df, how='inner',\n",
    "                           left_on=['brand', 'string'], right_on=['brand', 'string'])\n",
    "string_specs_df = string_specs_df[string_specs_df.num_count == 3].copy()\n",
    "string_specs_df.sort_values(by=['brand', 'string', 'ref_tension_lbs'], ascending=[True, True, True], inplace=True)\n",
    "\n",
    "# Remove strings where measured stiffness decreases with increasing applied tension\n",
    "stiffness_criteria_list = []\n",
    "for string in list(string_specs_df.brand_plus_string.unique()):\n",
    "    sub_df = string_specs_df[string_specs_df.brand_plus_string == string].copy()\n",
    "    sub_df.reset_index(drop=True, inplace=True)\n",
    "    stiffness_vals = list(sub_df.stiffness_lbs_per_in)\n",
    "    diff_1 = stiffness_vals[1] - stiffness_vals[0]\n",
    "    diff_2 = stiffness_vals[2] - stiffness_vals[1]\n",
    "    if (diff_1 >= 0) and (diff_2 >= 0):\n",
    "        stiffness_criteria_list.append({'brand_plus_string': string,\n",
    "                                        'criteria_pass': True})\n",
    "    else:\n",
    "        stiffness_criteria_list.append({'brand_plus_string': string,\n",
    "                                        'criteria_pass': False})\n",
    "string_specs_df = pd.merge(string_specs_df, pd.DataFrame(stiffness_criteria_list), how='inner',\n",
    "                           left_on='brand_plus_string', right_on='brand_plus_string')\n",
    "final_specs_df = string_specs_df[string_specs_df.criteria_pass].copy()\n"
   ]
  },
  {
   "cell_type": "code",
   "execution_count": 4,
   "metadata": {},
   "outputs": [
    {
     "data": {
      "text/html": [
       "<div>\n",
       "<style>\n",
       "    .dataframe thead tr:only-child th {\n",
       "        text-align: right;\n",
       "    }\n",
       "\n",
       "    .dataframe thead th {\n",
       "        text-align: left;\n",
       "    }\n",
       "\n",
       "    .dataframe tbody tr th {\n",
       "        vertical-align: top;\n",
       "    }\n",
       "</style>\n",
       "<table border=\"1\" class=\"dataframe\">\n",
       "  <thead>\n",
       "    <tr style=\"text-align: right;\">\n",
       "      <th></th>\n",
       "      <th>brand_plus_string</th>\n",
       "      <th>ref_tension_lbs</th>\n",
       "      <th>swing_speed</th>\n",
       "      <th>material</th>\n",
       "      <th>stiffness_lbs_per_in</th>\n",
       "      <th>tension_loss_pct</th>\n",
       "      <th>spin_potential</th>\n",
       "      <th>brand</th>\n",
       "      <th>string</th>\n",
       "      <th>num_count</th>\n",
       "      <th>criteria_pass</th>\n",
       "    </tr>\n",
       "  </thead>\n",
       "  <tbody>\n",
       "    <tr>\n",
       "      <th>0</th>\n",
       "      <td>Alien Black Diamond 16</td>\n",
       "      <td>40</td>\n",
       "      <td>Fast</td>\n",
       "      <td>Polyester</td>\n",
       "      <td>152.6</td>\n",
       "      <td>61.3</td>\n",
       "      <td>4.5</td>\n",
       "      <td>Alien</td>\n",
       "      <td>Black Diamond 16</td>\n",
       "      <td>3</td>\n",
       "      <td>True</td>\n",
       "    </tr>\n",
       "    <tr>\n",
       "      <th>1</th>\n",
       "      <td>Alien Black Diamond 16</td>\n",
       "      <td>51</td>\n",
       "      <td>Fast</td>\n",
       "      <td>Polyester</td>\n",
       "      <td>190.3</td>\n",
       "      <td>50.7</td>\n",
       "      <td>4.5</td>\n",
       "      <td>Alien</td>\n",
       "      <td>Black Diamond 16</td>\n",
       "      <td>3</td>\n",
       "      <td>True</td>\n",
       "    </tr>\n",
       "    <tr>\n",
       "      <th>2</th>\n",
       "      <td>Alien Black Diamond 16</td>\n",
       "      <td>62</td>\n",
       "      <td>Fast</td>\n",
       "      <td>Polyester</td>\n",
       "      <td>223.5</td>\n",
       "      <td>45.8</td>\n",
       "      <td>4.5</td>\n",
       "      <td>Alien</td>\n",
       "      <td>Black Diamond 16</td>\n",
       "      <td>3</td>\n",
       "      <td>True</td>\n",
       "    </tr>\n",
       "    <tr>\n",
       "      <th>3</th>\n",
       "      <td>Alpha Gut 2000 16</td>\n",
       "      <td>40</td>\n",
       "      <td>Fast</td>\n",
       "      <td>Nylon</td>\n",
       "      <td>131.4</td>\n",
       "      <td>22.6</td>\n",
       "      <td>3.1</td>\n",
       "      <td>Alpha</td>\n",
       "      <td>Gut 2000 16</td>\n",
       "      <td>3</td>\n",
       "      <td>True</td>\n",
       "    </tr>\n",
       "    <tr>\n",
       "      <th>4</th>\n",
       "      <td>Alpha Gut 2000 16</td>\n",
       "      <td>51</td>\n",
       "      <td>Fast</td>\n",
       "      <td>Nylon</td>\n",
       "      <td>159.4</td>\n",
       "      <td>16.5</td>\n",
       "      <td>3.1</td>\n",
       "      <td>Alpha</td>\n",
       "      <td>Gut 2000 16</td>\n",
       "      <td>3</td>\n",
       "      <td>True</td>\n",
       "    </tr>\n",
       "    <tr>\n",
       "      <th>5</th>\n",
       "      <td>Alpha Gut 2000 16</td>\n",
       "      <td>62</td>\n",
       "      <td>Fast</td>\n",
       "      <td>Nylon</td>\n",
       "      <td>180.6</td>\n",
       "      <td>14.4</td>\n",
       "      <td>3.1</td>\n",
       "      <td>Alpha</td>\n",
       "      <td>Gut 2000 16</td>\n",
       "      <td>3</td>\n",
       "      <td>True</td>\n",
       "    </tr>\n",
       "    <tr>\n",
       "      <th>6</th>\n",
       "      <td>Ashaway Dynamite 17</td>\n",
       "      <td>40</td>\n",
       "      <td>Fast</td>\n",
       "      <td>Nylon/Zyex</td>\n",
       "      <td>108.6</td>\n",
       "      <td>40.9</td>\n",
       "      <td>3.0</td>\n",
       "      <td>Ashaway</td>\n",
       "      <td>Dynamite 17</td>\n",
       "      <td>3</td>\n",
       "      <td>True</td>\n",
       "    </tr>\n",
       "    <tr>\n",
       "      <th>7</th>\n",
       "      <td>Ashaway Dynamite 17</td>\n",
       "      <td>51</td>\n",
       "      <td>Fast</td>\n",
       "      <td>Nylon/Zyex</td>\n",
       "      <td>127.4</td>\n",
       "      <td>29.9</td>\n",
       "      <td>3.0</td>\n",
       "      <td>Ashaway</td>\n",
       "      <td>Dynamite 17</td>\n",
       "      <td>3</td>\n",
       "      <td>True</td>\n",
       "    </tr>\n",
       "    <tr>\n",
       "      <th>8</th>\n",
       "      <td>Ashaway Dynamite 17</td>\n",
       "      <td>62</td>\n",
       "      <td>Fast</td>\n",
       "      <td>Nylon/Zyex</td>\n",
       "      <td>144.6</td>\n",
       "      <td>24.5</td>\n",
       "      <td>3.0</td>\n",
       "      <td>Ashaway</td>\n",
       "      <td>Dynamite 17</td>\n",
       "      <td>3</td>\n",
       "      <td>True</td>\n",
       "    </tr>\n",
       "    <tr>\n",
       "      <th>9</th>\n",
       "      <td>Ashaway Dynamite Soft 17</td>\n",
       "      <td>40</td>\n",
       "      <td>Fast</td>\n",
       "      <td>Nylon/Zyex</td>\n",
       "      <td>102.3</td>\n",
       "      <td>33.6</td>\n",
       "      <td>2.6</td>\n",
       "      <td>Ashaway</td>\n",
       "      <td>Dynamite Soft 17</td>\n",
       "      <td>3</td>\n",
       "      <td>True</td>\n",
       "    </tr>\n",
       "    <tr>\n",
       "      <th>10</th>\n",
       "      <td>Ashaway Dynamite Soft 17</td>\n",
       "      <td>51</td>\n",
       "      <td>Fast</td>\n",
       "      <td>Nylon/Zyex</td>\n",
       "      <td>120.0</td>\n",
       "      <td>28.1</td>\n",
       "      <td>2.6</td>\n",
       "      <td>Ashaway</td>\n",
       "      <td>Dynamite Soft 17</td>\n",
       "      <td>3</td>\n",
       "      <td>True</td>\n",
       "    </tr>\n",
       "    <tr>\n",
       "      <th>11</th>\n",
       "      <td>Ashaway Dynamite Soft 17</td>\n",
       "      <td>62</td>\n",
       "      <td>Fast</td>\n",
       "      <td>Nylon/Zyex</td>\n",
       "      <td>135.4</td>\n",
       "      <td>25.6</td>\n",
       "      <td>2.6</td>\n",
       "      <td>Ashaway</td>\n",
       "      <td>Dynamite Soft 17</td>\n",
       "      <td>3</td>\n",
       "      <td>True</td>\n",
       "    </tr>\n",
       "    <tr>\n",
       "      <th>12</th>\n",
       "      <td>Ashaway Dynamite Soft 18</td>\n",
       "      <td>40</td>\n",
       "      <td>Fast</td>\n",
       "      <td>Nylon/Zyex</td>\n",
       "      <td>91.4</td>\n",
       "      <td>33.3</td>\n",
       "      <td>NaN</td>\n",
       "      <td>Ashaway</td>\n",
       "      <td>Dynamite Soft 18</td>\n",
       "      <td>3</td>\n",
       "      <td>True</td>\n",
       "    </tr>\n",
       "    <tr>\n",
       "      <th>13</th>\n",
       "      <td>Ashaway Dynamite Soft 18</td>\n",
       "      <td>51</td>\n",
       "      <td>Fast</td>\n",
       "      <td>Nylon/Zyex</td>\n",
       "      <td>108.0</td>\n",
       "      <td>28.1</td>\n",
       "      <td>NaN</td>\n",
       "      <td>Ashaway</td>\n",
       "      <td>Dynamite Soft 18</td>\n",
       "      <td>3</td>\n",
       "      <td>True</td>\n",
       "    </tr>\n",
       "    <tr>\n",
       "      <th>14</th>\n",
       "      <td>Ashaway Dynamite Soft 18</td>\n",
       "      <td>62</td>\n",
       "      <td>Fast</td>\n",
       "      <td>Nylon/Zyex</td>\n",
       "      <td>127.4</td>\n",
       "      <td>24.8</td>\n",
       "      <td>NaN</td>\n",
       "      <td>Ashaway</td>\n",
       "      <td>Dynamite Soft 18</td>\n",
       "      <td>3</td>\n",
       "      <td>True</td>\n",
       "    </tr>\n",
       "    <tr>\n",
       "      <th>15</th>\n",
       "      <td>Ashaway Dynamite WB 16</td>\n",
       "      <td>40</td>\n",
       "      <td>Fast</td>\n",
       "      <td>Nylon/Zyex</td>\n",
       "      <td>104.6</td>\n",
       "      <td>47.0</td>\n",
       "      <td>3.3</td>\n",
       "      <td>Ashaway</td>\n",
       "      <td>Dynamite WB 16</td>\n",
       "      <td>3</td>\n",
       "      <td>True</td>\n",
       "    </tr>\n",
       "    <tr>\n",
       "      <th>16</th>\n",
       "      <td>Ashaway Dynamite WB 16</td>\n",
       "      <td>51</td>\n",
       "      <td>Fast</td>\n",
       "      <td>Nylon/Zyex</td>\n",
       "      <td>125.2</td>\n",
       "      <td>32.9</td>\n",
       "      <td>3.3</td>\n",
       "      <td>Ashaway</td>\n",
       "      <td>Dynamite WB 16</td>\n",
       "      <td>3</td>\n",
       "      <td>True</td>\n",
       "    </tr>\n",
       "    <tr>\n",
       "      <th>17</th>\n",
       "      <td>Ashaway Dynamite WB 16</td>\n",
       "      <td>62</td>\n",
       "      <td>Fast</td>\n",
       "      <td>Nylon/Zyex</td>\n",
       "      <td>142.3</td>\n",
       "      <td>28.4</td>\n",
       "      <td>3.3</td>\n",
       "      <td>Ashaway</td>\n",
       "      <td>Dynamite WB 16</td>\n",
       "      <td>3</td>\n",
       "      <td>True</td>\n",
       "    </tr>\n",
       "    <tr>\n",
       "      <th>18</th>\n",
       "      <td>Ashaway Liberty 16</td>\n",
       "      <td>40</td>\n",
       "      <td>Fast</td>\n",
       "      <td>Nylon</td>\n",
       "      <td>138.9</td>\n",
       "      <td>26.9</td>\n",
       "      <td>4.6</td>\n",
       "      <td>Ashaway</td>\n",
       "      <td>Liberty 16</td>\n",
       "      <td>3</td>\n",
       "      <td>True</td>\n",
       "    </tr>\n",
       "    <tr>\n",
       "      <th>19</th>\n",
       "      <td>Ashaway Liberty 16</td>\n",
       "      <td>51</td>\n",
       "      <td>Fast</td>\n",
       "      <td>Nylon</td>\n",
       "      <td>167.4</td>\n",
       "      <td>24.8</td>\n",
       "      <td>4.6</td>\n",
       "      <td>Ashaway</td>\n",
       "      <td>Liberty 16</td>\n",
       "      <td>3</td>\n",
       "      <td>True</td>\n",
       "    </tr>\n",
       "    <tr>\n",
       "      <th>20</th>\n",
       "      <td>Ashaway Liberty 16</td>\n",
       "      <td>62</td>\n",
       "      <td>Fast</td>\n",
       "      <td>Nylon</td>\n",
       "      <td>179.5</td>\n",
       "      <td>24.1</td>\n",
       "      <td>4.6</td>\n",
       "      <td>Ashaway</td>\n",
       "      <td>Liberty 16</td>\n",
       "      <td>3</td>\n",
       "      <td>True</td>\n",
       "    </tr>\n",
       "    <tr>\n",
       "      <th>21</th>\n",
       "      <td>Ashaway MonoGut 16L</td>\n",
       "      <td>40</td>\n",
       "      <td>Fast</td>\n",
       "      <td>Polyester</td>\n",
       "      <td>181.2</td>\n",
       "      <td>53.5</td>\n",
       "      <td>3.5</td>\n",
       "      <td>Ashaway</td>\n",
       "      <td>MonoGut 16L</td>\n",
       "      <td>3</td>\n",
       "      <td>True</td>\n",
       "    </tr>\n",
       "    <tr>\n",
       "      <th>22</th>\n",
       "      <td>Ashaway MonoGut 16L</td>\n",
       "      <td>51</td>\n",
       "      <td>Fast</td>\n",
       "      <td>Polyester</td>\n",
       "      <td>202.9</td>\n",
       "      <td>47.0</td>\n",
       "      <td>3.5</td>\n",
       "      <td>Ashaway</td>\n",
       "      <td>MonoGut 16L</td>\n",
       "      <td>3</td>\n",
       "      <td>True</td>\n",
       "    </tr>\n",
       "    <tr>\n",
       "      <th>23</th>\n",
       "      <td>Ashaway MonoGut 16L</td>\n",
       "      <td>62</td>\n",
       "      <td>Fast</td>\n",
       "      <td>Polyester</td>\n",
       "      <td>229.2</td>\n",
       "      <td>43.1</td>\n",
       "      <td>3.5</td>\n",
       "      <td>Ashaway</td>\n",
       "      <td>MonoGut 16L</td>\n",
       "      <td>3</td>\n",
       "      <td>True</td>\n",
       "    </tr>\n",
       "    <tr>\n",
       "      <th>24</th>\n",
       "      <td>Ashaway MonoGut 17</td>\n",
       "      <td>40</td>\n",
       "      <td>Fast</td>\n",
       "      <td>Polyester</td>\n",
       "      <td>165.7</td>\n",
       "      <td>57.7</td>\n",
       "      <td>3.9</td>\n",
       "      <td>Ashaway</td>\n",
       "      <td>MonoGut 17</td>\n",
       "      <td>3</td>\n",
       "      <td>True</td>\n",
       "    </tr>\n",
       "    <tr>\n",
       "      <th>25</th>\n",
       "      <td>Ashaway MonoGut 17</td>\n",
       "      <td>51</td>\n",
       "      <td>Fast</td>\n",
       "      <td>Polyester</td>\n",
       "      <td>188.6</td>\n",
       "      <td>50.9</td>\n",
       "      <td>3.9</td>\n",
       "      <td>Ashaway</td>\n",
       "      <td>MonoGut 17</td>\n",
       "      <td>3</td>\n",
       "      <td>True</td>\n",
       "    </tr>\n",
       "    <tr>\n",
       "      <th>26</th>\n",
       "      <td>Ashaway MonoGut 17</td>\n",
       "      <td>62</td>\n",
       "      <td>Fast</td>\n",
       "      <td>Polyester</td>\n",
       "      <td>217.2</td>\n",
       "      <td>45.0</td>\n",
       "      <td>3.9</td>\n",
       "      <td>Ashaway</td>\n",
       "      <td>MonoGut 17</td>\n",
       "      <td>3</td>\n",
       "      <td>True</td>\n",
       "    </tr>\n",
       "    <tr>\n",
       "      <th>27</th>\n",
       "      <td>Ashaway MonoGut ZX 16</td>\n",
       "      <td>40</td>\n",
       "      <td>Fast</td>\n",
       "      <td>Nylon/Zyex</td>\n",
       "      <td>85.2</td>\n",
       "      <td>65.4</td>\n",
       "      <td>4.4</td>\n",
       "      <td>Ashaway</td>\n",
       "      <td>MonoGut ZX 16</td>\n",
       "      <td>3</td>\n",
       "      <td>True</td>\n",
       "    </tr>\n",
       "    <tr>\n",
       "      <th>28</th>\n",
       "      <td>Ashaway MonoGut ZX 16</td>\n",
       "      <td>51</td>\n",
       "      <td>Fast</td>\n",
       "      <td>Nylon/Zyex</td>\n",
       "      <td>105.7</td>\n",
       "      <td>47.6</td>\n",
       "      <td>4.4</td>\n",
       "      <td>Ashaway</td>\n",
       "      <td>MonoGut ZX 16</td>\n",
       "      <td>3</td>\n",
       "      <td>True</td>\n",
       "    </tr>\n",
       "    <tr>\n",
       "      <th>29</th>\n",
       "      <td>Ashaway MonoGut ZX 16</td>\n",
       "      <td>62</td>\n",
       "      <td>Fast</td>\n",
       "      <td>Nylon/Zyex</td>\n",
       "      <td>118.3</td>\n",
       "      <td>38.0</td>\n",
       "      <td>4.4</td>\n",
       "      <td>Ashaway</td>\n",
       "      <td>MonoGut ZX 16</td>\n",
       "      <td>3</td>\n",
       "      <td>True</td>\n",
       "    </tr>\n",
       "    <tr>\n",
       "      <th>...</th>\n",
       "      <td>...</td>\n",
       "      <td>...</td>\n",
       "      <td>...</td>\n",
       "      <td>...</td>\n",
       "      <td>...</td>\n",
       "      <td>...</td>\n",
       "      <td>...</td>\n",
       "      <td>...</td>\n",
       "      <td>...</td>\n",
       "      <td>...</td>\n",
       "      <td>...</td>\n",
       "    </tr>\n",
       "    <tr>\n",
       "      <th>1467</th>\n",
       "      <td>Wilson Spin Cycle 16L</td>\n",
       "      <td>40</td>\n",
       "      <td>Fast</td>\n",
       "      <td>Polyester</td>\n",
       "      <td>158.9</td>\n",
       "      <td>62.7</td>\n",
       "      <td>4.2</td>\n",
       "      <td>Wilson</td>\n",
       "      <td>Spin Cycle 16L</td>\n",
       "      <td>3</td>\n",
       "      <td>True</td>\n",
       "    </tr>\n",
       "    <tr>\n",
       "      <th>1468</th>\n",
       "      <td>Wilson Spin Cycle 16L</td>\n",
       "      <td>51</td>\n",
       "      <td>Fast</td>\n",
       "      <td>Polyester</td>\n",
       "      <td>205.7</td>\n",
       "      <td>38.7</td>\n",
       "      <td>4.2</td>\n",
       "      <td>Wilson</td>\n",
       "      <td>Spin Cycle 16L</td>\n",
       "      <td>3</td>\n",
       "      <td>True</td>\n",
       "    </tr>\n",
       "    <tr>\n",
       "      <th>1469</th>\n",
       "      <td>Wilson Spin Cycle 16L</td>\n",
       "      <td>62</td>\n",
       "      <td>Fast</td>\n",
       "      <td>Polyester</td>\n",
       "      <td>234.3</td>\n",
       "      <td>30.6</td>\n",
       "      <td>4.2</td>\n",
       "      <td>Wilson</td>\n",
       "      <td>Spin Cycle 16L</td>\n",
       "      <td>3</td>\n",
       "      <td>True</td>\n",
       "    </tr>\n",
       "    <tr>\n",
       "      <th>1470</th>\n",
       "      <td>Wilson Stamina 16</td>\n",
       "      <td>40</td>\n",
       "      <td>Fast</td>\n",
       "      <td>Nylon</td>\n",
       "      <td>156.6</td>\n",
       "      <td>26.3</td>\n",
       "      <td>3.0</td>\n",
       "      <td>Wilson</td>\n",
       "      <td>Stamina 16</td>\n",
       "      <td>3</td>\n",
       "      <td>True</td>\n",
       "    </tr>\n",
       "    <tr>\n",
       "      <th>1471</th>\n",
       "      <td>Wilson Stamina 16</td>\n",
       "      <td>51</td>\n",
       "      <td>Fast</td>\n",
       "      <td>Nylon</td>\n",
       "      <td>183.5</td>\n",
       "      <td>21.2</td>\n",
       "      <td>3.0</td>\n",
       "      <td>Wilson</td>\n",
       "      <td>Stamina 16</td>\n",
       "      <td>3</td>\n",
       "      <td>True</td>\n",
       "    </tr>\n",
       "    <tr>\n",
       "      <th>1472</th>\n",
       "      <td>Wilson Stamina 16</td>\n",
       "      <td>62</td>\n",
       "      <td>Fast</td>\n",
       "      <td>Nylon</td>\n",
       "      <td>210.9</td>\n",
       "      <td>18.6</td>\n",
       "      <td>3.0</td>\n",
       "      <td>Wilson</td>\n",
       "      <td>Stamina 16</td>\n",
       "      <td>3</td>\n",
       "      <td>True</td>\n",
       "    </tr>\n",
       "    <tr>\n",
       "      <th>1473</th>\n",
       "      <td>Wilson Synthetic Gut Extreme 17</td>\n",
       "      <td>40</td>\n",
       "      <td>Fast</td>\n",
       "      <td>Nylon</td>\n",
       "      <td>152.0</td>\n",
       "      <td>21.9</td>\n",
       "      <td>2.8</td>\n",
       "      <td>Wilson</td>\n",
       "      <td>Synthetic Gut Extreme 17</td>\n",
       "      <td>3</td>\n",
       "      <td>True</td>\n",
       "    </tr>\n",
       "    <tr>\n",
       "      <th>1474</th>\n",
       "      <td>Wilson Synthetic Gut Extreme 17</td>\n",
       "      <td>51</td>\n",
       "      <td>Fast</td>\n",
       "      <td>Nylon</td>\n",
       "      <td>185.2</td>\n",
       "      <td>19.2</td>\n",
       "      <td>2.8</td>\n",
       "      <td>Wilson</td>\n",
       "      <td>Synthetic Gut Extreme 17</td>\n",
       "      <td>3</td>\n",
       "      <td>True</td>\n",
       "    </tr>\n",
       "    <tr>\n",
       "      <th>1475</th>\n",
       "      <td>Wilson Synthetic Gut Extreme 17</td>\n",
       "      <td>62</td>\n",
       "      <td>Fast</td>\n",
       "      <td>Nylon</td>\n",
       "      <td>206.9</td>\n",
       "      <td>17.5</td>\n",
       "      <td>2.8</td>\n",
       "      <td>Wilson</td>\n",
       "      <td>Synthetic Gut Extreme 17</td>\n",
       "      <td>3</td>\n",
       "      <td>True</td>\n",
       "    </tr>\n",
       "    <tr>\n",
       "      <th>1476</th>\n",
       "      <td>Y-Tex Quadro Twist 16L</td>\n",
       "      <td>40</td>\n",
       "      <td>Fast</td>\n",
       "      <td>Polyester</td>\n",
       "      <td>128.0</td>\n",
       "      <td>67.9</td>\n",
       "      <td>6.2</td>\n",
       "      <td>Y-Tex</td>\n",
       "      <td>Quadro Twist 16L</td>\n",
       "      <td>3</td>\n",
       "      <td>True</td>\n",
       "    </tr>\n",
       "    <tr>\n",
       "      <th>1477</th>\n",
       "      <td>Y-Tex Quadro Twist 16L</td>\n",
       "      <td>51</td>\n",
       "      <td>Fast</td>\n",
       "      <td>Polyester</td>\n",
       "      <td>177.7</td>\n",
       "      <td>48.5</td>\n",
       "      <td>6.2</td>\n",
       "      <td>Y-Tex</td>\n",
       "      <td>Quadro Twist 16L</td>\n",
       "      <td>3</td>\n",
       "      <td>True</td>\n",
       "    </tr>\n",
       "    <tr>\n",
       "      <th>1478</th>\n",
       "      <td>Y-Tex Quadro Twist 16L</td>\n",
       "      <td>62</td>\n",
       "      <td>Fast</td>\n",
       "      <td>Polyester</td>\n",
       "      <td>214.3</td>\n",
       "      <td>35.2</td>\n",
       "      <td>6.2</td>\n",
       "      <td>Y-Tex</td>\n",
       "      <td>Quadro Twist 16L</td>\n",
       "      <td>3</td>\n",
       "      <td>True</td>\n",
       "    </tr>\n",
       "    <tr>\n",
       "      <th>1479</th>\n",
       "      <td>Yonex Poly Tour 130/16</td>\n",
       "      <td>40</td>\n",
       "      <td>Fast</td>\n",
       "      <td>Polyester</td>\n",
       "      <td>194.9</td>\n",
       "      <td>55.6</td>\n",
       "      <td>NaN</td>\n",
       "      <td>Yonex</td>\n",
       "      <td>Poly Tour 130/16</td>\n",
       "      <td>3</td>\n",
       "      <td>True</td>\n",
       "    </tr>\n",
       "    <tr>\n",
       "      <th>1480</th>\n",
       "      <td>Yonex Poly Tour 130/16</td>\n",
       "      <td>51</td>\n",
       "      <td>Fast</td>\n",
       "      <td>Polyester</td>\n",
       "      <td>217.7</td>\n",
       "      <td>49.1</td>\n",
       "      <td>NaN</td>\n",
       "      <td>Yonex</td>\n",
       "      <td>Poly Tour 130/16</td>\n",
       "      <td>3</td>\n",
       "      <td>True</td>\n",
       "    </tr>\n",
       "    <tr>\n",
       "      <th>1481</th>\n",
       "      <td>Yonex Poly Tour 130/16</td>\n",
       "      <td>62</td>\n",
       "      <td>Fast</td>\n",
       "      <td>Polyester</td>\n",
       "      <td>256.6</td>\n",
       "      <td>41.8</td>\n",
       "      <td>NaN</td>\n",
       "      <td>Yonex</td>\n",
       "      <td>Poly Tour 130/16</td>\n",
       "      <td>3</td>\n",
       "      <td>True</td>\n",
       "    </tr>\n",
       "    <tr>\n",
       "      <th>1482</th>\n",
       "      <td>Yonex Poly Tour Pro Yellow 16 (1.30)</td>\n",
       "      <td>40</td>\n",
       "      <td>Fast</td>\n",
       "      <td>Polyester</td>\n",
       "      <td>173.7</td>\n",
       "      <td>46.4</td>\n",
       "      <td>3.4</td>\n",
       "      <td>Yonex</td>\n",
       "      <td>Poly Tour Pro Yellow 16 (1.30)</td>\n",
       "      <td>3</td>\n",
       "      <td>True</td>\n",
       "    </tr>\n",
       "    <tr>\n",
       "      <th>1483</th>\n",
       "      <td>Yonex Poly Tour Pro Yellow 16 (1.30)</td>\n",
       "      <td>51</td>\n",
       "      <td>Fast</td>\n",
       "      <td>Polyester</td>\n",
       "      <td>191.5</td>\n",
       "      <td>44.5</td>\n",
       "      <td>3.4</td>\n",
       "      <td>Yonex</td>\n",
       "      <td>Poly Tour Pro Yellow 16 (1.30)</td>\n",
       "      <td>3</td>\n",
       "      <td>True</td>\n",
       "    </tr>\n",
       "    <tr>\n",
       "      <th>1484</th>\n",
       "      <td>Yonex Poly Tour Pro Yellow 16 (1.30)</td>\n",
       "      <td>62</td>\n",
       "      <td>Fast</td>\n",
       "      <td>Polyester</td>\n",
       "      <td>200.6</td>\n",
       "      <td>46.3</td>\n",
       "      <td>3.4</td>\n",
       "      <td>Yonex</td>\n",
       "      <td>Poly Tour Pro Yellow 16 (1.30)</td>\n",
       "      <td>3</td>\n",
       "      <td>True</td>\n",
       "    </tr>\n",
       "    <tr>\n",
       "      <th>1485</th>\n",
       "      <td>Yonex Poly Tour Pro Yellow 16L (1.25)</td>\n",
       "      <td>40</td>\n",
       "      <td>Fast</td>\n",
       "      <td>Polyester</td>\n",
       "      <td>172.6</td>\n",
       "      <td>47.8</td>\n",
       "      <td>NaN</td>\n",
       "      <td>Yonex</td>\n",
       "      <td>Poly Tour Pro Yellow 16L (1.25)</td>\n",
       "      <td>3</td>\n",
       "      <td>True</td>\n",
       "    </tr>\n",
       "    <tr>\n",
       "      <th>1486</th>\n",
       "      <td>Yonex Poly Tour Pro Yellow 16L (1.25)</td>\n",
       "      <td>51</td>\n",
       "      <td>Fast</td>\n",
       "      <td>Polyester</td>\n",
       "      <td>181.2</td>\n",
       "      <td>46.3</td>\n",
       "      <td>NaN</td>\n",
       "      <td>Yonex</td>\n",
       "      <td>Poly Tour Pro Yellow 16L (1.25)</td>\n",
       "      <td>3</td>\n",
       "      <td>True</td>\n",
       "    </tr>\n",
       "    <tr>\n",
       "      <th>1487</th>\n",
       "      <td>Yonex Poly Tour Pro Yellow 16L (1.25)</td>\n",
       "      <td>62</td>\n",
       "      <td>Fast</td>\n",
       "      <td>Polyester</td>\n",
       "      <td>188.0</td>\n",
       "      <td>50.8</td>\n",
       "      <td>NaN</td>\n",
       "      <td>Yonex</td>\n",
       "      <td>Poly Tour Pro Yellow 16L (1.25)</td>\n",
       "      <td>3</td>\n",
       "      <td>True</td>\n",
       "    </tr>\n",
       "    <tr>\n",
       "      <th>1488</th>\n",
       "      <td>Yonex Poly Tour Spin G 1.25</td>\n",
       "      <td>40</td>\n",
       "      <td>Fast</td>\n",
       "      <td>Polyester</td>\n",
       "      <td>214.9</td>\n",
       "      <td>44.1</td>\n",
       "      <td>4.8</td>\n",
       "      <td>Yonex</td>\n",
       "      <td>Poly Tour Spin G 1.25</td>\n",
       "      <td>3</td>\n",
       "      <td>True</td>\n",
       "    </tr>\n",
       "    <tr>\n",
       "      <th>1489</th>\n",
       "      <td>Yonex Poly Tour Spin G 1.25</td>\n",
       "      <td>51</td>\n",
       "      <td>Fast</td>\n",
       "      <td>Polyester</td>\n",
       "      <td>237.2</td>\n",
       "      <td>25.7</td>\n",
       "      <td>4.8</td>\n",
       "      <td>Yonex</td>\n",
       "      <td>Poly Tour Spin G 1.25</td>\n",
       "      <td>3</td>\n",
       "      <td>True</td>\n",
       "    </tr>\n",
       "    <tr>\n",
       "      <th>1490</th>\n",
       "      <td>Yonex Poly Tour Spin G 1.25</td>\n",
       "      <td>62</td>\n",
       "      <td>Fast</td>\n",
       "      <td>Polyester</td>\n",
       "      <td>252.6</td>\n",
       "      <td>20.7</td>\n",
       "      <td>4.8</td>\n",
       "      <td>Yonex</td>\n",
       "      <td>Poly Tour Spin G 1.25</td>\n",
       "      <td>3</td>\n",
       "      <td>True</td>\n",
       "    </tr>\n",
       "    <tr>\n",
       "      <th>1491</th>\n",
       "      <td>Yonex Tournament 50 16L</td>\n",
       "      <td>40</td>\n",
       "      <td>Fast</td>\n",
       "      <td>Nylon</td>\n",
       "      <td>142.3</td>\n",
       "      <td>24.4</td>\n",
       "      <td>NaN</td>\n",
       "      <td>Yonex</td>\n",
       "      <td>Tournament 50 16L</td>\n",
       "      <td>3</td>\n",
       "      <td>True</td>\n",
       "    </tr>\n",
       "    <tr>\n",
       "      <th>1492</th>\n",
       "      <td>Yonex Tournament 50 16L</td>\n",
       "      <td>51</td>\n",
       "      <td>Fast</td>\n",
       "      <td>Nylon</td>\n",
       "      <td>167.4</td>\n",
       "      <td>20.7</td>\n",
       "      <td>NaN</td>\n",
       "      <td>Yonex</td>\n",
       "      <td>Tournament 50 16L</td>\n",
       "      <td>3</td>\n",
       "      <td>True</td>\n",
       "    </tr>\n",
       "    <tr>\n",
       "      <th>1493</th>\n",
       "      <td>Yonex Tournament 50 16L</td>\n",
       "      <td>62</td>\n",
       "      <td>Fast</td>\n",
       "      <td>Nylon</td>\n",
       "      <td>191.5</td>\n",
       "      <td>20.5</td>\n",
       "      <td>NaN</td>\n",
       "      <td>Yonex</td>\n",
       "      <td>Tournament 50 16L</td>\n",
       "      <td>3</td>\n",
       "      <td>True</td>\n",
       "    </tr>\n",
       "    <tr>\n",
       "      <th>1494</th>\n",
       "      <td>Yonex Tournament 80 Spin 15L-16</td>\n",
       "      <td>40</td>\n",
       "      <td>Fast</td>\n",
       "      <td>NaN</td>\n",
       "      <td>133.7</td>\n",
       "      <td>24.6</td>\n",
       "      <td>NaN</td>\n",
       "      <td>Yonex</td>\n",
       "      <td>Tournament 80 Spin 15L-16</td>\n",
       "      <td>3</td>\n",
       "      <td>True</td>\n",
       "    </tr>\n",
       "    <tr>\n",
       "      <th>1495</th>\n",
       "      <td>Yonex Tournament 80 Spin 15L-16</td>\n",
       "      <td>51</td>\n",
       "      <td>Fast</td>\n",
       "      <td>NaN</td>\n",
       "      <td>161.7</td>\n",
       "      <td>21.7</td>\n",
       "      <td>NaN</td>\n",
       "      <td>Yonex</td>\n",
       "      <td>Tournament 80 Spin 15L-16</td>\n",
       "      <td>3</td>\n",
       "      <td>True</td>\n",
       "    </tr>\n",
       "    <tr>\n",
       "      <th>1496</th>\n",
       "      <td>Yonex Tournament 80 Spin 15L-16</td>\n",
       "      <td>62</td>\n",
       "      <td>Fast</td>\n",
       "      <td>NaN</td>\n",
       "      <td>185.2</td>\n",
       "      <td>20.8</td>\n",
       "      <td>NaN</td>\n",
       "      <td>Yonex</td>\n",
       "      <td>Tournament 80 Spin 15L-16</td>\n",
       "      <td>3</td>\n",
       "      <td>True</td>\n",
       "    </tr>\n",
       "  </tbody>\n",
       "</table>\n",
       "<p>1473 rows × 11 columns</p>\n",
       "</div>"
      ],
      "text/plain": [
       "                          brand_plus_string  ref_tension_lbs swing_speed  \\\n",
       "0                    Alien Black Diamond 16               40        Fast   \n",
       "1                    Alien Black Diamond 16               51        Fast   \n",
       "2                    Alien Black Diamond 16               62        Fast   \n",
       "3                         Alpha Gut 2000 16               40        Fast   \n",
       "4                         Alpha Gut 2000 16               51        Fast   \n",
       "5                         Alpha Gut 2000 16               62        Fast   \n",
       "6                       Ashaway Dynamite 17               40        Fast   \n",
       "7                       Ashaway Dynamite 17               51        Fast   \n",
       "8                       Ashaway Dynamite 17               62        Fast   \n",
       "9                  Ashaway Dynamite Soft 17               40        Fast   \n",
       "10                 Ashaway Dynamite Soft 17               51        Fast   \n",
       "11                 Ashaway Dynamite Soft 17               62        Fast   \n",
       "12                 Ashaway Dynamite Soft 18               40        Fast   \n",
       "13                 Ashaway Dynamite Soft 18               51        Fast   \n",
       "14                 Ashaway Dynamite Soft 18               62        Fast   \n",
       "15                   Ashaway Dynamite WB 16               40        Fast   \n",
       "16                   Ashaway Dynamite WB 16               51        Fast   \n",
       "17                   Ashaway Dynamite WB 16               62        Fast   \n",
       "18                       Ashaway Liberty 16               40        Fast   \n",
       "19                       Ashaway Liberty 16               51        Fast   \n",
       "20                       Ashaway Liberty 16               62        Fast   \n",
       "21                      Ashaway MonoGut 16L               40        Fast   \n",
       "22                      Ashaway MonoGut 16L               51        Fast   \n",
       "23                      Ashaway MonoGut 16L               62        Fast   \n",
       "24                       Ashaway MonoGut 17               40        Fast   \n",
       "25                       Ashaway MonoGut 17               51        Fast   \n",
       "26                       Ashaway MonoGut 17               62        Fast   \n",
       "27                    Ashaway MonoGut ZX 16               40        Fast   \n",
       "28                    Ashaway MonoGut ZX 16               51        Fast   \n",
       "29                    Ashaway MonoGut ZX 16               62        Fast   \n",
       "...                                     ...              ...         ...   \n",
       "1467                  Wilson Spin Cycle 16L               40        Fast   \n",
       "1468                  Wilson Spin Cycle 16L               51        Fast   \n",
       "1469                  Wilson Spin Cycle 16L               62        Fast   \n",
       "1470                      Wilson Stamina 16               40        Fast   \n",
       "1471                      Wilson Stamina 16               51        Fast   \n",
       "1472                      Wilson Stamina 16               62        Fast   \n",
       "1473        Wilson Synthetic Gut Extreme 17               40        Fast   \n",
       "1474        Wilson Synthetic Gut Extreme 17               51        Fast   \n",
       "1475        Wilson Synthetic Gut Extreme 17               62        Fast   \n",
       "1476                 Y-Tex Quadro Twist 16L               40        Fast   \n",
       "1477                 Y-Tex Quadro Twist 16L               51        Fast   \n",
       "1478                 Y-Tex Quadro Twist 16L               62        Fast   \n",
       "1479                 Yonex Poly Tour 130/16               40        Fast   \n",
       "1480                 Yonex Poly Tour 130/16               51        Fast   \n",
       "1481                 Yonex Poly Tour 130/16               62        Fast   \n",
       "1482   Yonex Poly Tour Pro Yellow 16 (1.30)               40        Fast   \n",
       "1483   Yonex Poly Tour Pro Yellow 16 (1.30)               51        Fast   \n",
       "1484   Yonex Poly Tour Pro Yellow 16 (1.30)               62        Fast   \n",
       "1485  Yonex Poly Tour Pro Yellow 16L (1.25)               40        Fast   \n",
       "1486  Yonex Poly Tour Pro Yellow 16L (1.25)               51        Fast   \n",
       "1487  Yonex Poly Tour Pro Yellow 16L (1.25)               62        Fast   \n",
       "1488            Yonex Poly Tour Spin G 1.25               40        Fast   \n",
       "1489            Yonex Poly Tour Spin G 1.25               51        Fast   \n",
       "1490            Yonex Poly Tour Spin G 1.25               62        Fast   \n",
       "1491                Yonex Tournament 50 16L               40        Fast   \n",
       "1492                Yonex Tournament 50 16L               51        Fast   \n",
       "1493                Yonex Tournament 50 16L               62        Fast   \n",
       "1494        Yonex Tournament 80 Spin 15L-16               40        Fast   \n",
       "1495        Yonex Tournament 80 Spin 15L-16               51        Fast   \n",
       "1496        Yonex Tournament 80 Spin 15L-16               62        Fast   \n",
       "\n",
       "        material  stiffness_lbs_per_in  tension_loss_pct  spin_potential  \\\n",
       "0      Polyester                 152.6              61.3             4.5   \n",
       "1      Polyester                 190.3              50.7             4.5   \n",
       "2      Polyester                 223.5              45.8             4.5   \n",
       "3          Nylon                 131.4              22.6             3.1   \n",
       "4          Nylon                 159.4              16.5             3.1   \n",
       "5          Nylon                 180.6              14.4             3.1   \n",
       "6     Nylon/Zyex                 108.6              40.9             3.0   \n",
       "7     Nylon/Zyex                 127.4              29.9             3.0   \n",
       "8     Nylon/Zyex                 144.6              24.5             3.0   \n",
       "9     Nylon/Zyex                 102.3              33.6             2.6   \n",
       "10    Nylon/Zyex                 120.0              28.1             2.6   \n",
       "11    Nylon/Zyex                 135.4              25.6             2.6   \n",
       "12    Nylon/Zyex                  91.4              33.3             NaN   \n",
       "13    Nylon/Zyex                 108.0              28.1             NaN   \n",
       "14    Nylon/Zyex                 127.4              24.8             NaN   \n",
       "15    Nylon/Zyex                 104.6              47.0             3.3   \n",
       "16    Nylon/Zyex                 125.2              32.9             3.3   \n",
       "17    Nylon/Zyex                 142.3              28.4             3.3   \n",
       "18         Nylon                 138.9              26.9             4.6   \n",
       "19         Nylon                 167.4              24.8             4.6   \n",
       "20         Nylon                 179.5              24.1             4.6   \n",
       "21     Polyester                 181.2              53.5             3.5   \n",
       "22     Polyester                 202.9              47.0             3.5   \n",
       "23     Polyester                 229.2              43.1             3.5   \n",
       "24     Polyester                 165.7              57.7             3.9   \n",
       "25     Polyester                 188.6              50.9             3.9   \n",
       "26     Polyester                 217.2              45.0             3.9   \n",
       "27    Nylon/Zyex                  85.2              65.4             4.4   \n",
       "28    Nylon/Zyex                 105.7              47.6             4.4   \n",
       "29    Nylon/Zyex                 118.3              38.0             4.4   \n",
       "...          ...                   ...               ...             ...   \n",
       "1467   Polyester                 158.9              62.7             4.2   \n",
       "1468   Polyester                 205.7              38.7             4.2   \n",
       "1469   Polyester                 234.3              30.6             4.2   \n",
       "1470       Nylon                 156.6              26.3             3.0   \n",
       "1471       Nylon                 183.5              21.2             3.0   \n",
       "1472       Nylon                 210.9              18.6             3.0   \n",
       "1473       Nylon                 152.0              21.9             2.8   \n",
       "1474       Nylon                 185.2              19.2             2.8   \n",
       "1475       Nylon                 206.9              17.5             2.8   \n",
       "1476   Polyester                 128.0              67.9             6.2   \n",
       "1477   Polyester                 177.7              48.5             6.2   \n",
       "1478   Polyester                 214.3              35.2             6.2   \n",
       "1479   Polyester                 194.9              55.6             NaN   \n",
       "1480   Polyester                 217.7              49.1             NaN   \n",
       "1481   Polyester                 256.6              41.8             NaN   \n",
       "1482   Polyester                 173.7              46.4             3.4   \n",
       "1483   Polyester                 191.5              44.5             3.4   \n",
       "1484   Polyester                 200.6              46.3             3.4   \n",
       "1485   Polyester                 172.6              47.8             NaN   \n",
       "1486   Polyester                 181.2              46.3             NaN   \n",
       "1487   Polyester                 188.0              50.8             NaN   \n",
       "1488   Polyester                 214.9              44.1             4.8   \n",
       "1489   Polyester                 237.2              25.7             4.8   \n",
       "1490   Polyester                 252.6              20.7             4.8   \n",
       "1491       Nylon                 142.3              24.4             NaN   \n",
       "1492       Nylon                 167.4              20.7             NaN   \n",
       "1493       Nylon                 191.5              20.5             NaN   \n",
       "1494         NaN                 133.7              24.6             NaN   \n",
       "1495         NaN                 161.7              21.7             NaN   \n",
       "1496         NaN                 185.2              20.8             NaN   \n",
       "\n",
       "        brand                           string  num_count  criteria_pass  \n",
       "0       Alien                 Black Diamond 16          3           True  \n",
       "1       Alien                 Black Diamond 16          3           True  \n",
       "2       Alien                 Black Diamond 16          3           True  \n",
       "3       Alpha                      Gut 2000 16          3           True  \n",
       "4       Alpha                      Gut 2000 16          3           True  \n",
       "5       Alpha                      Gut 2000 16          3           True  \n",
       "6     Ashaway                      Dynamite 17          3           True  \n",
       "7     Ashaway                      Dynamite 17          3           True  \n",
       "8     Ashaway                      Dynamite 17          3           True  \n",
       "9     Ashaway                 Dynamite Soft 17          3           True  \n",
       "10    Ashaway                 Dynamite Soft 17          3           True  \n",
       "11    Ashaway                 Dynamite Soft 17          3           True  \n",
       "12    Ashaway                 Dynamite Soft 18          3           True  \n",
       "13    Ashaway                 Dynamite Soft 18          3           True  \n",
       "14    Ashaway                 Dynamite Soft 18          3           True  \n",
       "15    Ashaway                   Dynamite WB 16          3           True  \n",
       "16    Ashaway                   Dynamite WB 16          3           True  \n",
       "17    Ashaway                   Dynamite WB 16          3           True  \n",
       "18    Ashaway                       Liberty 16          3           True  \n",
       "19    Ashaway                       Liberty 16          3           True  \n",
       "20    Ashaway                       Liberty 16          3           True  \n",
       "21    Ashaway                      MonoGut 16L          3           True  \n",
       "22    Ashaway                      MonoGut 16L          3           True  \n",
       "23    Ashaway                      MonoGut 16L          3           True  \n",
       "24    Ashaway                       MonoGut 17          3           True  \n",
       "25    Ashaway                       MonoGut 17          3           True  \n",
       "26    Ashaway                       MonoGut 17          3           True  \n",
       "27    Ashaway                    MonoGut ZX 16          3           True  \n",
       "28    Ashaway                    MonoGut ZX 16          3           True  \n",
       "29    Ashaway                    MonoGut ZX 16          3           True  \n",
       "...       ...                              ...        ...            ...  \n",
       "1467   Wilson                   Spin Cycle 16L          3           True  \n",
       "1468   Wilson                   Spin Cycle 16L          3           True  \n",
       "1469   Wilson                   Spin Cycle 16L          3           True  \n",
       "1470   Wilson                       Stamina 16          3           True  \n",
       "1471   Wilson                       Stamina 16          3           True  \n",
       "1472   Wilson                       Stamina 16          3           True  \n",
       "1473   Wilson         Synthetic Gut Extreme 17          3           True  \n",
       "1474   Wilson         Synthetic Gut Extreme 17          3           True  \n",
       "1475   Wilson         Synthetic Gut Extreme 17          3           True  \n",
       "1476    Y-Tex                 Quadro Twist 16L          3           True  \n",
       "1477    Y-Tex                 Quadro Twist 16L          3           True  \n",
       "1478    Y-Tex                 Quadro Twist 16L          3           True  \n",
       "1479    Yonex                 Poly Tour 130/16          3           True  \n",
       "1480    Yonex                 Poly Tour 130/16          3           True  \n",
       "1481    Yonex                 Poly Tour 130/16          3           True  \n",
       "1482    Yonex   Poly Tour Pro Yellow 16 (1.30)          3           True  \n",
       "1483    Yonex   Poly Tour Pro Yellow 16 (1.30)          3           True  \n",
       "1484    Yonex   Poly Tour Pro Yellow 16 (1.30)          3           True  \n",
       "1485    Yonex  Poly Tour Pro Yellow 16L (1.25)          3           True  \n",
       "1486    Yonex  Poly Tour Pro Yellow 16L (1.25)          3           True  \n",
       "1487    Yonex  Poly Tour Pro Yellow 16L (1.25)          3           True  \n",
       "1488    Yonex            Poly Tour Spin G 1.25          3           True  \n",
       "1489    Yonex            Poly Tour Spin G 1.25          3           True  \n",
       "1490    Yonex            Poly Tour Spin G 1.25          3           True  \n",
       "1491    Yonex                Tournament 50 16L          3           True  \n",
       "1492    Yonex                Tournament 50 16L          3           True  \n",
       "1493    Yonex                Tournament 50 16L          3           True  \n",
       "1494    Yonex        Tournament 80 Spin 15L-16          3           True  \n",
       "1495    Yonex        Tournament 80 Spin 15L-16          3           True  \n",
       "1496    Yonex        Tournament 80 Spin 15L-16          3           True  \n",
       "\n",
       "[1473 rows x 11 columns]"
      ]
     },
     "execution_count": 4,
     "metadata": {},
     "output_type": "execute_result"
    }
   ],
   "source": [
    "final_specs_df"
   ]
  },
  {
   "cell_type": "markdown",
   "metadata": {},
   "source": [
    "# Create Interactive Scatter Plot"
   ]
  },
  {
   "cell_type": "code",
   "execution_count": 10,
   "metadata": {
    "scrolled": false
   },
   "outputs": [],
   "source": [
    "# Remove rows in final dataframe where the material is not specified\n",
    "final_specs_df.dropna(subset=['material'], inplace=True)\n",
    "\n",
    "# Create a dictionary of dataframes, one for each material at each reference tension\n",
    "dfs_dict = {}\n",
    "for material in list(final_specs_df.material.unique()):\n",
    "    dfs_dict[material] = {}\n",
    "    for ref_ten in [40, 51, 62]:\n",
    "        dfs_dict[material][ref_ten] = final_specs_df[(final_specs_df.material == material) &\n",
    "                                                     (final_specs_df.ref_tension_lbs == ref_ten) & \n",
    "                                                     (final_specs_df.spin_potential > 0)].copy()\n",
    "\n",
    "# Define dictionary to specify colors of the scatter markers\n",
    "material_color_dict = {'Polyester': 'rgba(17, 28, 242, 0.5)',\n",
    "                       'Nylon': 'rgba(63, 191, 127, 0.5)',\n",
    "                       'Nylon/Zyex': 'rgba(242, 137, 17, 0.5)',\n",
    "                       'Nylon/Polyester': 'rgba(148, 17, 242, 0.5)',\n",
    "                       'Nylon/Polyurethane': 'rgba(242, 36, 17, 0.5)',\n",
    "                       'Nylon/Polyolefin': 'rgba(17, 223, 242, 0.5)',\n",
    "                       'Gut': 'rgba(223, 242, 17, 0.5)',\n",
    "                       'Polyolefin': 'rgba(247, 17, 228, 0.5)'}\n",
    "\n",
    "# Define dictionary to specify axis titles\n",
    "axis_title_dict = {'stiffness_lbs_per_in': 'Stiffness (lbs/in)',\n",
    "                   'spin_potential': 'Spin Potential',\n",
    "                   'tension_loss_pct': 'Tension Loss %'}\n",
    "\n",
    "# Define layout\n",
    "layout = go.Layout(\n",
    "    xaxis={'ticks': 'inside',\n",
    "           'ticklen': 10,\n",
    "           'showgrid': False},\n",
    "    yaxis={'ticks': 'inside',\n",
    "           'ticklen': 10,\n",
    "           'showgrid': False},\n",
    "    legend_orientation='h',\n",
    "    width=900,\n",
    "    height=1000)"
   ]
  },
  {
   "cell_type": "code",
   "execution_count": 16,
   "metadata": {
    "collapsed": true
   },
   "outputs": [],
   "source": [
    "def create_scatter_plot(property_x, property_y, ref_tension):\n",
    "    \n",
    "    \"\"\"\n",
    "        Function that creates an interactive scatter plot, given 2 properties and\n",
    "        reference tension (i.e. 40, 51, 62 lbs) as input.\n",
    "    \"\"\"\n",
    "    \n",
    "    # Create data traces\n",
    "    traces = []\n",
    "    for material in list(final_specs_df.material.unique()):\n",
    "        trace = go.Scatter(x=dfs_dict[material][ref_tension][property_x],\n",
    "                           y=dfs_dict[material][ref_tension][property_y],\n",
    "                           mode='markers',\n",
    "                           marker={'color': material_color_dict[material],\n",
    "                                   'size': 10},\n",
    "                           marker_line_width=1,\n",
    "                           name=material,\n",
    "                           hovertext=list(dfs_dict[material][ref_tension]['brand_plus_string']))\n",
    "        traces.append(trace)\n",
    "\n",
    "    # Create figure\n",
    "    fig = go.Figure(data=traces, layout=layout)\n",
    "    fig.update_layout(\n",
    "        font={'family': \"Courier New\",\n",
    "              'size': 20,\n",
    "              'color': \"rgba(0, 0, 0, 1)\"})\n",
    "    fig.update_layout(\n",
    "        title='Ref. Tension {0} lbs'.format(ref_tension))\n",
    "    fig.update_layout(\n",
    "        xaxis={'title': axis_title_dict[property_x]},\n",
    "        yaxis={'title': axis_title_dict[property_y]})\n",
    "\n",
    "    # Show plot\n",
    "    py.offline.iplot(fig)"
   ]
  },
  {
   "cell_type": "markdown",
   "metadata": {},
   "source": [
    "## Mouse over scatter points for string info."
   ]
  },
  {
   "cell_type": "code",
   "execution_count": 17,
   "metadata": {},
   "outputs": [
    {
     "data": {
      "application/vnd.plotly.v1+json": {
       "config": {
        "linkText": "Export to plot.ly",
        "plotlyServerURL": "https://plot.ly",
        "showLink": false
       },
       "data": [
        {
         "hovertext": [
          "Alien Black Diamond 16",
          "Ashaway MonoGut 16L",
          "Ashaway MonoGut 17",
          "Babolat Ballistic Polymono 16",
          "Babolat Hurricane Feel 16",
          "Babolat Hurricane Feel 17",
          "Babolat Pro Hurricane 17",
          "Babolat Pro Hurricane 18",
          "Babolat Pro Hurricane Tour 16",
          "Babolat Pro Hurricane Tour 17",
          "Babolat RPM Blast 16",
          "Babolat RPM Blast 17/1.25",
          "Babolat RPM Dual 16",
          "Babolat RPM Team 16 Black",
          "Boris Becker Bomber 16",
          "Diadem Solstice Power 16 (1.30)",
          "Diadem Solstice Power 17 (1.20)",
          "Double AR Diablo (1.24)",
          "Double AR Diablo (1.31)",
          "Double AR Raptor 1.27",
          "Double AR Twice Dragon(1.30)",
          "Double AR Twice Shark (1.25)",
          "Double AR WTS 25 (1.25)",
          "Dunlop Black Widow 16",
          "Dunlop Black Widow 17",
          "Dunlop Comfort Poly 17",
          "Dunlop Explosive 16",
          "Dunlop Juice 16 (1.31)",
          "Dunlop Juice 17 (1.26)",
          "Gamma Monoblast 16",
          "Gamma Moto 16",
          "Gamma Poly Z 16",
          "Gamma RZR Rx 16",
          "Gamma Zo Black Ice 17 (1.23)",
          "Gamma Zo Black Ice 18 (1.18)",
          "Gamma Zo Ice 16",
          "Gamma Zo Magic 16",
          "Gamma Zo Tour 17 (1.25)",
          "Gamma Zo Tour Rough 16",
          "Gamma Zo Twist 16",
          "Gamma Zo Verve 17",
          "Gosen Polylon 16",
          "Gosen Polylon 17 (1.24)",
          "Gosen Polylon Comfort 16",
          "Gosen Polylon PolyBreak 17 (1.24)",
          "Gosen Polylon PolyBreak 18 (1.20)",
          "Gosen Polylon SP 16 (1.30)",
          "Gosen Polylon SP 17 (1.24)",
          "Gosen Polymaster I 16",
          "Gosen Polymaster II 16",
          "Gosen Sidewinder 17",
          "Head Hawk 17 (1.25)",
          "Head Lynx 16 (1.30)",
          "Head Sonic Pro 16",
          "Head Sonic Pro 17",
          "Head Sonic Pro Edge 16",
          "Head Ultra Tour 16",
          "Head Ultratour 17",
          "IsoSpeed Axon Mono 16L",
          "IsoSpeed Black Fire 17",
          "IsoSpeed Pulse 16",
          "IsoSpeed Pyramid 16",
          "Kirschbaum Black Shark 16 (1.30)",
          "Kirschbaum Black Shark 17 (1.25)",
          "Kirschbaum Competition 16/1.30",
          "Kirschbaum Competition 17 (1.25)",
          "Kirschbaum Competition 17L (1.20)",
          "Kirschbaum Helix 16",
          "Kirschbaum Helix 17",
          "Kirschbaum Long Life 15",
          "Kirschbaum Max Power 17 (1.25)",
          "Kirschbaum P2 16/1.30",
          "Kirschbaum P2 17 (1.25)",
          "Kirschbaum P2 17L (1.20)",
          "Kirschbaum Pro Line I 1.30",
          "Kirschbaum Pro Line I 17 (1.25)",
          "Kirschbaum Pro Line I 17L (1.20)",
          "Kirschbaum Pro Line I 18L (1.15)",
          "Kirschbaum Pro Line II 1.30",
          "Kirschbaum Pro Line II 17 (1.25)",
          "Kirschbaum Pro Line II 17L (1.20)",
          "Kirschbaum Pro Line II 18 (1.15)",
          "Kirschbaum Pro Line X 16 (1.30)",
          "Kirschbaum Pro Line X 17 (1.25)",
          "Kirschbaum Spiky Shark 16",
          "Kirschbaum Spiky Shark 17",
          "Kirschbaum Super Smash 16/1.30",
          "Kirschbaum Super Smash 17 (1.25)",
          "Kirschbaum Super Smash Spiky 1.20",
          "Kirschbaum Super Smash Spiky 16/1.30",
          "Kirschbaum Super Smash Spiky 17 (1.25)",
          "Kirschbaum Touch Turbo 1.30",
          "Kirschbaum Touch Turbo 16L (1.275)",
          "Klip Hardcore 16/1.30",
          "Klip K-Boom 16/1.30",
          "L-Tec Premium 3S 16L (1.25)",
          "L-Tec Premium 4S 16L (1.25)",
          "L-Tec Premium 5S 16L (1.25)",
          "L-Tec Premium OS 17 (1.23)",
          "L-Tec Premium Pro OS 16L",
          "Leopard Plus Control 16",
          "Luxilon 4G 16L (1.25)",
          "Luxilon 4G Rough 16L",
          "Luxilon 4G Soft 1.25",
          "Luxilon ALU Power 125/16L",
          "Luxilon ALU Power Feel 18/1.20",
          "Luxilon Adrenaline 16",
          "Luxilon Adrenaline 16L/1.25",
          "Luxilon Adrenaline 17/1.20",
          "Luxilon Adrenaline Rough 16L/1.25",
          "Luxilon Alu Power Soft 1.25",
          "Luxilon Big Banger ALU Power Spin 127/16",
          "Luxilon Big Banger Ace 18 (1.12)",
          "Luxilon Big Banger Original 130/16",
          "Luxilon Big Banger Rough 130/16",
          "Luxilon Big Banger TiMO 17L (1.17)",
          "Luxilon Big Banger Timo 17 (1.22)",
          "Luxilon Big Banger Timo 18 (1.10)",
          "Luxilon Big Banger XP 125/16L",
          "Luxilon Big Banger XP 15L (1.38)",
          "Luxilon Element 1.30",
          "Luxilon M2 Pro 125/16",
          "Luxilon Monotec Super Poly 1.25/16L",
          "Luxilon Monotec Supersense 16L/1.25",
          "Luxilon Monotec Zolo 15L",
          "Luxilon Savage 16/1.27",
          "MSV Co.-Focus 16L",
          "MSV Focus Evo 16",
          "MSV Focus Evo 17",
          "MSV Focus Hex 17L (1.18)",
          "MSV Focus Hex Soft 17 (1.25)",
          "MSV Hepta-Twist 17",
          "Mantis Comfort Poly 16",
          "Mantis Power Poly 17",
          "One Strings Carbon NRG 16",
          "Pacific ATP Poly Power Pro 16L",
          "Pacific Poly Force 16L",
          "Pacific Poly Force 17",
          "Pacific Poly Force Xtreme 16L",
          "Pacific X Force 17",
          "Pacific X Force 18",
          "Poly Star Classic 16 (1.30)",
          "Poly Star Classic 16L (1.25)",
          "Poly Star Classic 17 (1.20)",
          "Poly Star Energy 16 (1.30)",
          "Poly Star Energy 16L (1.25)",
          "Poly Star Energy 17 (1.20)",
          "Poly Star Strike 16 (1.30)",
          "Poly Star Strike 16L (1.25)",
          "Poly Star Turbo 16 (1.30)",
          "Poly Star Turbo 16L (1.25)",
          "Polyfibre Black Venom 16 (1.30)",
          "Polyfibre Cobra 17/1.20",
          "Polyfibre Hexablade 16L (1.25)",
          "Polyfibre Hexablade 17L (1.18)",
          "Polyfibre Hightec Premium 16/1.30",
          "Polyfibre Hightec Premium 16L",
          "Polyfibre Hightec Premium 17",
          "Polyfibre Poly Hightec 16/1.30",
          "Polyfibre Poly Hightec 16L",
          "Polyfibre Poly Hightec 17",
          "Polyfibre Poly Hightec 18",
          "Polyfibre TCS 16/1.30",
          "Polyfibre TCS 16L",
          "Polyfibre TCS 17",
          "Polyfibre TCS Rapid 16L/1.25",
          "Polyfibre Viper 17/1.20",
          "Prince Beast XP 16",
          "Prince Poly EXP 17",
          "Prince Poly Spin 3D",
          "Prince Tour 16",
          "Prince Tour 17",
          "Prince Tour XC 15L",
          "Prince Tour XC 16L",
          "Prince Tour XC 17L",
          "Prince Tour XP 15L",
          "Prince Tour XP 16",
          "Prince Tour XS 1.35",
          "Prince Tour XS 16",
          "Prince Tour XT 18",
          "Prince Twisted 16L",
          "RS RS Lyon 17",
          "Signum Pro Firestorm 1.25",
          "Signum Pro Hyperion 16",
          "Signum Pro Hyperion 17 (1.24)",
          "Signum Pro Poly Megaforce 16",
          "Signum Pro Poly Megaforce 17 (1.19)",
          "Signum Pro Poly-Plasma 16L",
          "Signum Pro Poly-Plasma 17L (1.18)",
          "Signum Pro Poly-Plasma Pure 16L",
          "Signum Pro Poly-Plasma Pure 17 (1.23)",
          "Signum Pro Tornado 16",
          "Signum Pro Tornado 17 (1.23)",
          "Solinco Barb Wire 16",
          "Solinco Barb Wire 17 (1.20)",
          "Solinco Hyper-G 16",
          "Solinco Outlast 16",
          "Solinco Outlast 17",
          "Solinco Revolution 16",
          "Solinco Revolution 17",
          "Solinco Tour Bite 16",
          "Solinco Tour Bite 16 Soft",
          "Solinco Tour Bite 16L (1.25)",
          "Solinco Tour Bite 17",
          "Solinco Tour Bite 18 (1.15)",
          "Solinco Tour Bite Diamond Rough 16 (1.30)",
          "Solinco Tour Bite Diamond Rough 16L (1.25)",
          "Solinco Tour Bite Diamond Rough 17 (1.20)",
          "SuperString Nikita Original 1.25",
          "SuperString Viper V2 Rough 16L",
          "Tecnifibre Black Code 17",
          "Tecnifibre Black Code 18",
          "Tecnifibre Black Code 4S 17 (1.25)",
          "Tecnifibre Polyspin 16L",
          "Tecnifibre Pro Red Code 16",
          "Tecnifibre Pro Red Code 17",
          "Tecnifibre Pro Red Code 18",
          "Tecnifibre Razor Code 16 (1.30)",
          "Tecnifibre X-Code 16",
          "Topspin Cyber Blue 16",
          "Topspin Cyber Blue 17",
          "Topspin Cyber Flash 16",
          "Topspin Cyber Flash 17",
          "Topspin Cyber Flash 17L",
          "Tourna Big Hitter Black 7 17",
          "Tourna Big Hitter Blue 17",
          "Tourna Big Hitter Blue Rough 16",
          "Tourna Big Hitter Blue Rough 17",
          "Tourna Big Hitter Silver 17",
          "Tourna Big Hitter Silver Rough 16",
          "Tourna Big Hitter Silver Rough 17",
          "Tourna Black Zone 16",
          "Volkl Cyclone 16",
          "Volkl Cyclone 17",
          "Volkl Cyclone 18",
          "Volkl Cyclone 19 (1.10)",
          "Volkl Cyclone Tour 17 (1.25)",
          "Volkl V-Pro 16",
          "Volkl V-Pro 17",
          "Volkl V-Pro 18",
          "Volkl V-Star 16 (1.30)",
          "Volkl V-Torque 16",
          "Weiss Cannon Black 5 Edge 17 (1.24)",
          "Weiss Cannon MatchPower 1.25",
          "Weiss Cannon Scorpion 1.22",
          "Weiss Cannon Scorpion 1.33",
          "Weiss Cannon Silverstring 1.25",
          "Weiss Cannon Silverstring 120",
          "Weiss Cannon Turbotwist 17 (1.24)",
          "Weiss Cannon Turbotwist 17L (1.18)",
          "Wilson Enduro Pro 16",
          "Wilson Enduro Tour 16",
          "Wilson Enduro Tour 17",
          "Wilson Revolve 17 (1.25)",
          "Wilson Ripspin 15",
          "Wilson Ripspin 16",
          "Wilson Ripspin 17",
          "Wilson Spin Cycle 16L",
          "Y-Tex Quadro Twist 16L",
          "Yonex Poly Tour Pro Yellow 16 (1.30)",
          "Yonex Poly Tour Spin G 1.25"
         ],
         "marker": {
          "color": "rgba(17, 28, 242, 0.5)",
          "line": {
           "width": 1
          },
          "size": 10
         },
         "mode": "markers",
         "name": "Polyester",
         "type": "scatter",
         "x": [
          190.3,
          202.9,
          188.6,
          217.7,
          249.7,
          239.5,
          192.6,
          185.2,
          227.5,
          214.9,
          232.6,
          233.7,
          237.2,
          280.6,
          204.6,
          202.9,
          196.6,
          166.9,
          169.7,
          238.3,
          170.9,
          143.4,
          168,
          193.2,
          216.6,
          236.6,
          233.2,
          215.5,
          208.6,
          220.6,
          226.9,
          179.5,
          196,
          211.5,
          199.5,
          223.5,
          248,
          204,
          186.9,
          190.3,
          230.9,
          206.9,
          208,
          189.2,
          195.5,
          165.2,
          184.6,
          174.9,
          186.9,
          172,
          159.4,
          204.6,
          185.7,
          160.6,
          164.6,
          194.9,
          201.7,
          207.5,
          199.5,
          204.6,
          164.6,
          174.9,
          223.5,
          216.6,
          210.3,
          210.3,
          190.3,
          204.6,
          208.6,
          231.5,
          240.6,
          218.9,
          235.5,
          197.2,
          224.6,
          204.6,
          194.9,
          189.2,
          209.7,
          201.2,
          193.2,
          182.9,
          240,
          218.3,
          216,
          197.7,
          221.7,
          210.9,
          205.2,
          216.6,
          214.3,
          218.3,
          196,
          193.2,
          237.2,
          220,
          233.7,
          210.3,
          224,
          253.7,
          225.7,
          258.9,
          216,
          217.2,
          209.2,
          186.9,
          212.6,
          202.9,
          208,
          202.9,
          197.7,
          213.7,
          203.5,
          213.2,
          212.6,
          204,
          206.9,
          189.2,
          209.2,
          236.6,
          191.5,
          181.7,
          233.2,
          209.7,
          219.5,
          234.3,
          184.6,
          226.3,
          206.9,
          224,
          228,
          181.2,
          224.6,
          203.5,
          180,
          194.3,
          208,
          233.2,
          218.3,
          225.7,
          208.6,
          185.7,
          174.9,
          166.9,
          173.2,
          169.7,
          165.2,
          201.2,
          184,
          165.2,
          168.6,
          180,
          154.3,
          172,
          168.6,
          174.3,
          170.3,
          157.7,
          173.2,
          169.2,
          157.7,
          150.3,
          173.2,
          166.9,
          158.9,
          160,
          157.7,
          198.9,
          217.7,
          178.9,
          214.9,
          198.9,
          208.6,
          205.7,
          205.7,
          184.6,
          198.3,
          195.5,
          196.6,
          184,
          230.3,
          196.6,
          197.7,
          220,
          202.3,
          234.9,
          213.2,
          225.7,
          197.2,
          221.2,
          199.5,
          215.5,
          214.3,
          214.3,
          186.3,
          219.5,
          208,
          182.9,
          215.5,
          188.6,
          202.9,
          184,
          237.7,
          181.2,
          161.7,
          192.6,
          191.5,
          181.7,
          198.9,
          194.3,
          236,
          202.9,
          209.2,
          226.9,
          232,
          225.7,
          217.2,
          242.9,
          188,
          189.7,
          183.5,
          185.2,
          158.9,
          144,
          175.5,
          222.3,
          222.3,
          209.7,
          185.7,
          206.3,
          197.2,
          197.2,
          197.2,
          191.5,
          181.2,
          182.9,
          170.9,
          233.7,
          188,
          213.2,
          172.6,
          181.7,
          215.5,
          218.3,
          192.6,
          222.9,
          195.5,
          167.4,
          216.6,
          203.5,
          219.5,
          251.5,
          169.7,
          192,
          212,
          212,
          209.2,
          205.7,
          177.7,
          191.5,
          237.2
         ],
         "y": [
          4.5,
          3.5,
          3.9,
          4.7,
          4.7,
          4.4,
          3.1,
          3.3,
          5.1,
          5.2,
          4.5,
          4.6,
          4.6,
          3.9,
          5.1,
          8.1,
          8.6,
          7.4,
          7.7,
          5.3,
          7.2,
          5.7,
          7.3,
          5.2,
          5.4,
          4.5,
          4.8,
          3.6,
          3.9,
          3.8,
          5.8,
          5.4,
          3.9,
          3.7,
          4,
          4.2,
          4.1,
          3.7,
          6.1,
          4.7,
          6.1,
          4.1,
          4.3,
          5.5,
          4.2,
          4.8,
          4,
          4.6,
          4.7,
          5.1,
          4.6,
          4.7,
          7,
          4.2,
          3.9,
          4.8,
          4.5,
          4.1,
          3.2,
          5.6,
          4.7,
          7,
          5.4,
          5.8,
          4.9,
          4.5,
          4.1,
          5.4,
          5.4,
          4.6,
          5.4,
          5.2,
          4.9,
          4.8,
          4.4,
          4.1,
          3.9,
          4.4,
          5.7,
          4.7,
          4.8,
          4.5,
          5.1,
          4.8,
          7.5,
          7.4,
          5.3,
          5.7,
          5.1,
          5,
          5.2,
          5.3,
          5.4,
          4.7,
          4.1,
          4,
          6.7,
          4,
          4.1,
          4.3,
          3.9,
          3.9,
          4.2,
          6.7,
          5.8,
          5.4,
          3.6,
          3.5,
          2.9,
          3.3,
          6.9,
          4.3,
          4,
          4.8,
          4.4,
          4.4,
          3.9,
          3.6,
          4.1,
          3.6,
          6.6,
          3.6,
          3.3,
          2.1,
          4.6,
          3.4,
          4.2,
          4.9,
          4.5,
          6.5,
          6.3,
          5.7,
          4.8,
          4.8,
          5.1,
          5,
          4.5,
          4.5,
          5,
          4.5,
          4.7,
          4.2,
          4.4,
          4,
          4,
          3.7,
          4,
          5.1,
          4.8,
          5.3,
          5,
          4.3,
          3.6,
          4.6,
          5.2,
          4.2,
          4.4,
          3.9,
          4.1,
          4.4,
          4,
          3.9,
          4.4,
          3.8,
          4.2,
          4.3,
          3.9,
          3.9,
          4.4,
          3.3,
          3.1,
          3.4,
          5.5,
          5.5,
          5.9,
          5.2,
          5.5,
          5,
          5.5,
          6.4,
          3.7,
          5.4,
          4.8,
          4.6,
          4.2,
          4.3,
          4.8,
          4.7,
          5,
          5.6,
          5.2,
          5.1,
          4.8,
          4.4,
          4.9,
          7,
          6,
          5.5,
          6.4,
          6.6,
          6.7,
          6.9,
          5.9,
          6.3,
          5.8,
          4.9,
          5.4,
          4.3,
          3.4,
          5,
          4.2,
          4.6,
          9.8,
          3.8,
          4.9,
          4.8,
          5,
          4.2,
          2,
          5.8,
          5.1,
          4.8,
          4.2,
          4.6,
          6.3,
          4.9,
          3.4,
          3.2,
          5.4,
          4.5,
          4.1,
          5.6,
          6.2,
          5.8,
          7.1,
          8.2,
          6.1,
          5,
          5.1,
          4.9,
          6.9,
          5.6,
          4.7,
          3.6,
          4,
          4.2,
          3.8,
          3.7,
          4.2,
          4.8,
          4.7,
          5.2,
          4.8,
          7.7,
          4.9,
          5.2,
          5.2,
          4.2,
          6.2,
          3.4,
          4.8
         ]
        },
        {
         "hovertext": [
          "Alpha Gut 2000 16",
          "Ashaway Liberty 16",
          "Ashaway Synthetic Gut 16",
          "Babolat Addiction 16",
          "Babolat Addiction 17",
          "Babolat Conquest 16",
          "Babolat FiberTour 16",
          "Babolat Origin 17",
          "Babolat SG SpiralTek 16",
          "Babolat Super Fine Play 16",
          "Babolat Xcel 16",
          "Babolat Xcel Power 16",
          "Babolat Xcel Power 17",
          "Double AR 666 (1.30)",
          "Dunlop Comfort Synthetic 16",
          "Dunlop DNA 16 (1.30)",
          "Dunlop DNA 17 (1.22)",
          "Dunlop Explosive Synthetic 16",
          "Dunlop Hexy Fiber 16",
          "Dunlop Hexy Fiber 17",
          "Dunlop M-Fil Tour 16",
          "Dunlop Silk 16 (1.30)",
          "Dunlop Silk 17",
          "Dunlop Synthetic Gut 16",
          "Dunlop Tour Performance 16",
          "Dunlop X-Life Synthetic 15L",
          "Forten Sweet 16",
          "Gamma Asterisk 16",
          "Gamma Asterisk Spin 16",
          "Gamma ESP 16",
          "Gamma Glide Cross String 16",
          "Gamma Prodigy 16",
          "Gamma Professional 17",
          "Gamma Synthetic Gut 16",
          "Gamma TNT2 16",
          "Gamma TNT2 Pro Plus 16",
          "Gamma TNT2 Rx 16",
          "Gamma TNT2 Touch 16",
          "Gamma WearGuard Synthetic Gut 16",
          "Gosen A.K. Control 16",
          "Gosen AK Pro 16",
          "Gosen AK Pro 17",
          "Gosen Compositemaster I 16",
          "Gosen Compositemaster II 16",
          "Gosen Nanocubic 16",
          "Gosen Nanosilver 17",
          "Gosen OG Sheep Micro 17",
          "Gosen OG Sheep Micro 18",
          "Gosen OG Sheep Micro Super 16L",
          "Gosen OG-Sheep Micro 16",
          "Gosen Powermaster I 16",
          "Gosen Powermaster II 16",
          "Head ETS 16",
          "Head ETS 17",
          "Head FXP 17",
          "Head FXP Power 16",
          "Head FXP Power 17",
          "Head Fibergel Power 16",
          "Head Fibergel Power 17",
          "Head Fibergel Spin 16",
          "Head Reflex MLT 16 (1.30)",
          "Head Synthetic Gut 16",
          "Head Synthetic Gut PPS 16",
          "Kirschbaum Touch Multifibre 16",
          "Kirschbaum Touch Multifibre 17 (1.25)",
          "Klip Excellerator 16/1.30",
          "Klip Kicker 16",
          "Klip Scorcher 16/1.30",
          "Klip Synthetic Gut 16",
          "Klip Venom 16/1.30",
          "Mantis Comfort Synthetic 16",
          "Pacific PMX 16L",
          "Pacific Power Line 16L",
          "Pacific Power Line 17",
          "Pacific Power Twist 16L",
          "Pacific Premium Power X 16L",
          "Prince Lightning XX 16",
          "Prince Lightning XX 17",
          "Prince Premier Control 15",
          "Prince Premier Control 15L",
          "Prince Premier Control 16",
          "Prince Premier Control 17",
          "Prince Premier LT 17",
          "Prince Premier LT 18",
          "Prince Premier Power 16",
          "Prince Premier Power 17",
          "Prince Premier Power 18",
          "Prince Premier Touch 15L",
          "Prince Premier Touch 16",
          "Prince Premier Touch 17",
          "Prince Premier W/ Softflex 17",
          "Prince Premier W/Softflex 16",
          "Prince Recoil 16",
          "Prince Syn Gut Original 16",
          "Prince Syn Gut Original 17",
          "Prince Synthetic Gut 18 Duraflex",
          "Prince Synthetic Gut Multifilament 16",
          "Prince Synthetic Gut Multifilament 17",
          "Prince Topspin Plus 16",
          "Prince Topspin W/ Duraflex 15L",
          "Prince Tournament Nylon 15L",
          "Solinco Vanquish 16",
          "Tecnifibre E-Matrix 17",
          "Tecnifibre NRG2 16",
          "Tecnifibre NRG2 17/1.24",
          "Tecnifibre X-One Biphase 18",
          "Tourna Irradiated 16",
          "Volkl Gripper 17",
          "Volkl Power-Fiber II 16",
          "Volkl Power-Fiber II 17",
          "Volkl Power-Fiber II 18",
          "Volkl Synthetic Gut 16",
          "Volkl Synthetic Gut 17",
          "Weiss Cannon Explosiv 1.30",
          "Wilson Extreme 16 Synthetic Gut",
          "Wilson Hollow Core 16",
          "Wilson Hollow Core Pro 16",
          "Wilson Hollow Core Pro 17",
          "Wilson K-Gut 16",
          "Wilson K-Gut Pro 16",
          "Wilson NXT 16",
          "Wilson NXT 17",
          "Wilson NXT Duramax 15 (1.40)",
          "Wilson NXT Max 16",
          "Wilson NXT OS",
          "Wilson NXT Tour 16",
          "Wilson NXT Tour 17",
          "Wilson Optimus 16 (1.30)",
          "Wilson Reaction 16",
          "Wilson Red Alert 16",
          "Wilson SGX 16",
          "Wilson Sensation 16",
          "Wilson Sensation 17",
          "Wilson Sensation Supreme 16",
          "Wilson Shock Shield 16",
          "Wilson Stamina 16",
          "Wilson Synthetic Gut Extreme 17"
         ],
         "marker": {
          "color": "rgba(63, 191, 127, 0.5)",
          "line": {
           "width": 1
          },
          "size": 10
         },
         "mode": "markers",
         "name": "Nylon",
         "type": "scatter",
         "x": [
          159.4,
          167.4,
          166.9,
          167.4,
          153.7,
          174.9,
          163.4,
          171.5,
          161.7,
          191.5,
          150.9,
          162.3,
          145.7,
          161.7,
          177.2,
          146.9,
          145.2,
          179.5,
          141.7,
          144,
          159.4,
          147.4,
          130.9,
          172.6,
          160,
          177.2,
          188.6,
          156.6,
          149.7,
          157.7,
          133.2,
          164.6,
          144.6,
          185.7,
          170.9,
          158.3,
          173.2,
          153.7,
          165.2,
          156.6,
          173.7,
          162.3,
          165.2,
          150.9,
          183.5,
          156.6,
          163.4,
          159.4,
          164,
          183.5,
          162.9,
          157.7,
          156,
          152,
          173.2,
          194.3,
          163.4,
          153.2,
          161.2,
          168.6,
          159.4,
          177.2,
          169.7,
          161.7,
          165.7,
          160.6,
          178.9,
          167.4,
          165.7,
          163.4,
          149.2,
          146.3,
          181.2,
          174.3,
          158.3,
          165.7,
          180.6,
          177.2,
          154.3,
          152.6,
          157.7,
          153.2,
          153.2,
          151.4,
          150.9,
          145.2,
          142.9,
          152.6,
          149.2,
          136.6,
          150.9,
          142.3,
          173.7,
          191.5,
          180.6,
          161.7,
          172.6,
          161.2,
          165.7,
          182.3,
          186.9,
          160,
          143.4,
          158.3,
          164,
          145.7,
          162.9,
          138.3,
          158.9,
          158.9,
          157.2,
          173.7,
          158.9,
          150.9,
          174.3,
          150.3,
          146.9,
          150.3,
          171.5,
          168,
          173.7,
          156,
          161.7,
          169.7,
          169.7,
          180.6,
          175.5,
          140,
          146.3,
          190.9,
          166.3,
          168.6,
          163.4,
          143.4,
          156,
          183.5,
          185.2
         ],
         "y": [
          3.1,
          4.6,
          4.6,
          3.1,
          2.6,
          4.3,
          3.1,
          6.4,
          4.1,
          3.8,
          3,
          3.8,
          3.6,
          5.8,
          4.1,
          3.6,
          4.1,
          3.6,
          3.6,
          3.7,
          4.3,
          3.4,
          3.5,
          3.9,
          4.1,
          3.5,
          3.4,
          3.8,
          3.9,
          2.6,
          3.2,
          3.5,
          2.8,
          3.6,
          3.2,
          3.1,
          4.5,
          3.4,
          2.8,
          5.4,
          4.3,
          4.4,
          4.2,
          4.5,
          4,
          4.5,
          3.2,
          3.2,
          2.7,
          3.4,
          3.9,
          3.7,
          1.9,
          1.9,
          4.1,
          4.6,
          4.5,
          3,
          3.1,
          3.5,
          5.1,
          3.6,
          3.9,
          4.1,
          3.5,
          2.7,
          3.7,
          3.2,
          4.2,
          2.3,
          3.8,
          2,
          3.4,
          3.5,
          3.2,
          3.3,
          3.4,
          3.5,
          4.6,
          4.6,
          5.4,
          4.7,
          3.3,
          3.5,
          4.6,
          4.3,
          5,
          4.4,
          4.1,
          4.2,
          3.2,
          3.3,
          3.4,
          2.9,
          3.8,
          3.6,
          2.7,
          3.1,
          5.3,
          3.5,
          3.1,
          3.9,
          2.4,
          3.2,
          3.5,
          1.6,
          3,
          4.4,
          3.2,
          2.7,
          2.9,
          5.1,
          5.2,
          4,
          3.2,
          3.3,
          2.2,
          3.9,
          4.4,
          1.6,
          3.9,
          2,
          4.5,
          2.5,
          2.5,
          3.8,
          3.6,
          3.6,
          2.4,
          3,
          3.1,
          3.5,
          3.6,
          3,
          2.3,
          3,
          2.8
         ]
        },
        {
         "hovertext": [
          "Ashaway Dynamite 17",
          "Ashaway Dynamite Soft 17",
          "Ashaway Dynamite WB 16",
          "Ashaway MonoGut ZX 16",
          "Gamma Asterisk Tour 16",
          "Gamma Live Wire 16",
          "Gamma Live Wire XP 16",
          "Gamma Professional 16",
          "Gamma Professional Spin 16"
         ],
         "marker": {
          "color": "rgba(242, 137, 17, 0.5)",
          "line": {
           "width": 1
          },
          "size": 10
         },
         "mode": "markers",
         "name": "Nylon/Zyex",
         "type": "scatter",
         "x": [
          127.4,
          120,
          125.2,
          105.7,
          162.3,
          158.9,
          156.6,
          149.7,
          165.2
         ],
         "y": [
          3,
          2.6,
          3.3,
          4.4,
          3.4,
          2.6,
          2.6,
          2.4,
          2.7
         ]
        },
        {
         "hovertext": [
          "Babolat Attraction 16",
          "Dunlop S-Gut 17",
          "Gosen TecGut Remplir 16",
          "Tecnifibre E-Matrix 16",
          "Tecnifibre Multi-Feel 16",
          "Tecnifibre Multi-Feel 17 (1.25)",
          "Tecnifibre NRG2 18 (1.18)",
          "Tecnifibre TGV 16",
          "Tecnifibre TGV 17/1.25",
          "Tecnifibre X-One Biphase 16",
          "Tecnifibre X-One Biphase 17",
          "Tecnifibre XR3 16",
          "Tecnifibre XR3 17"
         ],
         "marker": {
          "color": "rgba(242, 36, 17, 0.5)",
          "line": {
           "width": 1
          },
          "size": 10
         },
         "mode": "markers",
         "name": "Nylon/Polyurethane",
         "type": "scatter",
         "x": [
          157.7,
          163.4,
          150.9,
          143.4,
          154.9,
          150.3,
          150.9,
          157.2,
          165.2,
          162.9,
          166.9,
          162.9,
          160.6
         ],
         "y": [
          2.7,
          3.1,
          4.6,
          2.7,
          3.3,
          2.6,
          2.6,
          3.1,
          3,
          1.6,
          2.1,
          2.9,
          3
         ]
        },
        {
         "hovertext": [
          "Babolat VS Natural ThermoGut 16 Touch",
          "Klip Legend 16 Uncoated",
          "Pacific Prime Natural Gut 16",
          "Wilson Natural Gut 16"
         ],
         "marker": {
          "color": "rgba(223, 242, 17, 0.5)",
          "line": {
           "width": 1
          },
          "size": 10
         },
         "mode": "markers",
         "name": "Gut",
         "type": "scatter",
         "x": [
          96,
          101.2,
          85.2,
          96.6
         ],
         "y": [
          2.7,
          1.2,
          4.4,
          1.3
         ]
        },
        {
         "hovertext": [
          "Dunlop Explosive Poly Max 16",
          "Head FXP 16",
          "Head FXP Tour 16",
          "IsoSpeed Energetic Plus 16",
          "Tecnifibre Duramix HD 16",
          "Tecnifibre Duramix HD 17",
          "Tecnifibre HDX Tour 16 (1.30)",
          "Tecnifibre Pro Mix 16",
          "Tecnifibre Pro Mix 17",
          "Wilson Enduro Pro 17 (1.25)",
          "Wilson NXT Control 16 (1.32)"
         ],
         "marker": {
          "color": "rgba(148, 17, 242, 0.5)",
          "line": {
           "width": 1
          },
          "size": 10
         },
         "mode": "markers",
         "name": "Nylon/Polyester",
         "type": "scatter",
         "x": [
          158.3,
          165.2,
          116.6,
          155.4,
          162.3,
          169.7,
          149.2,
          156.6,
          169.7,
          226.9,
          163.4
         ],
         "y": [
          3.4,
          3.8,
          4.2,
          2.4,
          2.2,
          1.7,
          4.3,
          2.6,
          3.7,
          4,
          3
         ]
        },
        {
         "hovertext": [
          "Head PerfectControl 16",
          "IsoSpeed Professional Classic 17"
         ],
         "marker": {
          "color": "rgba(247, 17, 228, 0.5)",
          "line": {
           "width": 1
          },
          "size": 10
         },
         "mode": "markers",
         "name": "Polyolefin",
         "type": "scatter",
         "x": [
          150.9,
          133.7
         ],
         "y": [
          2.6,
          1.6
         ]
        },
        {
         "hovertext": [
          "Head RIP PerfectPower 16",
          "IsoSpeed Axon Multi 16L",
          "IsoSpeed Energetic 17"
         ],
         "marker": {
          "color": "rgba(17, 223, 242, 0.5)",
          "line": {
           "width": 1
          },
          "size": 10
         },
         "mode": "markers",
         "name": "Nylon/Polyolefin",
         "type": "scatter",
         "x": [
          156.6,
          126.3,
          156.6
         ],
         "y": [
          2.3,
          3,
          1.9
         ]
        }
       ],
       "layout": {
        "font": {
         "color": "rgba(0, 0, 0, 1)",
         "family": "Courier New",
         "size": 20
        },
        "height": 1000,
        "legend": {
         "orientation": "h"
        },
        "template": {
         "data": {
          "bar": [
           {
            "error_x": {
             "color": "#2a3f5f"
            },
            "error_y": {
             "color": "#2a3f5f"
            },
            "marker": {
             "line": {
              "color": "#E5ECF6",
              "width": 0.5
             }
            },
            "type": "bar"
           }
          ],
          "barpolar": [
           {
            "marker": {
             "line": {
              "color": "#E5ECF6",
              "width": 0.5
             }
            },
            "type": "barpolar"
           }
          ],
          "carpet": [
           {
            "aaxis": {
             "endlinecolor": "#2a3f5f",
             "gridcolor": "white",
             "linecolor": "white",
             "minorgridcolor": "white",
             "startlinecolor": "#2a3f5f"
            },
            "baxis": {
             "endlinecolor": "#2a3f5f",
             "gridcolor": "white",
             "linecolor": "white",
             "minorgridcolor": "white",
             "startlinecolor": "#2a3f5f"
            },
            "type": "carpet"
           }
          ],
          "choropleth": [
           {
            "colorbar": {
             "outlinewidth": 0,
             "ticks": ""
            },
            "type": "choropleth"
           }
          ],
          "contour": [
           {
            "colorbar": {
             "outlinewidth": 0,
             "ticks": ""
            },
            "colorscale": [
             [
              0,
              "#0d0887"
             ],
             [
              0.1111111111111111,
              "#46039f"
             ],
             [
              0.2222222222222222,
              "#7201a8"
             ],
             [
              0.3333333333333333,
              "#9c179e"
             ],
             [
              0.4444444444444444,
              "#bd3786"
             ],
             [
              0.5555555555555556,
              "#d8576b"
             ],
             [
              0.6666666666666666,
              "#ed7953"
             ],
             [
              0.7777777777777778,
              "#fb9f3a"
             ],
             [
              0.8888888888888888,
              "#fdca26"
             ],
             [
              1,
              "#f0f921"
             ]
            ],
            "type": "contour"
           }
          ],
          "contourcarpet": [
           {
            "colorbar": {
             "outlinewidth": 0,
             "ticks": ""
            },
            "type": "contourcarpet"
           }
          ],
          "heatmap": [
           {
            "colorbar": {
             "outlinewidth": 0,
             "ticks": ""
            },
            "colorscale": [
             [
              0,
              "#0d0887"
             ],
             [
              0.1111111111111111,
              "#46039f"
             ],
             [
              0.2222222222222222,
              "#7201a8"
             ],
             [
              0.3333333333333333,
              "#9c179e"
             ],
             [
              0.4444444444444444,
              "#bd3786"
             ],
             [
              0.5555555555555556,
              "#d8576b"
             ],
             [
              0.6666666666666666,
              "#ed7953"
             ],
             [
              0.7777777777777778,
              "#fb9f3a"
             ],
             [
              0.8888888888888888,
              "#fdca26"
             ],
             [
              1,
              "#f0f921"
             ]
            ],
            "type": "heatmap"
           }
          ],
          "heatmapgl": [
           {
            "colorbar": {
             "outlinewidth": 0,
             "ticks": ""
            },
            "colorscale": [
             [
              0,
              "#0d0887"
             ],
             [
              0.1111111111111111,
              "#46039f"
             ],
             [
              0.2222222222222222,
              "#7201a8"
             ],
             [
              0.3333333333333333,
              "#9c179e"
             ],
             [
              0.4444444444444444,
              "#bd3786"
             ],
             [
              0.5555555555555556,
              "#d8576b"
             ],
             [
              0.6666666666666666,
              "#ed7953"
             ],
             [
              0.7777777777777778,
              "#fb9f3a"
             ],
             [
              0.8888888888888888,
              "#fdca26"
             ],
             [
              1,
              "#f0f921"
             ]
            ],
            "type": "heatmapgl"
           }
          ],
          "histogram": [
           {
            "marker": {
             "colorbar": {
              "outlinewidth": 0,
              "ticks": ""
             }
            },
            "type": "histogram"
           }
          ],
          "histogram2d": [
           {
            "colorbar": {
             "outlinewidth": 0,
             "ticks": ""
            },
            "colorscale": [
             [
              0,
              "#0d0887"
             ],
             [
              0.1111111111111111,
              "#46039f"
             ],
             [
              0.2222222222222222,
              "#7201a8"
             ],
             [
              0.3333333333333333,
              "#9c179e"
             ],
             [
              0.4444444444444444,
              "#bd3786"
             ],
             [
              0.5555555555555556,
              "#d8576b"
             ],
             [
              0.6666666666666666,
              "#ed7953"
             ],
             [
              0.7777777777777778,
              "#fb9f3a"
             ],
             [
              0.8888888888888888,
              "#fdca26"
             ],
             [
              1,
              "#f0f921"
             ]
            ],
            "type": "histogram2d"
           }
          ],
          "histogram2dcontour": [
           {
            "colorbar": {
             "outlinewidth": 0,
             "ticks": ""
            },
            "colorscale": [
             [
              0,
              "#0d0887"
             ],
             [
              0.1111111111111111,
              "#46039f"
             ],
             [
              0.2222222222222222,
              "#7201a8"
             ],
             [
              0.3333333333333333,
              "#9c179e"
             ],
             [
              0.4444444444444444,
              "#bd3786"
             ],
             [
              0.5555555555555556,
              "#d8576b"
             ],
             [
              0.6666666666666666,
              "#ed7953"
             ],
             [
              0.7777777777777778,
              "#fb9f3a"
             ],
             [
              0.8888888888888888,
              "#fdca26"
             ],
             [
              1,
              "#f0f921"
             ]
            ],
            "type": "histogram2dcontour"
           }
          ],
          "mesh3d": [
           {
            "colorbar": {
             "outlinewidth": 0,
             "ticks": ""
            },
            "type": "mesh3d"
           }
          ],
          "parcoords": [
           {
            "line": {
             "colorbar": {
              "outlinewidth": 0,
              "ticks": ""
             }
            },
            "type": "parcoords"
           }
          ],
          "pie": [
           {
            "automargin": true,
            "type": "pie"
           }
          ],
          "scatter": [
           {
            "marker": {
             "colorbar": {
              "outlinewidth": 0,
              "ticks": ""
             }
            },
            "type": "scatter"
           }
          ],
          "scatter3d": [
           {
            "line": {
             "colorbar": {
              "outlinewidth": 0,
              "ticks": ""
             }
            },
            "marker": {
             "colorbar": {
              "outlinewidth": 0,
              "ticks": ""
             }
            },
            "type": "scatter3d"
           }
          ],
          "scattercarpet": [
           {
            "marker": {
             "colorbar": {
              "outlinewidth": 0,
              "ticks": ""
             }
            },
            "type": "scattercarpet"
           }
          ],
          "scattergeo": [
           {
            "marker": {
             "colorbar": {
              "outlinewidth": 0,
              "ticks": ""
             }
            },
            "type": "scattergeo"
           }
          ],
          "scattergl": [
           {
            "marker": {
             "colorbar": {
              "outlinewidth": 0,
              "ticks": ""
             }
            },
            "type": "scattergl"
           }
          ],
          "scattermapbox": [
           {
            "marker": {
             "colorbar": {
              "outlinewidth": 0,
              "ticks": ""
             }
            },
            "type": "scattermapbox"
           }
          ],
          "scatterpolar": [
           {
            "marker": {
             "colorbar": {
              "outlinewidth": 0,
              "ticks": ""
             }
            },
            "type": "scatterpolar"
           }
          ],
          "scatterpolargl": [
           {
            "marker": {
             "colorbar": {
              "outlinewidth": 0,
              "ticks": ""
             }
            },
            "type": "scatterpolargl"
           }
          ],
          "scatterternary": [
           {
            "marker": {
             "colorbar": {
              "outlinewidth": 0,
              "ticks": ""
             }
            },
            "type": "scatterternary"
           }
          ],
          "surface": [
           {
            "colorbar": {
             "outlinewidth": 0,
             "ticks": ""
            },
            "colorscale": [
             [
              0,
              "#0d0887"
             ],
             [
              0.1111111111111111,
              "#46039f"
             ],
             [
              0.2222222222222222,
              "#7201a8"
             ],
             [
              0.3333333333333333,
              "#9c179e"
             ],
             [
              0.4444444444444444,
              "#bd3786"
             ],
             [
              0.5555555555555556,
              "#d8576b"
             ],
             [
              0.6666666666666666,
              "#ed7953"
             ],
             [
              0.7777777777777778,
              "#fb9f3a"
             ],
             [
              0.8888888888888888,
              "#fdca26"
             ],
             [
              1,
              "#f0f921"
             ]
            ],
            "type": "surface"
           }
          ],
          "table": [
           {
            "cells": {
             "fill": {
              "color": "#EBF0F8"
             },
             "line": {
              "color": "white"
             }
            },
            "header": {
             "fill": {
              "color": "#C8D4E3"
             },
             "line": {
              "color": "white"
             }
            },
            "type": "table"
           }
          ]
         },
         "layout": {
          "annotationdefaults": {
           "arrowcolor": "#2a3f5f",
           "arrowhead": 0,
           "arrowwidth": 1
          },
          "coloraxis": {
           "colorbar": {
            "outlinewidth": 0,
            "ticks": ""
           }
          },
          "colorscale": {
           "diverging": [
            [
             0,
             "#8e0152"
            ],
            [
             0.1,
             "#c51b7d"
            ],
            [
             0.2,
             "#de77ae"
            ],
            [
             0.3,
             "#f1b6da"
            ],
            [
             0.4,
             "#fde0ef"
            ],
            [
             0.5,
             "#f7f7f7"
            ],
            [
             0.6,
             "#e6f5d0"
            ],
            [
             0.7,
             "#b8e186"
            ],
            [
             0.8,
             "#7fbc41"
            ],
            [
             0.9,
             "#4d9221"
            ],
            [
             1,
             "#276419"
            ]
           ],
           "sequential": [
            [
             0,
             "#0d0887"
            ],
            [
             0.1111111111111111,
             "#46039f"
            ],
            [
             0.2222222222222222,
             "#7201a8"
            ],
            [
             0.3333333333333333,
             "#9c179e"
            ],
            [
             0.4444444444444444,
             "#bd3786"
            ],
            [
             0.5555555555555556,
             "#d8576b"
            ],
            [
             0.6666666666666666,
             "#ed7953"
            ],
            [
             0.7777777777777778,
             "#fb9f3a"
            ],
            [
             0.8888888888888888,
             "#fdca26"
            ],
            [
             1,
             "#f0f921"
            ]
           ],
           "sequentialminus": [
            [
             0,
             "#0d0887"
            ],
            [
             0.1111111111111111,
             "#46039f"
            ],
            [
             0.2222222222222222,
             "#7201a8"
            ],
            [
             0.3333333333333333,
             "#9c179e"
            ],
            [
             0.4444444444444444,
             "#bd3786"
            ],
            [
             0.5555555555555556,
             "#d8576b"
            ],
            [
             0.6666666666666666,
             "#ed7953"
            ],
            [
             0.7777777777777778,
             "#fb9f3a"
            ],
            [
             0.8888888888888888,
             "#fdca26"
            ],
            [
             1,
             "#f0f921"
            ]
           ]
          },
          "colorway": [
           "#636efa",
           "#EF553B",
           "#00cc96",
           "#ab63fa",
           "#FFA15A",
           "#19d3f3",
           "#FF6692",
           "#B6E880",
           "#FF97FF",
           "#FECB52"
          ],
          "font": {
           "color": "#2a3f5f"
          },
          "geo": {
           "bgcolor": "white",
           "lakecolor": "white",
           "landcolor": "#E5ECF6",
           "showlakes": true,
           "showland": true,
           "subunitcolor": "white"
          },
          "hoverlabel": {
           "align": "left"
          },
          "hovermode": "closest",
          "mapbox": {
           "style": "light"
          },
          "paper_bgcolor": "white",
          "plot_bgcolor": "#E5ECF6",
          "polar": {
           "angularaxis": {
            "gridcolor": "white",
            "linecolor": "white",
            "ticks": ""
           },
           "bgcolor": "#E5ECF6",
           "radialaxis": {
            "gridcolor": "white",
            "linecolor": "white",
            "ticks": ""
           }
          },
          "scene": {
           "xaxis": {
            "backgroundcolor": "#E5ECF6",
            "gridcolor": "white",
            "gridwidth": 2,
            "linecolor": "white",
            "showbackground": true,
            "ticks": "",
            "zerolinecolor": "white"
           },
           "yaxis": {
            "backgroundcolor": "#E5ECF6",
            "gridcolor": "white",
            "gridwidth": 2,
            "linecolor": "white",
            "showbackground": true,
            "ticks": "",
            "zerolinecolor": "white"
           },
           "zaxis": {
            "backgroundcolor": "#E5ECF6",
            "gridcolor": "white",
            "gridwidth": 2,
            "linecolor": "white",
            "showbackground": true,
            "ticks": "",
            "zerolinecolor": "white"
           }
          },
          "shapedefaults": {
           "line": {
            "color": "#2a3f5f"
           }
          },
          "ternary": {
           "aaxis": {
            "gridcolor": "white",
            "linecolor": "white",
            "ticks": ""
           },
           "baxis": {
            "gridcolor": "white",
            "linecolor": "white",
            "ticks": ""
           },
           "bgcolor": "#E5ECF6",
           "caxis": {
            "gridcolor": "white",
            "linecolor": "white",
            "ticks": ""
           }
          },
          "title": {
           "x": 0.05
          },
          "xaxis": {
           "automargin": true,
           "gridcolor": "white",
           "linecolor": "white",
           "ticks": "",
           "title": {
            "standoff": 15
           },
           "zerolinecolor": "white",
           "zerolinewidth": 2
          },
          "yaxis": {
           "automargin": true,
           "gridcolor": "white",
           "linecolor": "white",
           "ticks": "",
           "title": {
            "standoff": 15
           },
           "zerolinecolor": "white",
           "zerolinewidth": 2
          }
         }
        },
        "title": {
         "text": "Ref. Tension 51 lbs"
        },
        "width": 900,
        "xaxis": {
         "showgrid": false,
         "ticklen": 10,
         "ticks": "inside",
         "title": {
          "text": "Stiffness (lbs/in)"
         }
        },
        "yaxis": {
         "showgrid": false,
         "ticklen": 10,
         "ticks": "inside",
         "title": {
          "text": "Spin Potential"
         }
        }
       }
      },
      "text/html": [
       "<div>\n",
       "        \n",
       "        \n",
       "            <div id=\"cc771296-0c45-4375-a59c-3c4e7c0c2b51\" class=\"plotly-graph-div\" style=\"height:1000px; width:900px;\"></div>\n",
       "            <script type=\"text/javascript\">\n",
       "                require([\"plotly\"], function(Plotly) {\n",
       "                    window.PLOTLYENV=window.PLOTLYENV || {};\n",
       "                    \n",
       "                if (document.getElementById(\"cc771296-0c45-4375-a59c-3c4e7c0c2b51\")) {\n",
       "                    Plotly.newPlot(\n",
       "                        'cc771296-0c45-4375-a59c-3c4e7c0c2b51',\n",
       "                        [{\"hovertext\": [\"Alien Black Diamond 16\", \"Ashaway MonoGut 16L\", \"Ashaway MonoGut 17\", \"Babolat Ballistic Polymono 16\", \"Babolat Hurricane Feel 16\", \"Babolat Hurricane Feel 17\", \"Babolat Pro Hurricane 17\", \"Babolat Pro Hurricane 18\", \"Babolat Pro Hurricane Tour 16\", \"Babolat Pro Hurricane Tour 17\", \"Babolat RPM Blast 16\", \"Babolat RPM Blast 17/1.25\", \"Babolat RPM Dual 16\", \"Babolat RPM Team 16 Black\", \"Boris Becker Bomber 16\", \"Diadem Solstice Power 16 (1.30)\", \"Diadem Solstice Power 17 (1.20)\", \"Double AR Diablo (1.24)\", \"Double AR Diablo (1.31)\", \"Double AR Raptor 1.27\", \"Double AR Twice Dragon(1.30)\", \"Double AR Twice Shark (1.25)\", \"Double AR WTS 25 (1.25)\", \"Dunlop Black Widow 16\", \"Dunlop Black Widow 17\", \"Dunlop Comfort Poly 17\", \"Dunlop Explosive 16\", \"Dunlop Juice 16 (1.31)\", \"Dunlop Juice 17 (1.26)\", \"Gamma Monoblast 16\", \"Gamma Moto 16\", \"Gamma Poly Z 16\", \"Gamma RZR Rx 16\", \"Gamma Zo Black Ice 17 (1.23)\", \"Gamma Zo Black Ice 18 (1.18)\", \"Gamma Zo Ice 16\", \"Gamma Zo Magic 16\", \"Gamma Zo Tour 17 (1.25)\", \"Gamma Zo Tour Rough 16\", \"Gamma Zo Twist 16\", \"Gamma Zo Verve 17\", \"Gosen Polylon 16\", \"Gosen Polylon 17 (1.24)\", \"Gosen Polylon Comfort 16\", \"Gosen Polylon PolyBreak 17 (1.24)\", \"Gosen Polylon PolyBreak 18 (1.20)\", \"Gosen Polylon SP 16 (1.30)\", \"Gosen Polylon SP 17 (1.24)\", \"Gosen Polymaster I 16\", \"Gosen Polymaster II 16\", \"Gosen Sidewinder 17\", \"Head Hawk 17 (1.25)\", \"Head Lynx 16 (1.30)\", \"Head Sonic Pro 16\", \"Head Sonic Pro 17\", \"Head Sonic Pro Edge 16\", \"Head Ultra Tour 16\", \"Head Ultratour 17\", \"IsoSpeed Axon Mono 16L\", \"IsoSpeed Black Fire 17\", \"IsoSpeed Pulse 16\", \"IsoSpeed Pyramid 16\", \"Kirschbaum Black Shark 16 (1.30)\", \"Kirschbaum Black Shark 17 (1.25)\", \"Kirschbaum Competition 16/1.30\", \"Kirschbaum Competition 17 (1.25)\", \"Kirschbaum Competition 17L (1.20)\", \"Kirschbaum Helix 16\", \"Kirschbaum Helix 17\", \"Kirschbaum Long Life 15\", \"Kirschbaum Max Power 17 (1.25)\", \"Kirschbaum P2 16/1.30\", \"Kirschbaum P2 17 (1.25)\", \"Kirschbaum P2 17L (1.20)\", \"Kirschbaum Pro Line I 1.30\", \"Kirschbaum Pro Line I 17 (1.25)\", \"Kirschbaum Pro Line I 17L (1.20)\", \"Kirschbaum Pro Line I 18L (1.15)\", \"Kirschbaum Pro Line II 1.30\", \"Kirschbaum Pro Line II 17 (1.25)\", \"Kirschbaum Pro Line II 17L (1.20)\", \"Kirschbaum Pro Line II 18 (1.15)\", \"Kirschbaum Pro Line X 16 (1.30)\", \"Kirschbaum Pro Line X 17 (1.25)\", \"Kirschbaum Spiky Shark 16\", \"Kirschbaum Spiky Shark 17\", \"Kirschbaum Super Smash 16/1.30\", \"Kirschbaum Super Smash 17 (1.25)\", \"Kirschbaum Super Smash Spiky 1.20\", \"Kirschbaum Super Smash Spiky 16/1.30\", \"Kirschbaum Super Smash Spiky 17 (1.25)\", \"Kirschbaum Touch Turbo 1.30\", \"Kirschbaum Touch Turbo 16L (1.275)\", \"Klip Hardcore 16/1.30\", \"Klip K-Boom 16/1.30\", \"L-Tec Premium 3S 16L (1.25)\", \"L-Tec Premium 4S 16L (1.25)\", \"L-Tec Premium 5S 16L (1.25)\", \"L-Tec Premium OS 17 (1.23)\", \"L-Tec Premium Pro OS 16L\", \"Leopard Plus Control 16\", \"Luxilon 4G 16L (1.25)\", \"Luxilon 4G Rough 16L\", \"Luxilon 4G Soft 1.25\", \"Luxilon ALU Power 125/16L\", \"Luxilon ALU Power Feel 18/1.20\", \"Luxilon Adrenaline 16\", \"Luxilon Adrenaline 16L/1.25\", \"Luxilon Adrenaline 17/1.20\", \"Luxilon Adrenaline Rough 16L/1.25\", \"Luxilon Alu Power Soft 1.25\", \"Luxilon Big Banger ALU Power Spin 127/16\", \"Luxilon Big Banger Ace 18 (1.12)\", \"Luxilon Big Banger Original 130/16\", \"Luxilon Big Banger Rough 130/16\", \"Luxilon Big Banger TiMO 17L (1.17)\", \"Luxilon Big Banger Timo 17 (1.22)\", \"Luxilon Big Banger Timo 18 (1.10)\", \"Luxilon Big Banger XP 125/16L\", \"Luxilon Big Banger XP 15L (1.38)\", \"Luxilon Element 1.30\", \"Luxilon M2 Pro 125/16\", \"Luxilon Monotec Super Poly 1.25/16L\", \"Luxilon Monotec Supersense 16L/1.25\", \"Luxilon Monotec Zolo 15L\", \"Luxilon Savage 16/1.27\", \"MSV Co.-Focus 16L\", \"MSV Focus Evo 16\", \"MSV Focus Evo 17\", \"MSV Focus Hex 17L (1.18)\", \"MSV Focus Hex Soft 17 (1.25)\", \"MSV Hepta-Twist 17\", \"Mantis Comfort Poly 16\", \"Mantis Power Poly 17\", \"One Strings Carbon NRG 16\", \"Pacific ATP Poly Power Pro 16L\", \"Pacific Poly Force 16L\", \"Pacific Poly Force 17\", \"Pacific Poly Force Xtreme 16L\", \"Pacific X Force 17\", \"Pacific X Force 18\", \"Poly Star Classic 16 (1.30)\", \"Poly Star Classic 16L (1.25)\", \"Poly Star Classic 17 (1.20)\", \"Poly Star Energy 16 (1.30)\", \"Poly Star Energy 16L (1.25)\", \"Poly Star Energy 17 (1.20)\", \"Poly Star Strike 16 (1.30)\", \"Poly Star Strike 16L (1.25)\", \"Poly Star Turbo 16 (1.30)\", \"Poly Star Turbo 16L (1.25)\", \"Polyfibre Black Venom 16 (1.30)\", \"Polyfibre Cobra 17/1.20\", \"Polyfibre Hexablade 16L (1.25)\", \"Polyfibre Hexablade 17L (1.18)\", \"Polyfibre Hightec Premium 16/1.30\", \"Polyfibre Hightec Premium 16L\", \"Polyfibre Hightec Premium 17\", \"Polyfibre Poly Hightec 16/1.30\", \"Polyfibre Poly Hightec 16L\", \"Polyfibre Poly Hightec 17\", \"Polyfibre Poly Hightec 18\", \"Polyfibre TCS 16/1.30\", \"Polyfibre TCS 16L\", \"Polyfibre TCS 17\", \"Polyfibre TCS Rapid 16L/1.25\", \"Polyfibre Viper 17/1.20\", \"Prince Beast XP 16\", \"Prince Poly EXP 17\", \"Prince Poly Spin 3D\", \"Prince Tour 16\", \"Prince Tour 17\", \"Prince Tour XC 15L\", \"Prince Tour XC 16L\", \"Prince Tour XC 17L\", \"Prince Tour XP 15L\", \"Prince Tour XP 16\", \"Prince Tour XS 1.35\", \"Prince Tour XS 16\", \"Prince Tour XT 18\", \"Prince Twisted 16L\", \"RS RS Lyon 17\", \"Signum Pro Firestorm 1.25\", \"Signum Pro Hyperion 16\", \"Signum Pro Hyperion 17 (1.24)\", \"Signum Pro Poly Megaforce 16\", \"Signum Pro Poly Megaforce 17 (1.19)\", \"Signum Pro Poly-Plasma 16L\", \"Signum Pro Poly-Plasma 17L (1.18)\", \"Signum Pro Poly-Plasma Pure 16L\", \"Signum Pro Poly-Plasma Pure 17 (1.23)\", \"Signum Pro Tornado 16\", \"Signum Pro Tornado 17 (1.23)\", \"Solinco Barb Wire 16\", \"Solinco Barb Wire 17 (1.20)\", \"Solinco Hyper-G 16\", \"Solinco Outlast 16\", \"Solinco Outlast 17\", \"Solinco Revolution 16\", \"Solinco Revolution 17\", \"Solinco Tour Bite 16\", \"Solinco Tour Bite 16 Soft\", \"Solinco Tour Bite 16L (1.25)\", \"Solinco Tour Bite 17\", \"Solinco Tour Bite 18 (1.15)\", \"Solinco Tour Bite Diamond Rough 16 (1.30)\", \"Solinco Tour Bite Diamond Rough 16L (1.25)\", \"Solinco Tour Bite Diamond Rough 17 (1.20)\", \"SuperString Nikita Original 1.25\", \"SuperString Viper V2 Rough 16L\", \"Tecnifibre Black Code 17\", \"Tecnifibre Black Code 18\", \"Tecnifibre Black Code 4S 17 (1.25)\", \"Tecnifibre Polyspin 16L\", \"Tecnifibre Pro Red Code 16\", \"Tecnifibre Pro Red Code 17\", \"Tecnifibre Pro Red Code 18\", \"Tecnifibre Razor Code 16 (1.30)\", \"Tecnifibre X-Code 16\", \"Topspin Cyber Blue 16\", \"Topspin Cyber Blue 17\", \"Topspin Cyber Flash 16\", \"Topspin Cyber Flash 17\", \"Topspin Cyber Flash 17L\", \"Tourna Big Hitter Black 7 17\", \"Tourna Big Hitter Blue 17\", \"Tourna Big Hitter Blue Rough 16\", \"Tourna Big Hitter Blue Rough 17\", \"Tourna Big Hitter Silver 17\", \"Tourna Big Hitter Silver Rough 16\", \"Tourna Big Hitter Silver Rough 17\", \"Tourna Black Zone 16\", \"Volkl Cyclone 16\", \"Volkl Cyclone 17\", \"Volkl Cyclone 18\", \"Volkl Cyclone 19 (1.10)\", \"Volkl Cyclone Tour 17 (1.25)\", \"Volkl V-Pro 16\", \"Volkl V-Pro 17\", \"Volkl V-Pro 18\", \"Volkl V-Star 16 (1.30)\", \"Volkl V-Torque 16\", \"Weiss Cannon Black 5 Edge 17 (1.24)\", \"Weiss Cannon MatchPower 1.25\", \"Weiss Cannon Scorpion 1.22\", \"Weiss Cannon Scorpion 1.33\", \"Weiss Cannon Silverstring 1.25\", \"Weiss Cannon Silverstring 120\", \"Weiss Cannon Turbotwist 17 (1.24)\", \"Weiss Cannon Turbotwist 17L (1.18)\", \"Wilson Enduro Pro 16\", \"Wilson Enduro Tour 16\", \"Wilson Enduro Tour 17\", \"Wilson Revolve 17 (1.25)\", \"Wilson Ripspin 15\", \"Wilson Ripspin 16\", \"Wilson Ripspin 17\", \"Wilson Spin Cycle 16L\", \"Y-Tex Quadro Twist 16L\", \"Yonex Poly Tour Pro Yellow 16 (1.30)\", \"Yonex Poly Tour Spin G 1.25\"], \"marker\": {\"color\": \"rgba(17, 28, 242, 0.5)\", \"line\": {\"width\": 1}, \"size\": 10}, \"mode\": \"markers\", \"name\": \"Polyester\", \"type\": \"scatter\", \"x\": [190.3, 202.9, 188.6, 217.7, 249.7, 239.5, 192.6, 185.2, 227.5, 214.9, 232.6, 233.7, 237.2, 280.6, 204.6, 202.9, 196.6, 166.9, 169.7, 238.3, 170.9, 143.4, 168.0, 193.2, 216.6, 236.6, 233.2, 215.5, 208.6, 220.6, 226.9, 179.5, 196.0, 211.5, 199.5, 223.5, 248.0, 204.0, 186.9, 190.3, 230.9, 206.9, 208.0, 189.2, 195.5, 165.2, 184.6, 174.9, 186.9, 172.0, 159.4, 204.6, 185.7, 160.6, 164.6, 194.9, 201.7, 207.5, 199.5, 204.6, 164.6, 174.9, 223.5, 216.6, 210.3, 210.3, 190.3, 204.6, 208.6, 231.5, 240.6, 218.9, 235.5, 197.2, 224.6, 204.6, 194.9, 189.2, 209.7, 201.2, 193.2, 182.9, 240.0, 218.3, 216.0, 197.7, 221.7, 210.9, 205.2, 216.6, 214.3, 218.3, 196.0, 193.2, 237.2, 220.0, 233.7, 210.3, 224.0, 253.7, 225.7, 258.9, 216.0, 217.2, 209.2, 186.9, 212.6, 202.9, 208.0, 202.9, 197.7, 213.7, 203.5, 213.2, 212.6, 204.0, 206.9, 189.2, 209.2, 236.6, 191.5, 181.7, 233.2, 209.7, 219.5, 234.3, 184.6, 226.3, 206.9, 224.0, 228.0, 181.2, 224.6, 203.5, 180.0, 194.3, 208.0, 233.2, 218.3, 225.7, 208.6, 185.7, 174.9, 166.9, 173.2, 169.7, 165.2, 201.2, 184.0, 165.2, 168.6, 180.0, 154.3, 172.0, 168.6, 174.3, 170.3, 157.7, 173.2, 169.2, 157.7, 150.3, 173.2, 166.9, 158.9, 160.0, 157.7, 198.9, 217.7, 178.9, 214.9, 198.9, 208.6, 205.7, 205.7, 184.6, 198.3, 195.5, 196.6, 184.0, 230.3, 196.6, 197.7, 220.0, 202.3, 234.9, 213.2, 225.7, 197.2, 221.2, 199.5, 215.5, 214.3, 214.3, 186.3, 219.5, 208.0, 182.9, 215.5, 188.6, 202.9, 184.0, 237.7, 181.2, 161.7, 192.6, 191.5, 181.7, 198.9, 194.3, 236.0, 202.9, 209.2, 226.9, 232.0, 225.7, 217.2, 242.9, 188.0, 189.7, 183.5, 185.2, 158.9, 144.0, 175.5, 222.3, 222.3, 209.7, 185.7, 206.3, 197.2, 197.2, 197.2, 191.5, 181.2, 182.9, 170.9, 233.7, 188.0, 213.2, 172.6, 181.7, 215.5, 218.3, 192.6, 222.9, 195.5, 167.4, 216.6, 203.5, 219.5, 251.5, 169.7, 192.0, 212.0, 212.0, 209.2, 205.7, 177.7, 191.5, 237.2], \"y\": [4.5, 3.5, 3.9, 4.7, 4.7, 4.4, 3.1, 3.3, 5.1, 5.2, 4.5, 4.6, 4.6, 3.9, 5.1, 8.1, 8.6, 7.4, 7.7, 5.3, 7.2, 5.7, 7.3, 5.2, 5.4, 4.5, 4.8, 3.6, 3.9, 3.8, 5.8, 5.4, 3.9, 3.7, 4.0, 4.2, 4.1, 3.7, 6.1, 4.7, 6.1, 4.1, 4.3, 5.5, 4.2, 4.8, 4.0, 4.6, 4.7, 5.1, 4.6, 4.7, 7.0, 4.2, 3.9, 4.8, 4.5, 4.1, 3.2, 5.6, 4.7, 7.0, 5.4, 5.8, 4.9, 4.5, 4.1, 5.4, 5.4, 4.6, 5.4, 5.2, 4.9, 4.8, 4.4, 4.1, 3.9, 4.4, 5.7, 4.7, 4.8, 4.5, 5.1, 4.8, 7.5, 7.4, 5.3, 5.7, 5.1, 5.0, 5.2, 5.3, 5.4, 4.7, 4.1, 4.0, 6.7, 4.0, 4.1, 4.3, 3.9, 3.9, 4.2, 6.7, 5.8, 5.4, 3.6, 3.5, 2.9, 3.3, 6.9, 4.3, 4.0, 4.8, 4.4, 4.4, 3.9, 3.6, 4.1, 3.6, 6.6, 3.6, 3.3, 2.1, 4.6, 3.4, 4.2, 4.9, 4.5, 6.5, 6.3, 5.7, 4.8, 4.8, 5.1, 5.0, 4.5, 4.5, 5.0, 4.5, 4.7, 4.2, 4.4, 4.0, 4.0, 3.7, 4.0, 5.1, 4.8, 5.3, 5.0, 4.3, 3.6, 4.6, 5.2, 4.2, 4.4, 3.9, 4.1, 4.4, 4.0, 3.9, 4.4, 3.8, 4.2, 4.3, 3.9, 3.9, 4.4, 3.3, 3.1, 3.4, 5.5, 5.5, 5.9, 5.2, 5.5, 5.0, 5.5, 6.4, 3.7, 5.4, 4.8, 4.6, 4.2, 4.3, 4.8, 4.7, 5.0, 5.6, 5.2, 5.1, 4.8, 4.4, 4.9, 7.0, 6.0, 5.5, 6.4, 6.6, 6.7, 6.9, 5.9, 6.3, 5.8, 4.9, 5.4, 4.3, 3.4, 5.0, 4.2, 4.6, 9.8, 3.8, 4.9, 4.8, 5.0, 4.2, 2.0, 5.8, 5.1, 4.8, 4.2, 4.6, 6.3, 4.9, 3.4, 3.2, 5.4, 4.5, 4.1, 5.6, 6.2, 5.8, 7.1, 8.2, 6.1, 5.0, 5.1, 4.9, 6.9, 5.6, 4.7, 3.6, 4.0, 4.2, 3.8, 3.7, 4.2, 4.8, 4.7, 5.2, 4.8, 7.7, 4.9, 5.2, 5.2, 4.2, 6.2, 3.4, 4.8]}, {\"hovertext\": [\"Alpha Gut 2000 16\", \"Ashaway Liberty 16\", \"Ashaway Synthetic Gut 16\", \"Babolat Addiction 16\", \"Babolat Addiction 17\", \"Babolat Conquest 16\", \"Babolat FiberTour 16\", \"Babolat Origin 17\", \"Babolat SG SpiralTek 16\", \"Babolat Super Fine Play 16\", \"Babolat Xcel 16\", \"Babolat Xcel Power 16\", \"Babolat Xcel Power 17\", \"Double AR 666 (1.30)\", \"Dunlop Comfort Synthetic 16\", \"Dunlop DNA 16 (1.30)\", \"Dunlop DNA 17 (1.22)\", \"Dunlop Explosive Synthetic 16\", \"Dunlop Hexy Fiber 16\", \"Dunlop Hexy Fiber 17\", \"Dunlop M-Fil Tour 16\", \"Dunlop Silk 16 (1.30)\", \"Dunlop Silk 17\", \"Dunlop Synthetic Gut 16\", \"Dunlop Tour Performance 16\", \"Dunlop X-Life Synthetic 15L\", \"Forten Sweet 16\", \"Gamma Asterisk 16\", \"Gamma Asterisk Spin 16\", \"Gamma ESP 16\", \"Gamma Glide Cross String 16\", \"Gamma Prodigy 16\", \"Gamma Professional 17\", \"Gamma Synthetic Gut 16\", \"Gamma TNT2 16\", \"Gamma TNT2 Pro Plus 16\", \"Gamma TNT2 Rx 16\", \"Gamma TNT2 Touch 16\", \"Gamma WearGuard Synthetic Gut 16\", \"Gosen A.K. Control 16\", \"Gosen AK Pro 16\", \"Gosen AK Pro 17\", \"Gosen Compositemaster I 16\", \"Gosen Compositemaster II 16\", \"Gosen Nanocubic 16\", \"Gosen Nanosilver 17\", \"Gosen OG Sheep Micro 17\", \"Gosen OG Sheep Micro 18\", \"Gosen OG Sheep Micro Super 16L\", \"Gosen OG-Sheep Micro 16\", \"Gosen Powermaster I 16\", \"Gosen Powermaster II 16\", \"Head ETS 16\", \"Head ETS 17\", \"Head FXP 17\", \"Head FXP Power 16\", \"Head FXP Power 17\", \"Head Fibergel Power 16\", \"Head Fibergel Power 17\", \"Head Fibergel Spin 16\", \"Head Reflex MLT 16 (1.30)\", \"Head Synthetic Gut 16\", \"Head Synthetic Gut PPS 16\", \"Kirschbaum Touch Multifibre 16\", \"Kirschbaum Touch Multifibre 17 (1.25)\", \"Klip Excellerator 16/1.30\", \"Klip Kicker 16\", \"Klip Scorcher 16/1.30\", \"Klip Synthetic Gut 16\", \"Klip Venom 16/1.30\", \"Mantis Comfort Synthetic 16\", \"Pacific PMX 16L\", \"Pacific Power Line 16L\", \"Pacific Power Line 17\", \"Pacific Power Twist 16L\", \"Pacific Premium Power X 16L\", \"Prince Lightning XX 16\", \"Prince Lightning XX 17\", \"Prince Premier Control 15\", \"Prince Premier Control 15L\", \"Prince Premier Control 16\", \"Prince Premier Control 17\", \"Prince Premier LT 17\", \"Prince Premier LT 18\", \"Prince Premier Power 16\", \"Prince Premier Power 17\", \"Prince Premier Power 18\", \"Prince Premier Touch 15L\", \"Prince Premier Touch 16\", \"Prince Premier Touch 17\", \"Prince Premier W/ Softflex 17\", \"Prince Premier W/Softflex 16\", \"Prince Recoil 16\", \"Prince Syn Gut Original 16\", \"Prince Syn Gut Original 17\", \"Prince Synthetic Gut 18 Duraflex\", \"Prince Synthetic Gut Multifilament 16\", \"Prince Synthetic Gut Multifilament 17\", \"Prince Topspin Plus 16\", \"Prince Topspin W/ Duraflex 15L\", \"Prince Tournament Nylon 15L\", \"Solinco Vanquish 16\", \"Tecnifibre E-Matrix 17\", \"Tecnifibre NRG2 16\", \"Tecnifibre NRG2 17/1.24\", \"Tecnifibre X-One Biphase 18\", \"Tourna Irradiated 16\", \"Volkl Gripper 17\", \"Volkl Power-Fiber II 16\", \"Volkl Power-Fiber II 17\", \"Volkl Power-Fiber II 18\", \"Volkl Synthetic Gut 16\", \"Volkl Synthetic Gut 17\", \"Weiss Cannon Explosiv 1.30\", \"Wilson Extreme 16 Synthetic Gut\", \"Wilson Hollow Core 16\", \"Wilson Hollow Core Pro 16\", \"Wilson Hollow Core Pro 17\", \"Wilson K-Gut 16\", \"Wilson K-Gut Pro 16\", \"Wilson NXT 16\", \"Wilson NXT 17\", \"Wilson NXT Duramax 15 (1.40)\", \"Wilson NXT Max 16\", \"Wilson NXT OS\", \"Wilson NXT Tour 16\", \"Wilson NXT Tour 17\", \"Wilson Optimus 16 (1.30)\", \"Wilson Reaction 16\", \"Wilson Red Alert 16\", \"Wilson SGX 16\", \"Wilson Sensation 16\", \"Wilson Sensation 17\", \"Wilson Sensation Supreme 16\", \"Wilson Shock Shield 16\", \"Wilson Stamina 16\", \"Wilson Synthetic Gut Extreme 17\"], \"marker\": {\"color\": \"rgba(63, 191, 127, 0.5)\", \"line\": {\"width\": 1}, \"size\": 10}, \"mode\": \"markers\", \"name\": \"Nylon\", \"type\": \"scatter\", \"x\": [159.4, 167.4, 166.9, 167.4, 153.7, 174.9, 163.4, 171.5, 161.7, 191.5, 150.9, 162.3, 145.7, 161.7, 177.2, 146.9, 145.2, 179.5, 141.7, 144.0, 159.4, 147.4, 130.9, 172.6, 160.0, 177.2, 188.6, 156.6, 149.7, 157.7, 133.2, 164.6, 144.6, 185.7, 170.9, 158.3, 173.2, 153.7, 165.2, 156.6, 173.7, 162.3, 165.2, 150.9, 183.5, 156.6, 163.4, 159.4, 164.0, 183.5, 162.9, 157.7, 156.0, 152.0, 173.2, 194.3, 163.4, 153.2, 161.2, 168.6, 159.4, 177.2, 169.7, 161.7, 165.7, 160.6, 178.9, 167.4, 165.7, 163.4, 149.2, 146.3, 181.2, 174.3, 158.3, 165.7, 180.6, 177.2, 154.3, 152.6, 157.7, 153.2, 153.2, 151.4, 150.9, 145.2, 142.9, 152.6, 149.2, 136.6, 150.9, 142.3, 173.7, 191.5, 180.6, 161.7, 172.6, 161.2, 165.7, 182.3, 186.9, 160.0, 143.4, 158.3, 164.0, 145.7, 162.9, 138.3, 158.9, 158.9, 157.2, 173.7, 158.9, 150.9, 174.3, 150.3, 146.9, 150.3, 171.5, 168.0, 173.7, 156.0, 161.7, 169.7, 169.7, 180.6, 175.5, 140.0, 146.3, 190.9, 166.3, 168.6, 163.4, 143.4, 156.0, 183.5, 185.2], \"y\": [3.1, 4.6, 4.6, 3.1, 2.6, 4.3, 3.1, 6.4, 4.1, 3.8, 3.0, 3.8, 3.6, 5.8, 4.1, 3.6, 4.1, 3.6, 3.6, 3.7, 4.3, 3.4, 3.5, 3.9, 4.1, 3.5, 3.4, 3.8, 3.9, 2.6, 3.2, 3.5, 2.8, 3.6, 3.2, 3.1, 4.5, 3.4, 2.8, 5.4, 4.3, 4.4, 4.2, 4.5, 4.0, 4.5, 3.2, 3.2, 2.7, 3.4, 3.9, 3.7, 1.9, 1.9, 4.1, 4.6, 4.5, 3.0, 3.1, 3.5, 5.1, 3.6, 3.9, 4.1, 3.5, 2.7, 3.7, 3.2, 4.2, 2.3, 3.8, 2.0, 3.4, 3.5, 3.2, 3.3, 3.4, 3.5, 4.6, 4.6, 5.4, 4.7, 3.3, 3.5, 4.6, 4.3, 5.0, 4.4, 4.1, 4.2, 3.2, 3.3, 3.4, 2.9, 3.8, 3.6, 2.7, 3.1, 5.3, 3.5, 3.1, 3.9, 2.4, 3.2, 3.5, 1.6, 3.0, 4.4, 3.2, 2.7, 2.9, 5.1, 5.2, 4.0, 3.2, 3.3, 2.2, 3.9, 4.4, 1.6, 3.9, 2.0, 4.5, 2.5, 2.5, 3.8, 3.6, 3.6, 2.4, 3.0, 3.1, 3.5, 3.6, 3.0, 2.3, 3.0, 2.8]}, {\"hovertext\": [\"Ashaway Dynamite 17\", \"Ashaway Dynamite Soft 17\", \"Ashaway Dynamite WB 16\", \"Ashaway MonoGut ZX 16\", \"Gamma Asterisk Tour 16\", \"Gamma Live Wire 16\", \"Gamma Live Wire XP 16\", \"Gamma Professional 16\", \"Gamma Professional Spin 16\"], \"marker\": {\"color\": \"rgba(242, 137, 17, 0.5)\", \"line\": {\"width\": 1}, \"size\": 10}, \"mode\": \"markers\", \"name\": \"Nylon/Zyex\", \"type\": \"scatter\", \"x\": [127.4, 120.0, 125.2, 105.7, 162.3, 158.9, 156.6, 149.7, 165.2], \"y\": [3.0, 2.6, 3.3, 4.4, 3.4, 2.6, 2.6, 2.4, 2.7]}, {\"hovertext\": [\"Babolat Attraction 16\", \"Dunlop S-Gut 17\", \"Gosen TecGut Remplir 16\", \"Tecnifibre E-Matrix 16\", \"Tecnifibre Multi-Feel 16\", \"Tecnifibre Multi-Feel 17 (1.25)\", \"Tecnifibre NRG2 18 (1.18)\", \"Tecnifibre TGV 16\", \"Tecnifibre TGV 17/1.25\", \"Tecnifibre X-One Biphase 16\", \"Tecnifibre X-One Biphase 17\", \"Tecnifibre XR3 16\", \"Tecnifibre XR3 17\"], \"marker\": {\"color\": \"rgba(242, 36, 17, 0.5)\", \"line\": {\"width\": 1}, \"size\": 10}, \"mode\": \"markers\", \"name\": \"Nylon/Polyurethane\", \"type\": \"scatter\", \"x\": [157.7, 163.4, 150.9, 143.4, 154.9, 150.3, 150.9, 157.2, 165.2, 162.9, 166.9, 162.9, 160.6], \"y\": [2.7, 3.1, 4.6, 2.7, 3.3, 2.6, 2.6, 3.1, 3.0, 1.6, 2.1, 2.9, 3.0]}, {\"hovertext\": [\"Babolat VS Natural ThermoGut 16 Touch\", \"Klip Legend 16 Uncoated\", \"Pacific Prime Natural Gut 16\", \"Wilson Natural Gut 16\"], \"marker\": {\"color\": \"rgba(223, 242, 17, 0.5)\", \"line\": {\"width\": 1}, \"size\": 10}, \"mode\": \"markers\", \"name\": \"Gut\", \"type\": \"scatter\", \"x\": [96.0, 101.2, 85.2, 96.6], \"y\": [2.7, 1.2, 4.4, 1.3]}, {\"hovertext\": [\"Dunlop Explosive Poly Max 16\", \"Head FXP 16\", \"Head FXP Tour 16\", \"IsoSpeed Energetic Plus 16\", \"Tecnifibre Duramix HD 16\", \"Tecnifibre Duramix HD 17\", \"Tecnifibre HDX Tour 16 (1.30)\", \"Tecnifibre Pro Mix 16\", \"Tecnifibre Pro Mix 17\", \"Wilson Enduro Pro 17 (1.25)\", \"Wilson NXT Control 16 (1.32)\"], \"marker\": {\"color\": \"rgba(148, 17, 242, 0.5)\", \"line\": {\"width\": 1}, \"size\": 10}, \"mode\": \"markers\", \"name\": \"Nylon/Polyester\", \"type\": \"scatter\", \"x\": [158.3, 165.2, 116.6, 155.4, 162.3, 169.7, 149.2, 156.6, 169.7, 226.9, 163.4], \"y\": [3.4, 3.8, 4.2, 2.4, 2.2, 1.7, 4.3, 2.6, 3.7, 4.0, 3.0]}, {\"hovertext\": [\"Head PerfectControl 16\", \"IsoSpeed Professional Classic 17\"], \"marker\": {\"color\": \"rgba(247, 17, 228, 0.5)\", \"line\": {\"width\": 1}, \"size\": 10}, \"mode\": \"markers\", \"name\": \"Polyolefin\", \"type\": \"scatter\", \"x\": [150.9, 133.7], \"y\": [2.6, 1.6]}, {\"hovertext\": [\"Head RIP PerfectPower 16\", \"IsoSpeed Axon Multi 16L\", \"IsoSpeed Energetic 17\"], \"marker\": {\"color\": \"rgba(17, 223, 242, 0.5)\", \"line\": {\"width\": 1}, \"size\": 10}, \"mode\": \"markers\", \"name\": \"Nylon/Polyolefin\", \"type\": \"scatter\", \"x\": [156.6, 126.3, 156.6], \"y\": [2.3, 3.0, 1.9]}],\n",
       "                        {\"font\": {\"color\": \"rgba(0, 0, 0, 1)\", \"family\": \"Courier New\", \"size\": 20}, \"height\": 1000, \"legend\": {\"orientation\": \"h\"}, \"template\": {\"data\": {\"bar\": [{\"error_x\": {\"color\": \"#2a3f5f\"}, \"error_y\": {\"color\": \"#2a3f5f\"}, \"marker\": {\"line\": {\"color\": \"#E5ECF6\", \"width\": 0.5}}, \"type\": \"bar\"}], \"barpolar\": [{\"marker\": {\"line\": {\"color\": \"#E5ECF6\", \"width\": 0.5}}, \"type\": \"barpolar\"}], \"carpet\": [{\"aaxis\": {\"endlinecolor\": \"#2a3f5f\", \"gridcolor\": \"white\", \"linecolor\": \"white\", \"minorgridcolor\": \"white\", \"startlinecolor\": \"#2a3f5f\"}, \"baxis\": {\"endlinecolor\": \"#2a3f5f\", \"gridcolor\": \"white\", \"linecolor\": \"white\", \"minorgridcolor\": \"white\", \"startlinecolor\": \"#2a3f5f\"}, \"type\": \"carpet\"}], \"choropleth\": [{\"colorbar\": {\"outlinewidth\": 0, \"ticks\": \"\"}, \"type\": \"choropleth\"}], \"contour\": [{\"colorbar\": {\"outlinewidth\": 0, \"ticks\": \"\"}, \"colorscale\": [[0.0, \"#0d0887\"], [0.1111111111111111, \"#46039f\"], [0.2222222222222222, \"#7201a8\"], [0.3333333333333333, \"#9c179e\"], [0.4444444444444444, \"#bd3786\"], [0.5555555555555556, \"#d8576b\"], [0.6666666666666666, \"#ed7953\"], [0.7777777777777778, \"#fb9f3a\"], [0.8888888888888888, \"#fdca26\"], [1.0, \"#f0f921\"]], \"type\": \"contour\"}], \"contourcarpet\": [{\"colorbar\": {\"outlinewidth\": 0, \"ticks\": \"\"}, \"type\": \"contourcarpet\"}], \"heatmap\": [{\"colorbar\": {\"outlinewidth\": 0, \"ticks\": \"\"}, \"colorscale\": [[0.0, \"#0d0887\"], [0.1111111111111111, \"#46039f\"], [0.2222222222222222, \"#7201a8\"], [0.3333333333333333, \"#9c179e\"], [0.4444444444444444, \"#bd3786\"], [0.5555555555555556, \"#d8576b\"], [0.6666666666666666, \"#ed7953\"], [0.7777777777777778, \"#fb9f3a\"], [0.8888888888888888, \"#fdca26\"], [1.0, \"#f0f921\"]], \"type\": \"heatmap\"}], \"heatmapgl\": [{\"colorbar\": {\"outlinewidth\": 0, \"ticks\": \"\"}, \"colorscale\": [[0.0, \"#0d0887\"], [0.1111111111111111, \"#46039f\"], [0.2222222222222222, \"#7201a8\"], [0.3333333333333333, \"#9c179e\"], [0.4444444444444444, \"#bd3786\"], [0.5555555555555556, \"#d8576b\"], [0.6666666666666666, \"#ed7953\"], [0.7777777777777778, \"#fb9f3a\"], [0.8888888888888888, \"#fdca26\"], [1.0, \"#f0f921\"]], \"type\": \"heatmapgl\"}], \"histogram\": [{\"marker\": {\"colorbar\": {\"outlinewidth\": 0, \"ticks\": \"\"}}, \"type\": \"histogram\"}], \"histogram2d\": [{\"colorbar\": {\"outlinewidth\": 0, \"ticks\": \"\"}, \"colorscale\": [[0.0, \"#0d0887\"], [0.1111111111111111, \"#46039f\"], [0.2222222222222222, \"#7201a8\"], [0.3333333333333333, \"#9c179e\"], [0.4444444444444444, \"#bd3786\"], [0.5555555555555556, \"#d8576b\"], [0.6666666666666666, \"#ed7953\"], [0.7777777777777778, \"#fb9f3a\"], [0.8888888888888888, \"#fdca26\"], [1.0, \"#f0f921\"]], \"type\": \"histogram2d\"}], \"histogram2dcontour\": [{\"colorbar\": {\"outlinewidth\": 0, \"ticks\": \"\"}, \"colorscale\": [[0.0, \"#0d0887\"], [0.1111111111111111, \"#46039f\"], [0.2222222222222222, \"#7201a8\"], [0.3333333333333333, \"#9c179e\"], [0.4444444444444444, \"#bd3786\"], [0.5555555555555556, \"#d8576b\"], [0.6666666666666666, \"#ed7953\"], [0.7777777777777778, \"#fb9f3a\"], [0.8888888888888888, \"#fdca26\"], [1.0, \"#f0f921\"]], \"type\": \"histogram2dcontour\"}], \"mesh3d\": [{\"colorbar\": {\"outlinewidth\": 0, \"ticks\": \"\"}, \"type\": \"mesh3d\"}], \"parcoords\": [{\"line\": {\"colorbar\": {\"outlinewidth\": 0, \"ticks\": \"\"}}, \"type\": \"parcoords\"}], \"pie\": [{\"automargin\": true, \"type\": \"pie\"}], \"scatter\": [{\"marker\": {\"colorbar\": {\"outlinewidth\": 0, \"ticks\": \"\"}}, \"type\": \"scatter\"}], \"scatter3d\": [{\"line\": {\"colorbar\": {\"outlinewidth\": 0, \"ticks\": \"\"}}, \"marker\": {\"colorbar\": {\"outlinewidth\": 0, \"ticks\": \"\"}}, \"type\": \"scatter3d\"}], \"scattercarpet\": [{\"marker\": {\"colorbar\": {\"outlinewidth\": 0, \"ticks\": \"\"}}, \"type\": \"scattercarpet\"}], \"scattergeo\": [{\"marker\": {\"colorbar\": {\"outlinewidth\": 0, \"ticks\": \"\"}}, \"type\": \"scattergeo\"}], \"scattergl\": [{\"marker\": {\"colorbar\": {\"outlinewidth\": 0, \"ticks\": \"\"}}, \"type\": \"scattergl\"}], \"scattermapbox\": [{\"marker\": {\"colorbar\": {\"outlinewidth\": 0, \"ticks\": \"\"}}, \"type\": \"scattermapbox\"}], \"scatterpolar\": [{\"marker\": {\"colorbar\": {\"outlinewidth\": 0, \"ticks\": \"\"}}, \"type\": \"scatterpolar\"}], \"scatterpolargl\": [{\"marker\": {\"colorbar\": {\"outlinewidth\": 0, \"ticks\": \"\"}}, \"type\": \"scatterpolargl\"}], \"scatterternary\": [{\"marker\": {\"colorbar\": {\"outlinewidth\": 0, \"ticks\": \"\"}}, \"type\": \"scatterternary\"}], \"surface\": [{\"colorbar\": {\"outlinewidth\": 0, \"ticks\": \"\"}, \"colorscale\": [[0.0, \"#0d0887\"], [0.1111111111111111, \"#46039f\"], [0.2222222222222222, \"#7201a8\"], [0.3333333333333333, \"#9c179e\"], [0.4444444444444444, \"#bd3786\"], [0.5555555555555556, \"#d8576b\"], [0.6666666666666666, \"#ed7953\"], [0.7777777777777778, \"#fb9f3a\"], [0.8888888888888888, \"#fdca26\"], [1.0, \"#f0f921\"]], \"type\": \"surface\"}], \"table\": [{\"cells\": {\"fill\": {\"color\": \"#EBF0F8\"}, \"line\": {\"color\": \"white\"}}, \"header\": {\"fill\": {\"color\": \"#C8D4E3\"}, \"line\": {\"color\": \"white\"}}, \"type\": \"table\"}]}, \"layout\": {\"annotationdefaults\": {\"arrowcolor\": \"#2a3f5f\", \"arrowhead\": 0, \"arrowwidth\": 1}, \"coloraxis\": {\"colorbar\": {\"outlinewidth\": 0, \"ticks\": \"\"}}, \"colorscale\": {\"diverging\": [[0, \"#8e0152\"], [0.1, \"#c51b7d\"], [0.2, \"#de77ae\"], [0.3, \"#f1b6da\"], [0.4, \"#fde0ef\"], [0.5, \"#f7f7f7\"], [0.6, \"#e6f5d0\"], [0.7, \"#b8e186\"], [0.8, \"#7fbc41\"], [0.9, \"#4d9221\"], [1, \"#276419\"]], \"sequential\": [[0.0, \"#0d0887\"], [0.1111111111111111, \"#46039f\"], [0.2222222222222222, \"#7201a8\"], [0.3333333333333333, \"#9c179e\"], [0.4444444444444444, \"#bd3786\"], [0.5555555555555556, \"#d8576b\"], [0.6666666666666666, \"#ed7953\"], [0.7777777777777778, \"#fb9f3a\"], [0.8888888888888888, \"#fdca26\"], [1.0, \"#f0f921\"]], \"sequentialminus\": [[0.0, \"#0d0887\"], [0.1111111111111111, \"#46039f\"], [0.2222222222222222, \"#7201a8\"], [0.3333333333333333, \"#9c179e\"], [0.4444444444444444, \"#bd3786\"], [0.5555555555555556, \"#d8576b\"], [0.6666666666666666, \"#ed7953\"], [0.7777777777777778, \"#fb9f3a\"], [0.8888888888888888, \"#fdca26\"], [1.0, \"#f0f921\"]]}, \"colorway\": [\"#636efa\", \"#EF553B\", \"#00cc96\", \"#ab63fa\", \"#FFA15A\", \"#19d3f3\", \"#FF6692\", \"#B6E880\", \"#FF97FF\", \"#FECB52\"], \"font\": {\"color\": \"#2a3f5f\"}, \"geo\": {\"bgcolor\": \"white\", \"lakecolor\": \"white\", \"landcolor\": \"#E5ECF6\", \"showlakes\": true, \"showland\": true, \"subunitcolor\": \"white\"}, \"hoverlabel\": {\"align\": \"left\"}, \"hovermode\": \"closest\", \"mapbox\": {\"style\": \"light\"}, \"paper_bgcolor\": \"white\", \"plot_bgcolor\": \"#E5ECF6\", \"polar\": {\"angularaxis\": {\"gridcolor\": \"white\", \"linecolor\": \"white\", \"ticks\": \"\"}, \"bgcolor\": \"#E5ECF6\", \"radialaxis\": {\"gridcolor\": \"white\", \"linecolor\": \"white\", \"ticks\": \"\"}}, \"scene\": {\"xaxis\": {\"backgroundcolor\": \"#E5ECF6\", \"gridcolor\": \"white\", \"gridwidth\": 2, \"linecolor\": \"white\", \"showbackground\": true, \"ticks\": \"\", \"zerolinecolor\": \"white\"}, \"yaxis\": {\"backgroundcolor\": \"#E5ECF6\", \"gridcolor\": \"white\", \"gridwidth\": 2, \"linecolor\": \"white\", \"showbackground\": true, \"ticks\": \"\", \"zerolinecolor\": \"white\"}, \"zaxis\": {\"backgroundcolor\": \"#E5ECF6\", \"gridcolor\": \"white\", \"gridwidth\": 2, \"linecolor\": \"white\", \"showbackground\": true, \"ticks\": \"\", \"zerolinecolor\": \"white\"}}, \"shapedefaults\": {\"line\": {\"color\": \"#2a3f5f\"}}, \"ternary\": {\"aaxis\": {\"gridcolor\": \"white\", \"linecolor\": \"white\", \"ticks\": \"\"}, \"baxis\": {\"gridcolor\": \"white\", \"linecolor\": \"white\", \"ticks\": \"\"}, \"bgcolor\": \"#E5ECF6\", \"caxis\": {\"gridcolor\": \"white\", \"linecolor\": \"white\", \"ticks\": \"\"}}, \"title\": {\"x\": 0.05}, \"xaxis\": {\"automargin\": true, \"gridcolor\": \"white\", \"linecolor\": \"white\", \"ticks\": \"\", \"title\": {\"standoff\": 15}, \"zerolinecolor\": \"white\", \"zerolinewidth\": 2}, \"yaxis\": {\"automargin\": true, \"gridcolor\": \"white\", \"linecolor\": \"white\", \"ticks\": \"\", \"title\": {\"standoff\": 15}, \"zerolinecolor\": \"white\", \"zerolinewidth\": 2}}}, \"title\": {\"text\": \"Ref. Tension 51 lbs\"}, \"width\": 900, \"xaxis\": {\"showgrid\": false, \"ticklen\": 10, \"ticks\": \"inside\", \"title\": {\"text\": \"Stiffness (lbs/in)\"}}, \"yaxis\": {\"showgrid\": false, \"ticklen\": 10, \"ticks\": \"inside\", \"title\": {\"text\": \"Spin Potential\"}}},\n",
       "                        {\"responsive\": true}\n",
       "                    ).then(function(){\n",
       "                            \n",
       "var gd = document.getElementById('cc771296-0c45-4375-a59c-3c4e7c0c2b51');\n",
       "var x = new MutationObserver(function (mutations, observer) {{\n",
       "        var display = window.getComputedStyle(gd).display;\n",
       "        if (!display || display === 'none') {{\n",
       "            console.log([gd, 'removed!']);\n",
       "            Plotly.purge(gd);\n",
       "            observer.disconnect();\n",
       "        }}\n",
       "}});\n",
       "\n",
       "// Listen for the removal of the full notebook cells\n",
       "var notebookContainer = gd.closest('#notebook-container');\n",
       "if (notebookContainer) {{\n",
       "    x.observe(notebookContainer, {childList: true});\n",
       "}}\n",
       "\n",
       "// Listen for the clearing of the current output cell\n",
       "var outputEl = gd.closest('.output');\n",
       "if (outputEl) {{\n",
       "    x.observe(outputEl, {childList: true});\n",
       "}}\n",
       "\n",
       "                        })\n",
       "                };\n",
       "                });\n",
       "            </script>\n",
       "        </div>"
      ]
     },
     "metadata": {},
     "output_type": "display_data"
    }
   ],
   "source": [
    "create_scatter_plot('stiffness_lbs_per_in', 'spin_potential', 51)"
   ]
  },
  {
   "cell_type": "markdown",
   "metadata": {},
   "source": [
    "Although spin potential is perhaps the most commonly referenced differentiator of playing charateristics when comparing polyester to non-polyester strings, the plot above shows that there is significant overlap in spin potential between nylon and polyester strings. "
   ]
  },
  {
   "cell_type": "code",
   "execution_count": 20,
   "metadata": {},
   "outputs": [
    {
     "data": {
      "application/vnd.plotly.v1+json": {
       "config": {
        "linkText": "Export to plot.ly",
        "plotlyServerURL": "https://plot.ly",
        "showLink": false
       },
       "data": [
        {
         "hovertext": [
          "Alien Black Diamond 16",
          "Ashaway MonoGut 16L",
          "Ashaway MonoGut 17",
          "Babolat Ballistic Polymono 16",
          "Babolat Hurricane Feel 16",
          "Babolat Hurricane Feel 17",
          "Babolat Pro Hurricane 17",
          "Babolat Pro Hurricane 18",
          "Babolat Pro Hurricane Tour 16",
          "Babolat Pro Hurricane Tour 17",
          "Babolat RPM Blast 16",
          "Babolat RPM Blast 17/1.25",
          "Babolat RPM Dual 16",
          "Babolat RPM Team 16 Black",
          "Boris Becker Bomber 16",
          "Diadem Solstice Power 16 (1.30)",
          "Diadem Solstice Power 17 (1.20)",
          "Double AR Diablo (1.24)",
          "Double AR Diablo (1.31)",
          "Double AR Raptor 1.27",
          "Double AR Twice Dragon(1.30)",
          "Double AR Twice Shark (1.25)",
          "Double AR WTS 25 (1.25)",
          "Dunlop Black Widow 16",
          "Dunlop Black Widow 17",
          "Dunlop Comfort Poly 17",
          "Dunlop Explosive 16",
          "Dunlop Juice 16 (1.31)",
          "Dunlop Juice 17 (1.26)",
          "Gamma Monoblast 16",
          "Gamma Moto 16",
          "Gamma Poly Z 16",
          "Gamma RZR Rx 16",
          "Gamma Zo Black Ice 17 (1.23)",
          "Gamma Zo Black Ice 18 (1.18)",
          "Gamma Zo Ice 16",
          "Gamma Zo Magic 16",
          "Gamma Zo Tour 17 (1.25)",
          "Gamma Zo Tour Rough 16",
          "Gamma Zo Twist 16",
          "Gamma Zo Verve 17",
          "Gosen Polylon 16",
          "Gosen Polylon 17 (1.24)",
          "Gosen Polylon Comfort 16",
          "Gosen Polylon PolyBreak 17 (1.24)",
          "Gosen Polylon PolyBreak 18 (1.20)",
          "Gosen Polylon SP 16 (1.30)",
          "Gosen Polylon SP 17 (1.24)",
          "Gosen Polymaster I 16",
          "Gosen Polymaster II 16",
          "Gosen Sidewinder 17",
          "Head Hawk 17 (1.25)",
          "Head Lynx 16 (1.30)",
          "Head Sonic Pro 16",
          "Head Sonic Pro 17",
          "Head Sonic Pro Edge 16",
          "Head Ultra Tour 16",
          "Head Ultratour 17",
          "IsoSpeed Axon Mono 16L",
          "IsoSpeed Black Fire 17",
          "IsoSpeed Pulse 16",
          "IsoSpeed Pyramid 16",
          "Kirschbaum Black Shark 16 (1.30)",
          "Kirschbaum Black Shark 17 (1.25)",
          "Kirschbaum Competition 16/1.30",
          "Kirschbaum Competition 17 (1.25)",
          "Kirschbaum Competition 17L (1.20)",
          "Kirschbaum Helix 16",
          "Kirschbaum Helix 17",
          "Kirschbaum Long Life 15",
          "Kirschbaum Max Power 17 (1.25)",
          "Kirschbaum P2 16/1.30",
          "Kirschbaum P2 17 (1.25)",
          "Kirschbaum P2 17L (1.20)",
          "Kirschbaum Pro Line I 1.30",
          "Kirschbaum Pro Line I 17 (1.25)",
          "Kirschbaum Pro Line I 17L (1.20)",
          "Kirschbaum Pro Line I 18L (1.15)",
          "Kirschbaum Pro Line II 1.30",
          "Kirschbaum Pro Line II 17 (1.25)",
          "Kirschbaum Pro Line II 17L (1.20)",
          "Kirschbaum Pro Line II 18 (1.15)",
          "Kirschbaum Pro Line X 16 (1.30)",
          "Kirschbaum Pro Line X 17 (1.25)",
          "Kirschbaum Spiky Shark 16",
          "Kirschbaum Spiky Shark 17",
          "Kirschbaum Super Smash 16/1.30",
          "Kirschbaum Super Smash 17 (1.25)",
          "Kirschbaum Super Smash Spiky 1.20",
          "Kirschbaum Super Smash Spiky 16/1.30",
          "Kirschbaum Super Smash Spiky 17 (1.25)",
          "Kirschbaum Touch Turbo 1.30",
          "Kirschbaum Touch Turbo 16L (1.275)",
          "Klip Hardcore 16/1.30",
          "Klip K-Boom 16/1.30",
          "L-Tec Premium 3S 16L (1.25)",
          "L-Tec Premium 4S 16L (1.25)",
          "L-Tec Premium 5S 16L (1.25)",
          "L-Tec Premium OS 17 (1.23)",
          "L-Tec Premium Pro OS 16L",
          "Leopard Plus Control 16",
          "Luxilon 4G 16L (1.25)",
          "Luxilon 4G Rough 16L",
          "Luxilon 4G Soft 1.25",
          "Luxilon ALU Power 125/16L",
          "Luxilon ALU Power Feel 18/1.20",
          "Luxilon Adrenaline 16",
          "Luxilon Adrenaline 16L/1.25",
          "Luxilon Adrenaline 17/1.20",
          "Luxilon Adrenaline Rough 16L/1.25",
          "Luxilon Alu Power Soft 1.25",
          "Luxilon Big Banger ALU Power Spin 127/16",
          "Luxilon Big Banger Ace 18 (1.12)",
          "Luxilon Big Banger Original 130/16",
          "Luxilon Big Banger Rough 130/16",
          "Luxilon Big Banger TiMO 17L (1.17)",
          "Luxilon Big Banger Timo 17 (1.22)",
          "Luxilon Big Banger Timo 18 (1.10)",
          "Luxilon Big Banger XP 125/16L",
          "Luxilon Big Banger XP 15L (1.38)",
          "Luxilon Element 1.30",
          "Luxilon M2 Pro 125/16",
          "Luxilon Monotec Super Poly 1.25/16L",
          "Luxilon Monotec Supersense 16L/1.25",
          "Luxilon Monotec Zolo 15L",
          "Luxilon Savage 16/1.27",
          "MSV Co.-Focus 16L",
          "MSV Focus Evo 16",
          "MSV Focus Evo 17",
          "MSV Focus Hex 17L (1.18)",
          "MSV Focus Hex Soft 17 (1.25)",
          "MSV Hepta-Twist 17",
          "Mantis Comfort Poly 16",
          "Mantis Power Poly 17",
          "One Strings Carbon NRG 16",
          "Pacific ATP Poly Power Pro 16L",
          "Pacific Poly Force 16L",
          "Pacific Poly Force 17",
          "Pacific Poly Force Xtreme 16L",
          "Pacific X Force 17",
          "Pacific X Force 18",
          "Poly Star Classic 16 (1.30)",
          "Poly Star Classic 16L (1.25)",
          "Poly Star Classic 17 (1.20)",
          "Poly Star Energy 16 (1.30)",
          "Poly Star Energy 16L (1.25)",
          "Poly Star Energy 17 (1.20)",
          "Poly Star Strike 16 (1.30)",
          "Poly Star Strike 16L (1.25)",
          "Poly Star Turbo 16 (1.30)",
          "Poly Star Turbo 16L (1.25)",
          "Polyfibre Black Venom 16 (1.30)",
          "Polyfibre Cobra 17/1.20",
          "Polyfibre Hexablade 16L (1.25)",
          "Polyfibre Hexablade 17L (1.18)",
          "Polyfibre Hightec Premium 16/1.30",
          "Polyfibre Hightec Premium 16L",
          "Polyfibre Hightec Premium 17",
          "Polyfibre Poly Hightec 16/1.30",
          "Polyfibre Poly Hightec 16L",
          "Polyfibre Poly Hightec 17",
          "Polyfibre Poly Hightec 18",
          "Polyfibre TCS 16/1.30",
          "Polyfibre TCS 16L",
          "Polyfibre TCS 17",
          "Polyfibre TCS Rapid 16L/1.25",
          "Polyfibre Viper 17/1.20",
          "Prince Beast XP 16",
          "Prince Poly EXP 17",
          "Prince Poly Spin 3D",
          "Prince Tour 16",
          "Prince Tour 17",
          "Prince Tour XC 15L",
          "Prince Tour XC 16L",
          "Prince Tour XC 17L",
          "Prince Tour XP 15L",
          "Prince Tour XP 16",
          "Prince Tour XS 1.35",
          "Prince Tour XS 16",
          "Prince Tour XT 18",
          "Prince Twisted 16L",
          "RS RS Lyon 17",
          "Signum Pro Firestorm 1.25",
          "Signum Pro Hyperion 16",
          "Signum Pro Hyperion 17 (1.24)",
          "Signum Pro Poly Megaforce 16",
          "Signum Pro Poly Megaforce 17 (1.19)",
          "Signum Pro Poly-Plasma 16L",
          "Signum Pro Poly-Plasma 17L (1.18)",
          "Signum Pro Poly-Plasma Pure 16L",
          "Signum Pro Poly-Plasma Pure 17 (1.23)",
          "Signum Pro Tornado 16",
          "Signum Pro Tornado 17 (1.23)",
          "Solinco Barb Wire 16",
          "Solinco Barb Wire 17 (1.20)",
          "Solinco Hyper-G 16",
          "Solinco Outlast 16",
          "Solinco Outlast 17",
          "Solinco Revolution 16",
          "Solinco Revolution 17",
          "Solinco Tour Bite 16",
          "Solinco Tour Bite 16 Soft",
          "Solinco Tour Bite 16L (1.25)",
          "Solinco Tour Bite 17",
          "Solinco Tour Bite 18 (1.15)",
          "Solinco Tour Bite Diamond Rough 16 (1.30)",
          "Solinco Tour Bite Diamond Rough 16L (1.25)",
          "Solinco Tour Bite Diamond Rough 17 (1.20)",
          "SuperString Nikita Original 1.25",
          "SuperString Viper V2 Rough 16L",
          "Tecnifibre Black Code 17",
          "Tecnifibre Black Code 18",
          "Tecnifibre Black Code 4S 17 (1.25)",
          "Tecnifibre Polyspin 16L",
          "Tecnifibre Pro Red Code 16",
          "Tecnifibre Pro Red Code 17",
          "Tecnifibre Pro Red Code 18",
          "Tecnifibre Razor Code 16 (1.30)",
          "Tecnifibre X-Code 16",
          "Topspin Cyber Blue 16",
          "Topspin Cyber Blue 17",
          "Topspin Cyber Flash 16",
          "Topspin Cyber Flash 17",
          "Topspin Cyber Flash 17L",
          "Tourna Big Hitter Black 7 17",
          "Tourna Big Hitter Blue 17",
          "Tourna Big Hitter Blue Rough 16",
          "Tourna Big Hitter Blue Rough 17",
          "Tourna Big Hitter Silver 17",
          "Tourna Big Hitter Silver Rough 16",
          "Tourna Big Hitter Silver Rough 17",
          "Tourna Black Zone 16",
          "Volkl Cyclone 16",
          "Volkl Cyclone 17",
          "Volkl Cyclone 18",
          "Volkl Cyclone 19 (1.10)",
          "Volkl Cyclone Tour 17 (1.25)",
          "Volkl V-Pro 16",
          "Volkl V-Pro 17",
          "Volkl V-Pro 18",
          "Volkl V-Star 16 (1.30)",
          "Volkl V-Torque 16",
          "Weiss Cannon Black 5 Edge 17 (1.24)",
          "Weiss Cannon MatchPower 1.25",
          "Weiss Cannon Scorpion 1.22",
          "Weiss Cannon Scorpion 1.33",
          "Weiss Cannon Silverstring 1.25",
          "Weiss Cannon Silverstring 120",
          "Weiss Cannon Turbotwist 17 (1.24)",
          "Weiss Cannon Turbotwist 17L (1.18)",
          "Wilson Enduro Pro 16",
          "Wilson Enduro Tour 16",
          "Wilson Enduro Tour 17",
          "Wilson Revolve 17 (1.25)",
          "Wilson Ripspin 15",
          "Wilson Ripspin 16",
          "Wilson Ripspin 17",
          "Wilson Spin Cycle 16L",
          "Y-Tex Quadro Twist 16L",
          "Yonex Poly Tour Pro Yellow 16 (1.30)",
          "Yonex Poly Tour Spin G 1.25"
         ],
         "marker": {
          "color": "rgba(17, 28, 242, 0.5)",
          "line": {
           "width": 1
          },
          "size": 10
         },
         "mode": "markers",
         "name": "Polyester",
         "type": "scatter",
         "x": [
          190.3,
          202.9,
          188.6,
          217.7,
          249.7,
          239.5,
          192.6,
          185.2,
          227.5,
          214.9,
          232.6,
          233.7,
          237.2,
          280.6,
          204.6,
          202.9,
          196.6,
          166.9,
          169.7,
          238.3,
          170.9,
          143.4,
          168,
          193.2,
          216.6,
          236.6,
          233.2,
          215.5,
          208.6,
          220.6,
          226.9,
          179.5,
          196,
          211.5,
          199.5,
          223.5,
          248,
          204,
          186.9,
          190.3,
          230.9,
          206.9,
          208,
          189.2,
          195.5,
          165.2,
          184.6,
          174.9,
          186.9,
          172,
          159.4,
          204.6,
          185.7,
          160.6,
          164.6,
          194.9,
          201.7,
          207.5,
          199.5,
          204.6,
          164.6,
          174.9,
          223.5,
          216.6,
          210.3,
          210.3,
          190.3,
          204.6,
          208.6,
          231.5,
          240.6,
          218.9,
          235.5,
          197.2,
          224.6,
          204.6,
          194.9,
          189.2,
          209.7,
          201.2,
          193.2,
          182.9,
          240,
          218.3,
          216,
          197.7,
          221.7,
          210.9,
          205.2,
          216.6,
          214.3,
          218.3,
          196,
          193.2,
          237.2,
          220,
          233.7,
          210.3,
          224,
          253.7,
          225.7,
          258.9,
          216,
          217.2,
          209.2,
          186.9,
          212.6,
          202.9,
          208,
          202.9,
          197.7,
          213.7,
          203.5,
          213.2,
          212.6,
          204,
          206.9,
          189.2,
          209.2,
          236.6,
          191.5,
          181.7,
          233.2,
          209.7,
          219.5,
          234.3,
          184.6,
          226.3,
          206.9,
          224,
          228,
          181.2,
          224.6,
          203.5,
          180,
          194.3,
          208,
          233.2,
          218.3,
          225.7,
          208.6,
          185.7,
          174.9,
          166.9,
          173.2,
          169.7,
          165.2,
          201.2,
          184,
          165.2,
          168.6,
          180,
          154.3,
          172,
          168.6,
          174.3,
          170.3,
          157.7,
          173.2,
          169.2,
          157.7,
          150.3,
          173.2,
          166.9,
          158.9,
          160,
          157.7,
          198.9,
          217.7,
          178.9,
          214.9,
          198.9,
          208.6,
          205.7,
          205.7,
          184.6,
          198.3,
          195.5,
          196.6,
          184,
          230.3,
          196.6,
          197.7,
          220,
          202.3,
          234.9,
          213.2,
          225.7,
          197.2,
          221.2,
          199.5,
          215.5,
          214.3,
          214.3,
          186.3,
          219.5,
          208,
          182.9,
          215.5,
          188.6,
          202.9,
          184,
          237.7,
          181.2,
          161.7,
          192.6,
          191.5,
          181.7,
          198.9,
          194.3,
          236,
          202.9,
          209.2,
          226.9,
          232,
          225.7,
          217.2,
          242.9,
          188,
          189.7,
          183.5,
          185.2,
          158.9,
          144,
          175.5,
          222.3,
          222.3,
          209.7,
          185.7,
          206.3,
          197.2,
          197.2,
          197.2,
          191.5,
          181.2,
          182.9,
          170.9,
          233.7,
          188,
          213.2,
          172.6,
          181.7,
          215.5,
          218.3,
          192.6,
          222.9,
          195.5,
          167.4,
          216.6,
          203.5,
          219.5,
          251.5,
          169.7,
          192,
          212,
          212,
          209.2,
          205.7,
          177.7,
          191.5,
          237.2
         ],
         "y": [
          50.7,
          47,
          50.9,
          45.9,
          30.7,
          31.9,
          42,
          37.2,
          46.1,
          44.8,
          45.9,
          33.3,
          34.9,
          22,
          46.9,
          29.6,
          28.5,
          55.4,
          55.7,
          22.3,
          51.2,
          63.8,
          56.5,
          38.2,
          31.6,
          42.1,
          35.8,
          48.4,
          45.8,
          42.5,
          30.8,
          51.8,
          27.3,
          41.2,
          39.6,
          37.8,
          33.7,
          50.3,
          48.9,
          46.3,
          25.3,
          50.9,
          48.8,
          54.1,
          48.9,
          53.3,
          52.5,
          52.2,
          51.8,
          53,
          46.7,
          32.9,
          45.6,
          57,
          54.9,
          38.5,
          45.1,
          44.9,
          34.4,
          39.3,
          56.9,
          58,
          41.2,
          38.4,
          47.5,
          47.5,
          45,
          55.3,
          44.2,
          55.4,
          23.5,
          38.3,
          33.9,
          41.6,
          47.8,
          50.8,
          52.2,
          50.4,
          47.6,
          44.9,
          46,
          46.4,
          27.2,
          37,
          47.4,
          53.5,
          50.7,
          48,
          52.7,
          54.6,
          51,
          45.7,
          48.5,
          49.8,
          34,
          35.6,
          35.3,
          36.8,
          28.8,
          26.4,
          40,
          21.3,
          32.8,
          25.4,
          46.6,
          42.9,
          45.3,
          44.3,
          41.8,
          44.8,
          36.6,
          45,
          46.1,
          51.4,
          52,
          45.9,
          44.3,
          45.4,
          49,
          48,
          44.3,
          53,
          44.1,
          47.7,
          47,
          46.2,
          49.7,
          44.4,
          46.1,
          27.5,
          29.4,
          50.2,
          40.2,
          43,
          42.3,
          51.1,
          45.7,
          36.7,
          39.6,
          36.2,
          37,
          55.8,
          54.5,
          61.6,
          66.3,
          68,
          63.6,
          49.1,
          51.4,
          66.7,
          64.9,
          56.9,
          63.7,
          62.9,
          63.8,
          57.6,
          59.8,
          61.9,
          57.8,
          61.4,
          63,
          61,
          59.6,
          62.1,
          63.4,
          64.3,
          64.3,
          41.7,
          43.7,
          60.2,
          53,
          55.6,
          45.4,
          36.7,
          36.6,
          44.2,
          36.5,
          36.9,
          36.2,
          38.2,
          43.5,
          36,
          46.4,
          40.9,
          42.6,
          34.9,
          36.3,
          39.2,
          40.3,
          40.6,
          43,
          47.7,
          44.3,
          40.2,
          42.6,
          26.3,
          47.3,
          50.4,
          47.4,
          50,
          47.1,
          50.3,
          25.2,
          48.6,
          50.6,
          52,
          47,
          43.5,
          42.9,
          38.3,
          40.2,
          40.7,
          28.3,
          36.3,
          34.8,
          36.4,
          36.3,
          32.7,
          37.9,
          43.3,
          46.1,
          46.5,
          54.9,
          59.1,
          43,
          36.3,
          40.5,
          43.8,
          44,
          45,
          42.1,
          29.5,
          47.9,
          48.1,
          48.1,
          33.2,
          52.6,
          39.2,
          47.7,
          33.1,
          54.5,
          49.7,
          32.8,
          38.4,
          44.2,
          47.8,
          43.8,
          50.6,
          49.5,
          48.6,
          36.3,
          37.6,
          62.4,
          36.2,
          41.7,
          39.6,
          37.8,
          38.7,
          48.5,
          44.5,
          25.7
         ]
        },
        {
         "hovertext": [
          "Alpha Gut 2000 16",
          "Ashaway Liberty 16",
          "Ashaway Synthetic Gut 16",
          "Babolat Addiction 16",
          "Babolat Addiction 17",
          "Babolat Conquest 16",
          "Babolat FiberTour 16",
          "Babolat Origin 17",
          "Babolat SG SpiralTek 16",
          "Babolat Super Fine Play 16",
          "Babolat Xcel 16",
          "Babolat Xcel Power 16",
          "Babolat Xcel Power 17",
          "Double AR 666 (1.30)",
          "Dunlop Comfort Synthetic 16",
          "Dunlop DNA 16 (1.30)",
          "Dunlop DNA 17 (1.22)",
          "Dunlop Explosive Synthetic 16",
          "Dunlop Hexy Fiber 16",
          "Dunlop Hexy Fiber 17",
          "Dunlop M-Fil Tour 16",
          "Dunlop Silk 16 (1.30)",
          "Dunlop Silk 17",
          "Dunlop Synthetic Gut 16",
          "Dunlop Tour Performance 16",
          "Dunlop X-Life Synthetic 15L",
          "Forten Sweet 16",
          "Gamma Asterisk 16",
          "Gamma Asterisk Spin 16",
          "Gamma ESP 16",
          "Gamma Glide Cross String 16",
          "Gamma Prodigy 16",
          "Gamma Professional 17",
          "Gamma Synthetic Gut 16",
          "Gamma TNT2 16",
          "Gamma TNT2 Pro Plus 16",
          "Gamma TNT2 Rx 16",
          "Gamma TNT2 Touch 16",
          "Gamma WearGuard Synthetic Gut 16",
          "Gosen A.K. Control 16",
          "Gosen AK Pro 16",
          "Gosen AK Pro 17",
          "Gosen Compositemaster I 16",
          "Gosen Compositemaster II 16",
          "Gosen Nanocubic 16",
          "Gosen Nanosilver 17",
          "Gosen OG Sheep Micro 17",
          "Gosen OG Sheep Micro 18",
          "Gosen OG Sheep Micro Super 16L",
          "Gosen OG-Sheep Micro 16",
          "Gosen Powermaster I 16",
          "Gosen Powermaster II 16",
          "Head ETS 16",
          "Head ETS 17",
          "Head FXP 17",
          "Head FXP Power 16",
          "Head FXP Power 17",
          "Head Fibergel Power 16",
          "Head Fibergel Power 17",
          "Head Fibergel Spin 16",
          "Head Reflex MLT 16 (1.30)",
          "Head Synthetic Gut 16",
          "Head Synthetic Gut PPS 16",
          "Kirschbaum Touch Multifibre 16",
          "Kirschbaum Touch Multifibre 17 (1.25)",
          "Klip Excellerator 16/1.30",
          "Klip Kicker 16",
          "Klip Scorcher 16/1.30",
          "Klip Synthetic Gut 16",
          "Klip Venom 16/1.30",
          "Mantis Comfort Synthetic 16",
          "Pacific PMX 16L",
          "Pacific Power Line 16L",
          "Pacific Power Line 17",
          "Pacific Power Twist 16L",
          "Pacific Premium Power X 16L",
          "Prince Lightning XX 16",
          "Prince Lightning XX 17",
          "Prince Premier Control 15",
          "Prince Premier Control 15L",
          "Prince Premier Control 16",
          "Prince Premier Control 17",
          "Prince Premier LT 17",
          "Prince Premier LT 18",
          "Prince Premier Power 16",
          "Prince Premier Power 17",
          "Prince Premier Power 18",
          "Prince Premier Touch 15L",
          "Prince Premier Touch 16",
          "Prince Premier Touch 17",
          "Prince Premier W/ Softflex 17",
          "Prince Premier W/Softflex 16",
          "Prince Recoil 16",
          "Prince Syn Gut Original 16",
          "Prince Syn Gut Original 17",
          "Prince Synthetic Gut 18 Duraflex",
          "Prince Synthetic Gut Multifilament 16",
          "Prince Synthetic Gut Multifilament 17",
          "Prince Topspin Plus 16",
          "Prince Topspin W/ Duraflex 15L",
          "Prince Tournament Nylon 15L",
          "Solinco Vanquish 16",
          "Tecnifibre E-Matrix 17",
          "Tecnifibre NRG2 16",
          "Tecnifibre NRG2 17/1.24",
          "Tecnifibre X-One Biphase 18",
          "Tourna Irradiated 16",
          "Volkl Gripper 17",
          "Volkl Power-Fiber II 16",
          "Volkl Power-Fiber II 17",
          "Volkl Power-Fiber II 18",
          "Volkl Synthetic Gut 16",
          "Volkl Synthetic Gut 17",
          "Weiss Cannon Explosiv 1.30",
          "Wilson Extreme 16 Synthetic Gut",
          "Wilson Hollow Core 16",
          "Wilson Hollow Core Pro 16",
          "Wilson Hollow Core Pro 17",
          "Wilson K-Gut 16",
          "Wilson K-Gut Pro 16",
          "Wilson NXT 16",
          "Wilson NXT 17",
          "Wilson NXT Duramax 15 (1.40)",
          "Wilson NXT Max 16",
          "Wilson NXT OS",
          "Wilson NXT Tour 16",
          "Wilson NXT Tour 17",
          "Wilson Optimus 16 (1.30)",
          "Wilson Reaction 16",
          "Wilson Red Alert 16",
          "Wilson SGX 16",
          "Wilson Sensation 16",
          "Wilson Sensation 17",
          "Wilson Sensation Supreme 16",
          "Wilson Shock Shield 16",
          "Wilson Stamina 16",
          "Wilson Synthetic Gut Extreme 17"
         ],
         "marker": {
          "color": "rgba(63, 191, 127, 0.5)",
          "line": {
           "width": 1
          },
          "size": 10
         },
         "mode": "markers",
         "name": "Nylon",
         "type": "scatter",
         "x": [
          159.4,
          167.4,
          166.9,
          167.4,
          153.7,
          174.9,
          163.4,
          171.5,
          161.7,
          191.5,
          150.9,
          162.3,
          145.7,
          161.7,
          177.2,
          146.9,
          145.2,
          179.5,
          141.7,
          144,
          159.4,
          147.4,
          130.9,
          172.6,
          160,
          177.2,
          188.6,
          156.6,
          149.7,
          157.7,
          133.2,
          164.6,
          144.6,
          185.7,
          170.9,
          158.3,
          173.2,
          153.7,
          165.2,
          156.6,
          173.7,
          162.3,
          165.2,
          150.9,
          183.5,
          156.6,
          163.4,
          159.4,
          164,
          183.5,
          162.9,
          157.7,
          156,
          152,
          173.2,
          194.3,
          163.4,
          153.2,
          161.2,
          168.6,
          159.4,
          177.2,
          169.7,
          161.7,
          165.7,
          160.6,
          178.9,
          167.4,
          165.7,
          163.4,
          149.2,
          146.3,
          181.2,
          174.3,
          158.3,
          165.7,
          180.6,
          177.2,
          154.3,
          152.6,
          157.7,
          153.2,
          153.2,
          151.4,
          150.9,
          145.2,
          142.9,
          152.6,
          149.2,
          136.6,
          150.9,
          142.3,
          173.7,
          191.5,
          180.6,
          161.7,
          172.6,
          161.2,
          165.7,
          182.3,
          186.9,
          160,
          143.4,
          158.3,
          164,
          145.7,
          162.9,
          138.3,
          158.9,
          158.9,
          157.2,
          173.7,
          158.9,
          150.9,
          174.3,
          150.3,
          146.9,
          150.3,
          171.5,
          168,
          173.7,
          156,
          161.7,
          169.7,
          169.7,
          180.6,
          175.5,
          140,
          146.3,
          190.9,
          166.3,
          168.6,
          163.4,
          143.4,
          156,
          183.5,
          185.2
         ],
         "y": [
          16.5,
          24.8,
          24.3,
          20.1,
          20.1,
          30.2,
          22.8,
          17.3,
          15.3,
          21.7,
          18.9,
          18.9,
          21.7,
          24.3,
          19.7,
          25.1,
          28.2,
          20.6,
          25.2,
          24.8,
          23.3,
          25.9,
          30.8,
          22.9,
          22.3,
          22.1,
          22.6,
          21.2,
          24.5,
          27.1,
          22.7,
          21.3,
          23.3,
          23.2,
          21.6,
          25.9,
          23.4,
          26.1,
          22,
          22.4,
          21.9,
          20.7,
          21.3,
          23.5,
          20.7,
          21.7,
          23.5,
          21.4,
          21.4,
          21.3,
          22.4,
          22.4,
          24.7,
          21.3,
          20.5,
          25.6,
          22.2,
          32.8,
          24.5,
          25,
          24,
          23.6,
          23.3,
          23.3,
          21.8,
          20.1,
          19.1,
          24.5,
          24.8,
          20.8,
          24.4,
          26.3,
          19.4,
          22.3,
          22.7,
          24.4,
          19.3,
          19.3,
          18.9,
          18.1,
          17.8,
          19.4,
          30.1,
          27.6,
          20.6,
          19.7,
          20.5,
          24,
          22.9,
          24.9,
          22.7,
          25.2,
          23.8,
          20.7,
          16.5,
          19.4,
          20.1,
          22.6,
          20.5,
          17.4,
          19.7,
          20.8,
          19.1,
          18.3,
          15.1,
          18.9,
          23.6,
          24.5,
          21.1,
          19.6,
          22.8,
          20.3,
          22.2,
          25.3,
          20,
          33.7,
          31.7,
          33.7,
          19.7,
          18.3,
          20.5,
          23,
          17.6,
          20.7,
          18.8,
          21.3,
          18.4,
          22.8,
          26.4,
          19.8,
          19.1,
          21.2,
          21.5,
          27.9,
          32.3,
          21.2,
          19.2
         ]
        },
        {
         "hovertext": [
          "Ashaway Dynamite 17",
          "Ashaway Dynamite Soft 17",
          "Ashaway Dynamite WB 16",
          "Ashaway MonoGut ZX 16",
          "Gamma Asterisk Tour 16",
          "Gamma Live Wire 16",
          "Gamma Live Wire XP 16",
          "Gamma Professional 16",
          "Gamma Professional Spin 16"
         ],
         "marker": {
          "color": "rgba(242, 137, 17, 0.5)",
          "line": {
           "width": 1
          },
          "size": 10
         },
         "mode": "markers",
         "name": "Nylon/Zyex",
         "type": "scatter",
         "x": [
          127.4,
          120,
          125.2,
          105.7,
          162.3,
          158.9,
          156.6,
          149.7,
          165.2
         ],
         "y": [
          29.9,
          28.1,
          32.9,
          47.6,
          24.6,
          29.7,
          24.7,
          25.1,
          23.7
         ]
        },
        {
         "hovertext": [
          "Babolat Attraction 16",
          "Dunlop S-Gut 17",
          "Gosen TecGut Remplir 16",
          "Tecnifibre E-Matrix 16",
          "Tecnifibre Multi-Feel 16",
          "Tecnifibre Multi-Feel 17 (1.25)",
          "Tecnifibre NRG2 18 (1.18)",
          "Tecnifibre TGV 16",
          "Tecnifibre TGV 17/1.25",
          "Tecnifibre X-One Biphase 16",
          "Tecnifibre X-One Biphase 17",
          "Tecnifibre XR3 16",
          "Tecnifibre XR3 17"
         ],
         "marker": {
          "color": "rgba(242, 36, 17, 0.5)",
          "line": {
           "width": 1
          },
          "size": 10
         },
         "mode": "markers",
         "name": "Nylon/Polyurethane",
         "type": "scatter",
         "x": [
          157.7,
          163.4,
          150.9,
          143.4,
          154.9,
          150.3,
          150.9,
          157.2,
          165.2,
          162.9,
          166.9,
          162.9,
          160.6
         ],
         "y": [
          20,
          21.4,
          31.1,
          20.4,
          21.4,
          20.9,
          20,
          24.8,
          21.2,
          17.7,
          15.1,
          20.8,
          18
         ]
        },
        {
         "hovertext": [
          "Babolat VS Natural ThermoGut 16 Touch",
          "Klip Legend 16 Uncoated",
          "Pacific Prime Natural Gut 16",
          "Wilson Natural Gut 16"
         ],
         "marker": {
          "color": "rgba(223, 242, 17, 0.5)",
          "line": {
           "width": 1
          },
          "size": 10
         },
         "mode": "markers",
         "name": "Gut",
         "type": "scatter",
         "x": [
          96,
          101.2,
          85.2,
          96.6
         ],
         "y": [
          18.7,
          15,
          13.5,
          17.3
         ]
        },
        {
         "hovertext": [
          "Dunlop Explosive Poly Max 16",
          "Head FXP 16",
          "Head FXP Tour 16",
          "IsoSpeed Energetic Plus 16",
          "Tecnifibre Duramix HD 16",
          "Tecnifibre Duramix HD 17",
          "Tecnifibre HDX Tour 16 (1.30)",
          "Tecnifibre Pro Mix 16",
          "Tecnifibre Pro Mix 17",
          "Wilson Enduro Pro 17 (1.25)",
          "Wilson NXT Control 16 (1.32)"
         ],
         "marker": {
          "color": "rgba(148, 17, 242, 0.5)",
          "line": {
           "width": 1
          },
          "size": 10
         },
         "mode": "markers",
         "name": "Nylon/Polyester",
         "type": "scatter",
         "x": [
          158.3,
          165.2,
          116.6,
          155.4,
          162.3,
          169.7,
          149.2,
          156.6,
          169.7,
          226.9,
          163.4
         ],
         "y": [
          23.5,
          22.8,
          22.8,
          22.4,
          34.1,
          32,
          12,
          37.7,
          34.3,
          32.9,
          31
         ]
        },
        {
         "hovertext": [
          "Head PerfectControl 16",
          "IsoSpeed Professional Classic 17"
         ],
         "marker": {
          "color": "rgba(247, 17, 228, 0.5)",
          "line": {
           "width": 1
          },
          "size": 10
         },
         "mode": "markers",
         "name": "Polyolefin",
         "type": "scatter",
         "x": [
          150.9,
          133.7
         ],
         "y": [
          20,
          28.9
         ]
        },
        {
         "hovertext": [
          "Head RIP PerfectPower 16",
          "IsoSpeed Axon Multi 16L",
          "IsoSpeed Energetic 17"
         ],
         "marker": {
          "color": "rgba(17, 223, 242, 0.5)",
          "line": {
           "width": 1
          },
          "size": 10
         },
         "mode": "markers",
         "name": "Nylon/Polyolefin",
         "type": "scatter",
         "x": [
          156.6,
          126.3,
          156.6
         ],
         "y": [
          23.1,
          29.1,
          34.3
         ]
        }
       ],
       "layout": {
        "font": {
         "color": "rgba(0, 0, 0, 1)",
         "family": "Courier New",
         "size": 20
        },
        "height": 1000,
        "legend": {
         "orientation": "h"
        },
        "template": {
         "data": {
          "bar": [
           {
            "error_x": {
             "color": "#2a3f5f"
            },
            "error_y": {
             "color": "#2a3f5f"
            },
            "marker": {
             "line": {
              "color": "#E5ECF6",
              "width": 0.5
             }
            },
            "type": "bar"
           }
          ],
          "barpolar": [
           {
            "marker": {
             "line": {
              "color": "#E5ECF6",
              "width": 0.5
             }
            },
            "type": "barpolar"
           }
          ],
          "carpet": [
           {
            "aaxis": {
             "endlinecolor": "#2a3f5f",
             "gridcolor": "white",
             "linecolor": "white",
             "minorgridcolor": "white",
             "startlinecolor": "#2a3f5f"
            },
            "baxis": {
             "endlinecolor": "#2a3f5f",
             "gridcolor": "white",
             "linecolor": "white",
             "minorgridcolor": "white",
             "startlinecolor": "#2a3f5f"
            },
            "type": "carpet"
           }
          ],
          "choropleth": [
           {
            "colorbar": {
             "outlinewidth": 0,
             "ticks": ""
            },
            "type": "choropleth"
           }
          ],
          "contour": [
           {
            "colorbar": {
             "outlinewidth": 0,
             "ticks": ""
            },
            "colorscale": [
             [
              0,
              "#0d0887"
             ],
             [
              0.1111111111111111,
              "#46039f"
             ],
             [
              0.2222222222222222,
              "#7201a8"
             ],
             [
              0.3333333333333333,
              "#9c179e"
             ],
             [
              0.4444444444444444,
              "#bd3786"
             ],
             [
              0.5555555555555556,
              "#d8576b"
             ],
             [
              0.6666666666666666,
              "#ed7953"
             ],
             [
              0.7777777777777778,
              "#fb9f3a"
             ],
             [
              0.8888888888888888,
              "#fdca26"
             ],
             [
              1,
              "#f0f921"
             ]
            ],
            "type": "contour"
           }
          ],
          "contourcarpet": [
           {
            "colorbar": {
             "outlinewidth": 0,
             "ticks": ""
            },
            "type": "contourcarpet"
           }
          ],
          "heatmap": [
           {
            "colorbar": {
             "outlinewidth": 0,
             "ticks": ""
            },
            "colorscale": [
             [
              0,
              "#0d0887"
             ],
             [
              0.1111111111111111,
              "#46039f"
             ],
             [
              0.2222222222222222,
              "#7201a8"
             ],
             [
              0.3333333333333333,
              "#9c179e"
             ],
             [
              0.4444444444444444,
              "#bd3786"
             ],
             [
              0.5555555555555556,
              "#d8576b"
             ],
             [
              0.6666666666666666,
              "#ed7953"
             ],
             [
              0.7777777777777778,
              "#fb9f3a"
             ],
             [
              0.8888888888888888,
              "#fdca26"
             ],
             [
              1,
              "#f0f921"
             ]
            ],
            "type": "heatmap"
           }
          ],
          "heatmapgl": [
           {
            "colorbar": {
             "outlinewidth": 0,
             "ticks": ""
            },
            "colorscale": [
             [
              0,
              "#0d0887"
             ],
             [
              0.1111111111111111,
              "#46039f"
             ],
             [
              0.2222222222222222,
              "#7201a8"
             ],
             [
              0.3333333333333333,
              "#9c179e"
             ],
             [
              0.4444444444444444,
              "#bd3786"
             ],
             [
              0.5555555555555556,
              "#d8576b"
             ],
             [
              0.6666666666666666,
              "#ed7953"
             ],
             [
              0.7777777777777778,
              "#fb9f3a"
             ],
             [
              0.8888888888888888,
              "#fdca26"
             ],
             [
              1,
              "#f0f921"
             ]
            ],
            "type": "heatmapgl"
           }
          ],
          "histogram": [
           {
            "marker": {
             "colorbar": {
              "outlinewidth": 0,
              "ticks": ""
             }
            },
            "type": "histogram"
           }
          ],
          "histogram2d": [
           {
            "colorbar": {
             "outlinewidth": 0,
             "ticks": ""
            },
            "colorscale": [
             [
              0,
              "#0d0887"
             ],
             [
              0.1111111111111111,
              "#46039f"
             ],
             [
              0.2222222222222222,
              "#7201a8"
             ],
             [
              0.3333333333333333,
              "#9c179e"
             ],
             [
              0.4444444444444444,
              "#bd3786"
             ],
             [
              0.5555555555555556,
              "#d8576b"
             ],
             [
              0.6666666666666666,
              "#ed7953"
             ],
             [
              0.7777777777777778,
              "#fb9f3a"
             ],
             [
              0.8888888888888888,
              "#fdca26"
             ],
             [
              1,
              "#f0f921"
             ]
            ],
            "type": "histogram2d"
           }
          ],
          "histogram2dcontour": [
           {
            "colorbar": {
             "outlinewidth": 0,
             "ticks": ""
            },
            "colorscale": [
             [
              0,
              "#0d0887"
             ],
             [
              0.1111111111111111,
              "#46039f"
             ],
             [
              0.2222222222222222,
              "#7201a8"
             ],
             [
              0.3333333333333333,
              "#9c179e"
             ],
             [
              0.4444444444444444,
              "#bd3786"
             ],
             [
              0.5555555555555556,
              "#d8576b"
             ],
             [
              0.6666666666666666,
              "#ed7953"
             ],
             [
              0.7777777777777778,
              "#fb9f3a"
             ],
             [
              0.8888888888888888,
              "#fdca26"
             ],
             [
              1,
              "#f0f921"
             ]
            ],
            "type": "histogram2dcontour"
           }
          ],
          "mesh3d": [
           {
            "colorbar": {
             "outlinewidth": 0,
             "ticks": ""
            },
            "type": "mesh3d"
           }
          ],
          "parcoords": [
           {
            "line": {
             "colorbar": {
              "outlinewidth": 0,
              "ticks": ""
             }
            },
            "type": "parcoords"
           }
          ],
          "pie": [
           {
            "automargin": true,
            "type": "pie"
           }
          ],
          "scatter": [
           {
            "marker": {
             "colorbar": {
              "outlinewidth": 0,
              "ticks": ""
             }
            },
            "type": "scatter"
           }
          ],
          "scatter3d": [
           {
            "line": {
             "colorbar": {
              "outlinewidth": 0,
              "ticks": ""
             }
            },
            "marker": {
             "colorbar": {
              "outlinewidth": 0,
              "ticks": ""
             }
            },
            "type": "scatter3d"
           }
          ],
          "scattercarpet": [
           {
            "marker": {
             "colorbar": {
              "outlinewidth": 0,
              "ticks": ""
             }
            },
            "type": "scattercarpet"
           }
          ],
          "scattergeo": [
           {
            "marker": {
             "colorbar": {
              "outlinewidth": 0,
              "ticks": ""
             }
            },
            "type": "scattergeo"
           }
          ],
          "scattergl": [
           {
            "marker": {
             "colorbar": {
              "outlinewidth": 0,
              "ticks": ""
             }
            },
            "type": "scattergl"
           }
          ],
          "scattermapbox": [
           {
            "marker": {
             "colorbar": {
              "outlinewidth": 0,
              "ticks": ""
             }
            },
            "type": "scattermapbox"
           }
          ],
          "scatterpolar": [
           {
            "marker": {
             "colorbar": {
              "outlinewidth": 0,
              "ticks": ""
             }
            },
            "type": "scatterpolar"
           }
          ],
          "scatterpolargl": [
           {
            "marker": {
             "colorbar": {
              "outlinewidth": 0,
              "ticks": ""
             }
            },
            "type": "scatterpolargl"
           }
          ],
          "scatterternary": [
           {
            "marker": {
             "colorbar": {
              "outlinewidth": 0,
              "ticks": ""
             }
            },
            "type": "scatterternary"
           }
          ],
          "surface": [
           {
            "colorbar": {
             "outlinewidth": 0,
             "ticks": ""
            },
            "colorscale": [
             [
              0,
              "#0d0887"
             ],
             [
              0.1111111111111111,
              "#46039f"
             ],
             [
              0.2222222222222222,
              "#7201a8"
             ],
             [
              0.3333333333333333,
              "#9c179e"
             ],
             [
              0.4444444444444444,
              "#bd3786"
             ],
             [
              0.5555555555555556,
              "#d8576b"
             ],
             [
              0.6666666666666666,
              "#ed7953"
             ],
             [
              0.7777777777777778,
              "#fb9f3a"
             ],
             [
              0.8888888888888888,
              "#fdca26"
             ],
             [
              1,
              "#f0f921"
             ]
            ],
            "type": "surface"
           }
          ],
          "table": [
           {
            "cells": {
             "fill": {
              "color": "#EBF0F8"
             },
             "line": {
              "color": "white"
             }
            },
            "header": {
             "fill": {
              "color": "#C8D4E3"
             },
             "line": {
              "color": "white"
             }
            },
            "type": "table"
           }
          ]
         },
         "layout": {
          "annotationdefaults": {
           "arrowcolor": "#2a3f5f",
           "arrowhead": 0,
           "arrowwidth": 1
          },
          "coloraxis": {
           "colorbar": {
            "outlinewidth": 0,
            "ticks": ""
           }
          },
          "colorscale": {
           "diverging": [
            [
             0,
             "#8e0152"
            ],
            [
             0.1,
             "#c51b7d"
            ],
            [
             0.2,
             "#de77ae"
            ],
            [
             0.3,
             "#f1b6da"
            ],
            [
             0.4,
             "#fde0ef"
            ],
            [
             0.5,
             "#f7f7f7"
            ],
            [
             0.6,
             "#e6f5d0"
            ],
            [
             0.7,
             "#b8e186"
            ],
            [
             0.8,
             "#7fbc41"
            ],
            [
             0.9,
             "#4d9221"
            ],
            [
             1,
             "#276419"
            ]
           ],
           "sequential": [
            [
             0,
             "#0d0887"
            ],
            [
             0.1111111111111111,
             "#46039f"
            ],
            [
             0.2222222222222222,
             "#7201a8"
            ],
            [
             0.3333333333333333,
             "#9c179e"
            ],
            [
             0.4444444444444444,
             "#bd3786"
            ],
            [
             0.5555555555555556,
             "#d8576b"
            ],
            [
             0.6666666666666666,
             "#ed7953"
            ],
            [
             0.7777777777777778,
             "#fb9f3a"
            ],
            [
             0.8888888888888888,
             "#fdca26"
            ],
            [
             1,
             "#f0f921"
            ]
           ],
           "sequentialminus": [
            [
             0,
             "#0d0887"
            ],
            [
             0.1111111111111111,
             "#46039f"
            ],
            [
             0.2222222222222222,
             "#7201a8"
            ],
            [
             0.3333333333333333,
             "#9c179e"
            ],
            [
             0.4444444444444444,
             "#bd3786"
            ],
            [
             0.5555555555555556,
             "#d8576b"
            ],
            [
             0.6666666666666666,
             "#ed7953"
            ],
            [
             0.7777777777777778,
             "#fb9f3a"
            ],
            [
             0.8888888888888888,
             "#fdca26"
            ],
            [
             1,
             "#f0f921"
            ]
           ]
          },
          "colorway": [
           "#636efa",
           "#EF553B",
           "#00cc96",
           "#ab63fa",
           "#FFA15A",
           "#19d3f3",
           "#FF6692",
           "#B6E880",
           "#FF97FF",
           "#FECB52"
          ],
          "font": {
           "color": "#2a3f5f"
          },
          "geo": {
           "bgcolor": "white",
           "lakecolor": "white",
           "landcolor": "#E5ECF6",
           "showlakes": true,
           "showland": true,
           "subunitcolor": "white"
          },
          "hoverlabel": {
           "align": "left"
          },
          "hovermode": "closest",
          "mapbox": {
           "style": "light"
          },
          "paper_bgcolor": "white",
          "plot_bgcolor": "#E5ECF6",
          "polar": {
           "angularaxis": {
            "gridcolor": "white",
            "linecolor": "white",
            "ticks": ""
           },
           "bgcolor": "#E5ECF6",
           "radialaxis": {
            "gridcolor": "white",
            "linecolor": "white",
            "ticks": ""
           }
          },
          "scene": {
           "xaxis": {
            "backgroundcolor": "#E5ECF6",
            "gridcolor": "white",
            "gridwidth": 2,
            "linecolor": "white",
            "showbackground": true,
            "ticks": "",
            "zerolinecolor": "white"
           },
           "yaxis": {
            "backgroundcolor": "#E5ECF6",
            "gridcolor": "white",
            "gridwidth": 2,
            "linecolor": "white",
            "showbackground": true,
            "ticks": "",
            "zerolinecolor": "white"
           },
           "zaxis": {
            "backgroundcolor": "#E5ECF6",
            "gridcolor": "white",
            "gridwidth": 2,
            "linecolor": "white",
            "showbackground": true,
            "ticks": "",
            "zerolinecolor": "white"
           }
          },
          "shapedefaults": {
           "line": {
            "color": "#2a3f5f"
           }
          },
          "ternary": {
           "aaxis": {
            "gridcolor": "white",
            "linecolor": "white",
            "ticks": ""
           },
           "baxis": {
            "gridcolor": "white",
            "linecolor": "white",
            "ticks": ""
           },
           "bgcolor": "#E5ECF6",
           "caxis": {
            "gridcolor": "white",
            "linecolor": "white",
            "ticks": ""
           }
          },
          "title": {
           "x": 0.05
          },
          "xaxis": {
           "automargin": true,
           "gridcolor": "white",
           "linecolor": "white",
           "ticks": "",
           "title": {
            "standoff": 15
           },
           "zerolinecolor": "white",
           "zerolinewidth": 2
          },
          "yaxis": {
           "automargin": true,
           "gridcolor": "white",
           "linecolor": "white",
           "ticks": "",
           "title": {
            "standoff": 15
           },
           "zerolinecolor": "white",
           "zerolinewidth": 2
          }
         }
        },
        "title": {
         "text": "Ref. Tension 51 lbs"
        },
        "width": 900,
        "xaxis": {
         "showgrid": false,
         "ticklen": 10,
         "ticks": "inside",
         "title": {
          "text": "Stiffness (lbs/in)"
         }
        },
        "yaxis": {
         "showgrid": false,
         "ticklen": 10,
         "ticks": "inside",
         "title": {
          "text": "Tension Loss %"
         }
        }
       }
      },
      "text/html": [
       "<div>\n",
       "        \n",
       "        \n",
       "            <div id=\"8bff4641-d246-4adb-b4c9-7f08019c62eb\" class=\"plotly-graph-div\" style=\"height:1000px; width:900px;\"></div>\n",
       "            <script type=\"text/javascript\">\n",
       "                require([\"plotly\"], function(Plotly) {\n",
       "                    window.PLOTLYENV=window.PLOTLYENV || {};\n",
       "                    \n",
       "                if (document.getElementById(\"8bff4641-d246-4adb-b4c9-7f08019c62eb\")) {\n",
       "                    Plotly.newPlot(\n",
       "                        '8bff4641-d246-4adb-b4c9-7f08019c62eb',\n",
       "                        [{\"hovertext\": [\"Alien Black Diamond 16\", \"Ashaway MonoGut 16L\", \"Ashaway MonoGut 17\", \"Babolat Ballistic Polymono 16\", \"Babolat Hurricane Feel 16\", \"Babolat Hurricane Feel 17\", \"Babolat Pro Hurricane 17\", \"Babolat Pro Hurricane 18\", \"Babolat Pro Hurricane Tour 16\", \"Babolat Pro Hurricane Tour 17\", \"Babolat RPM Blast 16\", \"Babolat RPM Blast 17/1.25\", \"Babolat RPM Dual 16\", \"Babolat RPM Team 16 Black\", \"Boris Becker Bomber 16\", \"Diadem Solstice Power 16 (1.30)\", \"Diadem Solstice Power 17 (1.20)\", \"Double AR Diablo (1.24)\", \"Double AR Diablo (1.31)\", \"Double AR Raptor 1.27\", \"Double AR Twice Dragon(1.30)\", \"Double AR Twice Shark (1.25)\", \"Double AR WTS 25 (1.25)\", \"Dunlop Black Widow 16\", \"Dunlop Black Widow 17\", \"Dunlop Comfort Poly 17\", \"Dunlop Explosive 16\", \"Dunlop Juice 16 (1.31)\", \"Dunlop Juice 17 (1.26)\", \"Gamma Monoblast 16\", \"Gamma Moto 16\", \"Gamma Poly Z 16\", \"Gamma RZR Rx 16\", \"Gamma Zo Black Ice 17 (1.23)\", \"Gamma Zo Black Ice 18 (1.18)\", \"Gamma Zo Ice 16\", \"Gamma Zo Magic 16\", \"Gamma Zo Tour 17 (1.25)\", \"Gamma Zo Tour Rough 16\", \"Gamma Zo Twist 16\", \"Gamma Zo Verve 17\", \"Gosen Polylon 16\", \"Gosen Polylon 17 (1.24)\", \"Gosen Polylon Comfort 16\", \"Gosen Polylon PolyBreak 17 (1.24)\", \"Gosen Polylon PolyBreak 18 (1.20)\", \"Gosen Polylon SP 16 (1.30)\", \"Gosen Polylon SP 17 (1.24)\", \"Gosen Polymaster I 16\", \"Gosen Polymaster II 16\", \"Gosen Sidewinder 17\", \"Head Hawk 17 (1.25)\", \"Head Lynx 16 (1.30)\", \"Head Sonic Pro 16\", \"Head Sonic Pro 17\", \"Head Sonic Pro Edge 16\", \"Head Ultra Tour 16\", \"Head Ultratour 17\", \"IsoSpeed Axon Mono 16L\", \"IsoSpeed Black Fire 17\", \"IsoSpeed Pulse 16\", \"IsoSpeed Pyramid 16\", \"Kirschbaum Black Shark 16 (1.30)\", \"Kirschbaum Black Shark 17 (1.25)\", \"Kirschbaum Competition 16/1.30\", \"Kirschbaum Competition 17 (1.25)\", \"Kirschbaum Competition 17L (1.20)\", \"Kirschbaum Helix 16\", \"Kirschbaum Helix 17\", \"Kirschbaum Long Life 15\", \"Kirschbaum Max Power 17 (1.25)\", \"Kirschbaum P2 16/1.30\", \"Kirschbaum P2 17 (1.25)\", \"Kirschbaum P2 17L (1.20)\", \"Kirschbaum Pro Line I 1.30\", \"Kirschbaum Pro Line I 17 (1.25)\", \"Kirschbaum Pro Line I 17L (1.20)\", \"Kirschbaum Pro Line I 18L (1.15)\", \"Kirschbaum Pro Line II 1.30\", \"Kirschbaum Pro Line II 17 (1.25)\", \"Kirschbaum Pro Line II 17L (1.20)\", \"Kirschbaum Pro Line II 18 (1.15)\", \"Kirschbaum Pro Line X 16 (1.30)\", \"Kirschbaum Pro Line X 17 (1.25)\", \"Kirschbaum Spiky Shark 16\", \"Kirschbaum Spiky Shark 17\", \"Kirschbaum Super Smash 16/1.30\", \"Kirschbaum Super Smash 17 (1.25)\", \"Kirschbaum Super Smash Spiky 1.20\", \"Kirschbaum Super Smash Spiky 16/1.30\", \"Kirschbaum Super Smash Spiky 17 (1.25)\", \"Kirschbaum Touch Turbo 1.30\", \"Kirschbaum Touch Turbo 16L (1.275)\", \"Klip Hardcore 16/1.30\", \"Klip K-Boom 16/1.30\", \"L-Tec Premium 3S 16L (1.25)\", \"L-Tec Premium 4S 16L (1.25)\", \"L-Tec Premium 5S 16L (1.25)\", \"L-Tec Premium OS 17 (1.23)\", \"L-Tec Premium Pro OS 16L\", \"Leopard Plus Control 16\", \"Luxilon 4G 16L (1.25)\", \"Luxilon 4G Rough 16L\", \"Luxilon 4G Soft 1.25\", \"Luxilon ALU Power 125/16L\", \"Luxilon ALU Power Feel 18/1.20\", \"Luxilon Adrenaline 16\", \"Luxilon Adrenaline 16L/1.25\", \"Luxilon Adrenaline 17/1.20\", \"Luxilon Adrenaline Rough 16L/1.25\", \"Luxilon Alu Power Soft 1.25\", \"Luxilon Big Banger ALU Power Spin 127/16\", \"Luxilon Big Banger Ace 18 (1.12)\", \"Luxilon Big Banger Original 130/16\", \"Luxilon Big Banger Rough 130/16\", \"Luxilon Big Banger TiMO 17L (1.17)\", \"Luxilon Big Banger Timo 17 (1.22)\", \"Luxilon Big Banger Timo 18 (1.10)\", \"Luxilon Big Banger XP 125/16L\", \"Luxilon Big Banger XP 15L (1.38)\", \"Luxilon Element 1.30\", \"Luxilon M2 Pro 125/16\", \"Luxilon Monotec Super Poly 1.25/16L\", \"Luxilon Monotec Supersense 16L/1.25\", \"Luxilon Monotec Zolo 15L\", \"Luxilon Savage 16/1.27\", \"MSV Co.-Focus 16L\", \"MSV Focus Evo 16\", \"MSV Focus Evo 17\", \"MSV Focus Hex 17L (1.18)\", \"MSV Focus Hex Soft 17 (1.25)\", \"MSV Hepta-Twist 17\", \"Mantis Comfort Poly 16\", \"Mantis Power Poly 17\", \"One Strings Carbon NRG 16\", \"Pacific ATP Poly Power Pro 16L\", \"Pacific Poly Force 16L\", \"Pacific Poly Force 17\", \"Pacific Poly Force Xtreme 16L\", \"Pacific X Force 17\", \"Pacific X Force 18\", \"Poly Star Classic 16 (1.30)\", \"Poly Star Classic 16L (1.25)\", \"Poly Star Classic 17 (1.20)\", \"Poly Star Energy 16 (1.30)\", \"Poly Star Energy 16L (1.25)\", \"Poly Star Energy 17 (1.20)\", \"Poly Star Strike 16 (1.30)\", \"Poly Star Strike 16L (1.25)\", \"Poly Star Turbo 16 (1.30)\", \"Poly Star Turbo 16L (1.25)\", \"Polyfibre Black Venom 16 (1.30)\", \"Polyfibre Cobra 17/1.20\", \"Polyfibre Hexablade 16L (1.25)\", \"Polyfibre Hexablade 17L (1.18)\", \"Polyfibre Hightec Premium 16/1.30\", \"Polyfibre Hightec Premium 16L\", \"Polyfibre Hightec Premium 17\", \"Polyfibre Poly Hightec 16/1.30\", \"Polyfibre Poly Hightec 16L\", \"Polyfibre Poly Hightec 17\", \"Polyfibre Poly Hightec 18\", \"Polyfibre TCS 16/1.30\", \"Polyfibre TCS 16L\", \"Polyfibre TCS 17\", \"Polyfibre TCS Rapid 16L/1.25\", \"Polyfibre Viper 17/1.20\", \"Prince Beast XP 16\", \"Prince Poly EXP 17\", \"Prince Poly Spin 3D\", \"Prince Tour 16\", \"Prince Tour 17\", \"Prince Tour XC 15L\", \"Prince Tour XC 16L\", \"Prince Tour XC 17L\", \"Prince Tour XP 15L\", \"Prince Tour XP 16\", \"Prince Tour XS 1.35\", \"Prince Tour XS 16\", \"Prince Tour XT 18\", \"Prince Twisted 16L\", \"RS RS Lyon 17\", \"Signum Pro Firestorm 1.25\", \"Signum Pro Hyperion 16\", \"Signum Pro Hyperion 17 (1.24)\", \"Signum Pro Poly Megaforce 16\", \"Signum Pro Poly Megaforce 17 (1.19)\", \"Signum Pro Poly-Plasma 16L\", \"Signum Pro Poly-Plasma 17L (1.18)\", \"Signum Pro Poly-Plasma Pure 16L\", \"Signum Pro Poly-Plasma Pure 17 (1.23)\", \"Signum Pro Tornado 16\", \"Signum Pro Tornado 17 (1.23)\", \"Solinco Barb Wire 16\", \"Solinco Barb Wire 17 (1.20)\", \"Solinco Hyper-G 16\", \"Solinco Outlast 16\", \"Solinco Outlast 17\", \"Solinco Revolution 16\", \"Solinco Revolution 17\", \"Solinco Tour Bite 16\", \"Solinco Tour Bite 16 Soft\", \"Solinco Tour Bite 16L (1.25)\", \"Solinco Tour Bite 17\", \"Solinco Tour Bite 18 (1.15)\", \"Solinco Tour Bite Diamond Rough 16 (1.30)\", \"Solinco Tour Bite Diamond Rough 16L (1.25)\", \"Solinco Tour Bite Diamond Rough 17 (1.20)\", \"SuperString Nikita Original 1.25\", \"SuperString Viper V2 Rough 16L\", \"Tecnifibre Black Code 17\", \"Tecnifibre Black Code 18\", \"Tecnifibre Black Code 4S 17 (1.25)\", \"Tecnifibre Polyspin 16L\", \"Tecnifibre Pro Red Code 16\", \"Tecnifibre Pro Red Code 17\", \"Tecnifibre Pro Red Code 18\", \"Tecnifibre Razor Code 16 (1.30)\", \"Tecnifibre X-Code 16\", \"Topspin Cyber Blue 16\", \"Topspin Cyber Blue 17\", \"Topspin Cyber Flash 16\", \"Topspin Cyber Flash 17\", \"Topspin Cyber Flash 17L\", \"Tourna Big Hitter Black 7 17\", \"Tourna Big Hitter Blue 17\", \"Tourna Big Hitter Blue Rough 16\", \"Tourna Big Hitter Blue Rough 17\", \"Tourna Big Hitter Silver 17\", \"Tourna Big Hitter Silver Rough 16\", \"Tourna Big Hitter Silver Rough 17\", \"Tourna Black Zone 16\", \"Volkl Cyclone 16\", \"Volkl Cyclone 17\", \"Volkl Cyclone 18\", \"Volkl Cyclone 19 (1.10)\", \"Volkl Cyclone Tour 17 (1.25)\", \"Volkl V-Pro 16\", \"Volkl V-Pro 17\", \"Volkl V-Pro 18\", \"Volkl V-Star 16 (1.30)\", \"Volkl V-Torque 16\", \"Weiss Cannon Black 5 Edge 17 (1.24)\", \"Weiss Cannon MatchPower 1.25\", \"Weiss Cannon Scorpion 1.22\", \"Weiss Cannon Scorpion 1.33\", \"Weiss Cannon Silverstring 1.25\", \"Weiss Cannon Silverstring 120\", \"Weiss Cannon Turbotwist 17 (1.24)\", \"Weiss Cannon Turbotwist 17L (1.18)\", \"Wilson Enduro Pro 16\", \"Wilson Enduro Tour 16\", \"Wilson Enduro Tour 17\", \"Wilson Revolve 17 (1.25)\", \"Wilson Ripspin 15\", \"Wilson Ripspin 16\", \"Wilson Ripspin 17\", \"Wilson Spin Cycle 16L\", \"Y-Tex Quadro Twist 16L\", \"Yonex Poly Tour Pro Yellow 16 (1.30)\", \"Yonex Poly Tour Spin G 1.25\"], \"marker\": {\"color\": \"rgba(17, 28, 242, 0.5)\", \"line\": {\"width\": 1}, \"size\": 10}, \"mode\": \"markers\", \"name\": \"Polyester\", \"type\": \"scatter\", \"x\": [190.3, 202.9, 188.6, 217.7, 249.7, 239.5, 192.6, 185.2, 227.5, 214.9, 232.6, 233.7, 237.2, 280.6, 204.6, 202.9, 196.6, 166.9, 169.7, 238.3, 170.9, 143.4, 168.0, 193.2, 216.6, 236.6, 233.2, 215.5, 208.6, 220.6, 226.9, 179.5, 196.0, 211.5, 199.5, 223.5, 248.0, 204.0, 186.9, 190.3, 230.9, 206.9, 208.0, 189.2, 195.5, 165.2, 184.6, 174.9, 186.9, 172.0, 159.4, 204.6, 185.7, 160.6, 164.6, 194.9, 201.7, 207.5, 199.5, 204.6, 164.6, 174.9, 223.5, 216.6, 210.3, 210.3, 190.3, 204.6, 208.6, 231.5, 240.6, 218.9, 235.5, 197.2, 224.6, 204.6, 194.9, 189.2, 209.7, 201.2, 193.2, 182.9, 240.0, 218.3, 216.0, 197.7, 221.7, 210.9, 205.2, 216.6, 214.3, 218.3, 196.0, 193.2, 237.2, 220.0, 233.7, 210.3, 224.0, 253.7, 225.7, 258.9, 216.0, 217.2, 209.2, 186.9, 212.6, 202.9, 208.0, 202.9, 197.7, 213.7, 203.5, 213.2, 212.6, 204.0, 206.9, 189.2, 209.2, 236.6, 191.5, 181.7, 233.2, 209.7, 219.5, 234.3, 184.6, 226.3, 206.9, 224.0, 228.0, 181.2, 224.6, 203.5, 180.0, 194.3, 208.0, 233.2, 218.3, 225.7, 208.6, 185.7, 174.9, 166.9, 173.2, 169.7, 165.2, 201.2, 184.0, 165.2, 168.6, 180.0, 154.3, 172.0, 168.6, 174.3, 170.3, 157.7, 173.2, 169.2, 157.7, 150.3, 173.2, 166.9, 158.9, 160.0, 157.7, 198.9, 217.7, 178.9, 214.9, 198.9, 208.6, 205.7, 205.7, 184.6, 198.3, 195.5, 196.6, 184.0, 230.3, 196.6, 197.7, 220.0, 202.3, 234.9, 213.2, 225.7, 197.2, 221.2, 199.5, 215.5, 214.3, 214.3, 186.3, 219.5, 208.0, 182.9, 215.5, 188.6, 202.9, 184.0, 237.7, 181.2, 161.7, 192.6, 191.5, 181.7, 198.9, 194.3, 236.0, 202.9, 209.2, 226.9, 232.0, 225.7, 217.2, 242.9, 188.0, 189.7, 183.5, 185.2, 158.9, 144.0, 175.5, 222.3, 222.3, 209.7, 185.7, 206.3, 197.2, 197.2, 197.2, 191.5, 181.2, 182.9, 170.9, 233.7, 188.0, 213.2, 172.6, 181.7, 215.5, 218.3, 192.6, 222.9, 195.5, 167.4, 216.6, 203.5, 219.5, 251.5, 169.7, 192.0, 212.0, 212.0, 209.2, 205.7, 177.7, 191.5, 237.2], \"y\": [50.7, 47.0, 50.9, 45.9, 30.7, 31.9, 42.0, 37.2, 46.1, 44.8, 45.9, 33.3, 34.9, 22.0, 46.9, 29.6, 28.5, 55.4, 55.7, 22.3, 51.2, 63.8, 56.5, 38.2, 31.6, 42.1, 35.8, 48.4, 45.8, 42.5, 30.8, 51.8, 27.3, 41.2, 39.6, 37.8, 33.7, 50.3, 48.9, 46.3, 25.3, 50.9, 48.8, 54.1, 48.9, 53.3, 52.5, 52.2, 51.8, 53.0, 46.7, 32.9, 45.6, 57.0, 54.9, 38.5, 45.1, 44.9, 34.4, 39.3, 56.9, 58.0, 41.2, 38.4, 47.5, 47.5, 45.0, 55.3, 44.2, 55.4, 23.5, 38.3, 33.9, 41.6, 47.8, 50.8, 52.2, 50.4, 47.6, 44.9, 46.0, 46.4, 27.2, 37.0, 47.4, 53.5, 50.7, 48.0, 52.7, 54.6, 51.0, 45.7, 48.5, 49.8, 34.0, 35.6, 35.3, 36.8, 28.8, 26.4, 40.0, 21.3, 32.8, 25.4, 46.6, 42.9, 45.3, 44.3, 41.8, 44.8, 36.6, 45.0, 46.1, 51.4, 52.0, 45.9, 44.3, 45.4, 49.0, 48.0, 44.3, 53.0, 44.1, 47.7, 47.0, 46.2, 49.7, 44.4, 46.1, 27.5, 29.4, 50.2, 40.2, 43.0, 42.3, 51.1, 45.7, 36.7, 39.6, 36.2, 37.0, 55.8, 54.5, 61.6, 66.3, 68.0, 63.6, 49.1, 51.4, 66.7, 64.9, 56.9, 63.7, 62.9, 63.8, 57.6, 59.8, 61.9, 57.8, 61.4, 63.0, 61.0, 59.6, 62.1, 63.4, 64.3, 64.3, 41.7, 43.7, 60.2, 53.0, 55.6, 45.4, 36.7, 36.6, 44.2, 36.5, 36.9, 36.2, 38.2, 43.5, 36.0, 46.4, 40.9, 42.6, 34.9, 36.3, 39.2, 40.3, 40.6, 43.0, 47.7, 44.3, 40.2, 42.6, 26.3, 47.3, 50.4, 47.4, 50.0, 47.1, 50.3, 25.2, 48.6, 50.6, 52.0, 47.0, 43.5, 42.9, 38.3, 40.2, 40.7, 28.3, 36.3, 34.8, 36.4, 36.3, 32.7, 37.9, 43.3, 46.1, 46.5, 54.9, 59.1, 43.0, 36.3, 40.5, 43.8, 44.0, 45.0, 42.1, 29.5, 47.9, 48.1, 48.1, 33.2, 52.6, 39.2, 47.7, 33.1, 54.5, 49.7, 32.8, 38.4, 44.2, 47.8, 43.8, 50.6, 49.5, 48.6, 36.3, 37.6, 62.4, 36.2, 41.7, 39.6, 37.8, 38.7, 48.5, 44.5, 25.7]}, {\"hovertext\": [\"Alpha Gut 2000 16\", \"Ashaway Liberty 16\", \"Ashaway Synthetic Gut 16\", \"Babolat Addiction 16\", \"Babolat Addiction 17\", \"Babolat Conquest 16\", \"Babolat FiberTour 16\", \"Babolat Origin 17\", \"Babolat SG SpiralTek 16\", \"Babolat Super Fine Play 16\", \"Babolat Xcel 16\", \"Babolat Xcel Power 16\", \"Babolat Xcel Power 17\", \"Double AR 666 (1.30)\", \"Dunlop Comfort Synthetic 16\", \"Dunlop DNA 16 (1.30)\", \"Dunlop DNA 17 (1.22)\", \"Dunlop Explosive Synthetic 16\", \"Dunlop Hexy Fiber 16\", \"Dunlop Hexy Fiber 17\", \"Dunlop M-Fil Tour 16\", \"Dunlop Silk 16 (1.30)\", \"Dunlop Silk 17\", \"Dunlop Synthetic Gut 16\", \"Dunlop Tour Performance 16\", \"Dunlop X-Life Synthetic 15L\", \"Forten Sweet 16\", \"Gamma Asterisk 16\", \"Gamma Asterisk Spin 16\", \"Gamma ESP 16\", \"Gamma Glide Cross String 16\", \"Gamma Prodigy 16\", \"Gamma Professional 17\", \"Gamma Synthetic Gut 16\", \"Gamma TNT2 16\", \"Gamma TNT2 Pro Plus 16\", \"Gamma TNT2 Rx 16\", \"Gamma TNT2 Touch 16\", \"Gamma WearGuard Synthetic Gut 16\", \"Gosen A.K. Control 16\", \"Gosen AK Pro 16\", \"Gosen AK Pro 17\", \"Gosen Compositemaster I 16\", \"Gosen Compositemaster II 16\", \"Gosen Nanocubic 16\", \"Gosen Nanosilver 17\", \"Gosen OG Sheep Micro 17\", \"Gosen OG Sheep Micro 18\", \"Gosen OG Sheep Micro Super 16L\", \"Gosen OG-Sheep Micro 16\", \"Gosen Powermaster I 16\", \"Gosen Powermaster II 16\", \"Head ETS 16\", \"Head ETS 17\", \"Head FXP 17\", \"Head FXP Power 16\", \"Head FXP Power 17\", \"Head Fibergel Power 16\", \"Head Fibergel Power 17\", \"Head Fibergel Spin 16\", \"Head Reflex MLT 16 (1.30)\", \"Head Synthetic Gut 16\", \"Head Synthetic Gut PPS 16\", \"Kirschbaum Touch Multifibre 16\", \"Kirschbaum Touch Multifibre 17 (1.25)\", \"Klip Excellerator 16/1.30\", \"Klip Kicker 16\", \"Klip Scorcher 16/1.30\", \"Klip Synthetic Gut 16\", \"Klip Venom 16/1.30\", \"Mantis Comfort Synthetic 16\", \"Pacific PMX 16L\", \"Pacific Power Line 16L\", \"Pacific Power Line 17\", \"Pacific Power Twist 16L\", \"Pacific Premium Power X 16L\", \"Prince Lightning XX 16\", \"Prince Lightning XX 17\", \"Prince Premier Control 15\", \"Prince Premier Control 15L\", \"Prince Premier Control 16\", \"Prince Premier Control 17\", \"Prince Premier LT 17\", \"Prince Premier LT 18\", \"Prince Premier Power 16\", \"Prince Premier Power 17\", \"Prince Premier Power 18\", \"Prince Premier Touch 15L\", \"Prince Premier Touch 16\", \"Prince Premier Touch 17\", \"Prince Premier W/ Softflex 17\", \"Prince Premier W/Softflex 16\", \"Prince Recoil 16\", \"Prince Syn Gut Original 16\", \"Prince Syn Gut Original 17\", \"Prince Synthetic Gut 18 Duraflex\", \"Prince Synthetic Gut Multifilament 16\", \"Prince Synthetic Gut Multifilament 17\", \"Prince Topspin Plus 16\", \"Prince Topspin W/ Duraflex 15L\", \"Prince Tournament Nylon 15L\", \"Solinco Vanquish 16\", \"Tecnifibre E-Matrix 17\", \"Tecnifibre NRG2 16\", \"Tecnifibre NRG2 17/1.24\", \"Tecnifibre X-One Biphase 18\", \"Tourna Irradiated 16\", \"Volkl Gripper 17\", \"Volkl Power-Fiber II 16\", \"Volkl Power-Fiber II 17\", \"Volkl Power-Fiber II 18\", \"Volkl Synthetic Gut 16\", \"Volkl Synthetic Gut 17\", \"Weiss Cannon Explosiv 1.30\", \"Wilson Extreme 16 Synthetic Gut\", \"Wilson Hollow Core 16\", \"Wilson Hollow Core Pro 16\", \"Wilson Hollow Core Pro 17\", \"Wilson K-Gut 16\", \"Wilson K-Gut Pro 16\", \"Wilson NXT 16\", \"Wilson NXT 17\", \"Wilson NXT Duramax 15 (1.40)\", \"Wilson NXT Max 16\", \"Wilson NXT OS\", \"Wilson NXT Tour 16\", \"Wilson NXT Tour 17\", \"Wilson Optimus 16 (1.30)\", \"Wilson Reaction 16\", \"Wilson Red Alert 16\", \"Wilson SGX 16\", \"Wilson Sensation 16\", \"Wilson Sensation 17\", \"Wilson Sensation Supreme 16\", \"Wilson Shock Shield 16\", \"Wilson Stamina 16\", \"Wilson Synthetic Gut Extreme 17\"], \"marker\": {\"color\": \"rgba(63, 191, 127, 0.5)\", \"line\": {\"width\": 1}, \"size\": 10}, \"mode\": \"markers\", \"name\": \"Nylon\", \"type\": \"scatter\", \"x\": [159.4, 167.4, 166.9, 167.4, 153.7, 174.9, 163.4, 171.5, 161.7, 191.5, 150.9, 162.3, 145.7, 161.7, 177.2, 146.9, 145.2, 179.5, 141.7, 144.0, 159.4, 147.4, 130.9, 172.6, 160.0, 177.2, 188.6, 156.6, 149.7, 157.7, 133.2, 164.6, 144.6, 185.7, 170.9, 158.3, 173.2, 153.7, 165.2, 156.6, 173.7, 162.3, 165.2, 150.9, 183.5, 156.6, 163.4, 159.4, 164.0, 183.5, 162.9, 157.7, 156.0, 152.0, 173.2, 194.3, 163.4, 153.2, 161.2, 168.6, 159.4, 177.2, 169.7, 161.7, 165.7, 160.6, 178.9, 167.4, 165.7, 163.4, 149.2, 146.3, 181.2, 174.3, 158.3, 165.7, 180.6, 177.2, 154.3, 152.6, 157.7, 153.2, 153.2, 151.4, 150.9, 145.2, 142.9, 152.6, 149.2, 136.6, 150.9, 142.3, 173.7, 191.5, 180.6, 161.7, 172.6, 161.2, 165.7, 182.3, 186.9, 160.0, 143.4, 158.3, 164.0, 145.7, 162.9, 138.3, 158.9, 158.9, 157.2, 173.7, 158.9, 150.9, 174.3, 150.3, 146.9, 150.3, 171.5, 168.0, 173.7, 156.0, 161.7, 169.7, 169.7, 180.6, 175.5, 140.0, 146.3, 190.9, 166.3, 168.6, 163.4, 143.4, 156.0, 183.5, 185.2], \"y\": [16.5, 24.8, 24.3, 20.1, 20.1, 30.2, 22.8, 17.3, 15.3, 21.7, 18.9, 18.9, 21.7, 24.3, 19.7, 25.1, 28.2, 20.6, 25.2, 24.8, 23.3, 25.9, 30.8, 22.9, 22.3, 22.1, 22.6, 21.2, 24.5, 27.1, 22.7, 21.3, 23.3, 23.2, 21.6, 25.9, 23.4, 26.1, 22.0, 22.4, 21.9, 20.7, 21.3, 23.5, 20.7, 21.7, 23.5, 21.4, 21.4, 21.3, 22.4, 22.4, 24.7, 21.3, 20.5, 25.6, 22.2, 32.8, 24.5, 25.0, 24.0, 23.6, 23.3, 23.3, 21.8, 20.1, 19.1, 24.5, 24.8, 20.8, 24.4, 26.3, 19.4, 22.3, 22.7, 24.4, 19.3, 19.3, 18.9, 18.1, 17.8, 19.4, 30.1, 27.6, 20.6, 19.7, 20.5, 24.0, 22.9, 24.9, 22.7, 25.2, 23.8, 20.7, 16.5, 19.4, 20.1, 22.6, 20.5, 17.4, 19.7, 20.8, 19.1, 18.3, 15.1, 18.9, 23.6, 24.5, 21.1, 19.6, 22.8, 20.3, 22.2, 25.3, 20.0, 33.7, 31.7, 33.7, 19.7, 18.3, 20.5, 23.0, 17.6, 20.7, 18.8, 21.3, 18.4, 22.8, 26.4, 19.8, 19.1, 21.2, 21.5, 27.9, 32.3, 21.2, 19.2]}, {\"hovertext\": [\"Ashaway Dynamite 17\", \"Ashaway Dynamite Soft 17\", \"Ashaway Dynamite WB 16\", \"Ashaway MonoGut ZX 16\", \"Gamma Asterisk Tour 16\", \"Gamma Live Wire 16\", \"Gamma Live Wire XP 16\", \"Gamma Professional 16\", \"Gamma Professional Spin 16\"], \"marker\": {\"color\": \"rgba(242, 137, 17, 0.5)\", \"line\": {\"width\": 1}, \"size\": 10}, \"mode\": \"markers\", \"name\": \"Nylon/Zyex\", \"type\": \"scatter\", \"x\": [127.4, 120.0, 125.2, 105.7, 162.3, 158.9, 156.6, 149.7, 165.2], \"y\": [29.9, 28.1, 32.9, 47.6, 24.6, 29.7, 24.7, 25.1, 23.7]}, {\"hovertext\": [\"Babolat Attraction 16\", \"Dunlop S-Gut 17\", \"Gosen TecGut Remplir 16\", \"Tecnifibre E-Matrix 16\", \"Tecnifibre Multi-Feel 16\", \"Tecnifibre Multi-Feel 17 (1.25)\", \"Tecnifibre NRG2 18 (1.18)\", \"Tecnifibre TGV 16\", \"Tecnifibre TGV 17/1.25\", \"Tecnifibre X-One Biphase 16\", \"Tecnifibre X-One Biphase 17\", \"Tecnifibre XR3 16\", \"Tecnifibre XR3 17\"], \"marker\": {\"color\": \"rgba(242, 36, 17, 0.5)\", \"line\": {\"width\": 1}, \"size\": 10}, \"mode\": \"markers\", \"name\": \"Nylon/Polyurethane\", \"type\": \"scatter\", \"x\": [157.7, 163.4, 150.9, 143.4, 154.9, 150.3, 150.9, 157.2, 165.2, 162.9, 166.9, 162.9, 160.6], \"y\": [20.0, 21.4, 31.1, 20.4, 21.4, 20.9, 20.0, 24.8, 21.2, 17.7, 15.1, 20.8, 18.0]}, {\"hovertext\": [\"Babolat VS Natural ThermoGut 16 Touch\", \"Klip Legend 16 Uncoated\", \"Pacific Prime Natural Gut 16\", \"Wilson Natural Gut 16\"], \"marker\": {\"color\": \"rgba(223, 242, 17, 0.5)\", \"line\": {\"width\": 1}, \"size\": 10}, \"mode\": \"markers\", \"name\": \"Gut\", \"type\": \"scatter\", \"x\": [96.0, 101.2, 85.2, 96.6], \"y\": [18.7, 15.0, 13.5, 17.3]}, {\"hovertext\": [\"Dunlop Explosive Poly Max 16\", \"Head FXP 16\", \"Head FXP Tour 16\", \"IsoSpeed Energetic Plus 16\", \"Tecnifibre Duramix HD 16\", \"Tecnifibre Duramix HD 17\", \"Tecnifibre HDX Tour 16 (1.30)\", \"Tecnifibre Pro Mix 16\", \"Tecnifibre Pro Mix 17\", \"Wilson Enduro Pro 17 (1.25)\", \"Wilson NXT Control 16 (1.32)\"], \"marker\": {\"color\": \"rgba(148, 17, 242, 0.5)\", \"line\": {\"width\": 1}, \"size\": 10}, \"mode\": \"markers\", \"name\": \"Nylon/Polyester\", \"type\": \"scatter\", \"x\": [158.3, 165.2, 116.6, 155.4, 162.3, 169.7, 149.2, 156.6, 169.7, 226.9, 163.4], \"y\": [23.5, 22.8, 22.8, 22.4, 34.1, 32.0, 12.0, 37.7, 34.3, 32.9, 31.0]}, {\"hovertext\": [\"Head PerfectControl 16\", \"IsoSpeed Professional Classic 17\"], \"marker\": {\"color\": \"rgba(247, 17, 228, 0.5)\", \"line\": {\"width\": 1}, \"size\": 10}, \"mode\": \"markers\", \"name\": \"Polyolefin\", \"type\": \"scatter\", \"x\": [150.9, 133.7], \"y\": [20.0, 28.9]}, {\"hovertext\": [\"Head RIP PerfectPower 16\", \"IsoSpeed Axon Multi 16L\", \"IsoSpeed Energetic 17\"], \"marker\": {\"color\": \"rgba(17, 223, 242, 0.5)\", \"line\": {\"width\": 1}, \"size\": 10}, \"mode\": \"markers\", \"name\": \"Nylon/Polyolefin\", \"type\": \"scatter\", \"x\": [156.6, 126.3, 156.6], \"y\": [23.1, 29.1, 34.3]}],\n",
       "                        {\"font\": {\"color\": \"rgba(0, 0, 0, 1)\", \"family\": \"Courier New\", \"size\": 20}, \"height\": 1000, \"legend\": {\"orientation\": \"h\"}, \"template\": {\"data\": {\"bar\": [{\"error_x\": {\"color\": \"#2a3f5f\"}, \"error_y\": {\"color\": \"#2a3f5f\"}, \"marker\": {\"line\": {\"color\": \"#E5ECF6\", \"width\": 0.5}}, \"type\": \"bar\"}], \"barpolar\": [{\"marker\": {\"line\": {\"color\": \"#E5ECF6\", \"width\": 0.5}}, \"type\": \"barpolar\"}], \"carpet\": [{\"aaxis\": {\"endlinecolor\": \"#2a3f5f\", \"gridcolor\": \"white\", \"linecolor\": \"white\", \"minorgridcolor\": \"white\", \"startlinecolor\": \"#2a3f5f\"}, \"baxis\": {\"endlinecolor\": \"#2a3f5f\", \"gridcolor\": \"white\", \"linecolor\": \"white\", \"minorgridcolor\": \"white\", \"startlinecolor\": \"#2a3f5f\"}, \"type\": \"carpet\"}], \"choropleth\": [{\"colorbar\": {\"outlinewidth\": 0, \"ticks\": \"\"}, \"type\": \"choropleth\"}], \"contour\": [{\"colorbar\": {\"outlinewidth\": 0, \"ticks\": \"\"}, \"colorscale\": [[0.0, \"#0d0887\"], [0.1111111111111111, \"#46039f\"], [0.2222222222222222, \"#7201a8\"], [0.3333333333333333, \"#9c179e\"], [0.4444444444444444, \"#bd3786\"], [0.5555555555555556, \"#d8576b\"], [0.6666666666666666, \"#ed7953\"], [0.7777777777777778, \"#fb9f3a\"], [0.8888888888888888, \"#fdca26\"], [1.0, \"#f0f921\"]], \"type\": \"contour\"}], \"contourcarpet\": [{\"colorbar\": {\"outlinewidth\": 0, \"ticks\": \"\"}, \"type\": \"contourcarpet\"}], \"heatmap\": [{\"colorbar\": {\"outlinewidth\": 0, \"ticks\": \"\"}, \"colorscale\": [[0.0, \"#0d0887\"], [0.1111111111111111, \"#46039f\"], [0.2222222222222222, \"#7201a8\"], [0.3333333333333333, \"#9c179e\"], [0.4444444444444444, \"#bd3786\"], [0.5555555555555556, \"#d8576b\"], [0.6666666666666666, \"#ed7953\"], [0.7777777777777778, \"#fb9f3a\"], [0.8888888888888888, \"#fdca26\"], [1.0, \"#f0f921\"]], \"type\": \"heatmap\"}], \"heatmapgl\": [{\"colorbar\": {\"outlinewidth\": 0, \"ticks\": \"\"}, \"colorscale\": [[0.0, \"#0d0887\"], [0.1111111111111111, \"#46039f\"], [0.2222222222222222, \"#7201a8\"], [0.3333333333333333, \"#9c179e\"], [0.4444444444444444, \"#bd3786\"], [0.5555555555555556, \"#d8576b\"], [0.6666666666666666, \"#ed7953\"], [0.7777777777777778, \"#fb9f3a\"], [0.8888888888888888, \"#fdca26\"], [1.0, \"#f0f921\"]], \"type\": \"heatmapgl\"}], \"histogram\": [{\"marker\": {\"colorbar\": {\"outlinewidth\": 0, \"ticks\": \"\"}}, \"type\": \"histogram\"}], \"histogram2d\": [{\"colorbar\": {\"outlinewidth\": 0, \"ticks\": \"\"}, \"colorscale\": [[0.0, \"#0d0887\"], [0.1111111111111111, \"#46039f\"], [0.2222222222222222, \"#7201a8\"], [0.3333333333333333, \"#9c179e\"], [0.4444444444444444, \"#bd3786\"], [0.5555555555555556, \"#d8576b\"], [0.6666666666666666, \"#ed7953\"], [0.7777777777777778, \"#fb9f3a\"], [0.8888888888888888, \"#fdca26\"], [1.0, \"#f0f921\"]], \"type\": \"histogram2d\"}], \"histogram2dcontour\": [{\"colorbar\": {\"outlinewidth\": 0, \"ticks\": \"\"}, \"colorscale\": [[0.0, \"#0d0887\"], [0.1111111111111111, \"#46039f\"], [0.2222222222222222, \"#7201a8\"], [0.3333333333333333, \"#9c179e\"], [0.4444444444444444, \"#bd3786\"], [0.5555555555555556, \"#d8576b\"], [0.6666666666666666, \"#ed7953\"], [0.7777777777777778, \"#fb9f3a\"], [0.8888888888888888, \"#fdca26\"], [1.0, \"#f0f921\"]], \"type\": \"histogram2dcontour\"}], \"mesh3d\": [{\"colorbar\": {\"outlinewidth\": 0, \"ticks\": \"\"}, \"type\": \"mesh3d\"}], \"parcoords\": [{\"line\": {\"colorbar\": {\"outlinewidth\": 0, \"ticks\": \"\"}}, \"type\": \"parcoords\"}], \"pie\": [{\"automargin\": true, \"type\": \"pie\"}], \"scatter\": [{\"marker\": {\"colorbar\": {\"outlinewidth\": 0, \"ticks\": \"\"}}, \"type\": \"scatter\"}], \"scatter3d\": [{\"line\": {\"colorbar\": {\"outlinewidth\": 0, \"ticks\": \"\"}}, \"marker\": {\"colorbar\": {\"outlinewidth\": 0, \"ticks\": \"\"}}, \"type\": \"scatter3d\"}], \"scattercarpet\": [{\"marker\": {\"colorbar\": {\"outlinewidth\": 0, \"ticks\": \"\"}}, \"type\": \"scattercarpet\"}], \"scattergeo\": [{\"marker\": {\"colorbar\": {\"outlinewidth\": 0, \"ticks\": \"\"}}, \"type\": \"scattergeo\"}], \"scattergl\": [{\"marker\": {\"colorbar\": {\"outlinewidth\": 0, \"ticks\": \"\"}}, \"type\": \"scattergl\"}], \"scattermapbox\": [{\"marker\": {\"colorbar\": {\"outlinewidth\": 0, \"ticks\": \"\"}}, \"type\": \"scattermapbox\"}], \"scatterpolar\": [{\"marker\": {\"colorbar\": {\"outlinewidth\": 0, \"ticks\": \"\"}}, \"type\": \"scatterpolar\"}], \"scatterpolargl\": [{\"marker\": {\"colorbar\": {\"outlinewidth\": 0, \"ticks\": \"\"}}, \"type\": \"scatterpolargl\"}], \"scatterternary\": [{\"marker\": {\"colorbar\": {\"outlinewidth\": 0, \"ticks\": \"\"}}, \"type\": \"scatterternary\"}], \"surface\": [{\"colorbar\": {\"outlinewidth\": 0, \"ticks\": \"\"}, \"colorscale\": [[0.0, \"#0d0887\"], [0.1111111111111111, \"#46039f\"], [0.2222222222222222, \"#7201a8\"], [0.3333333333333333, \"#9c179e\"], [0.4444444444444444, \"#bd3786\"], [0.5555555555555556, \"#d8576b\"], [0.6666666666666666, \"#ed7953\"], [0.7777777777777778, \"#fb9f3a\"], [0.8888888888888888, \"#fdca26\"], [1.0, \"#f0f921\"]], \"type\": \"surface\"}], \"table\": [{\"cells\": {\"fill\": {\"color\": \"#EBF0F8\"}, \"line\": {\"color\": \"white\"}}, \"header\": {\"fill\": {\"color\": \"#C8D4E3\"}, \"line\": {\"color\": \"white\"}}, \"type\": \"table\"}]}, \"layout\": {\"annotationdefaults\": {\"arrowcolor\": \"#2a3f5f\", \"arrowhead\": 0, \"arrowwidth\": 1}, \"coloraxis\": {\"colorbar\": {\"outlinewidth\": 0, \"ticks\": \"\"}}, \"colorscale\": {\"diverging\": [[0, \"#8e0152\"], [0.1, \"#c51b7d\"], [0.2, \"#de77ae\"], [0.3, \"#f1b6da\"], [0.4, \"#fde0ef\"], [0.5, \"#f7f7f7\"], [0.6, \"#e6f5d0\"], [0.7, \"#b8e186\"], [0.8, \"#7fbc41\"], [0.9, \"#4d9221\"], [1, \"#276419\"]], \"sequential\": [[0.0, \"#0d0887\"], [0.1111111111111111, \"#46039f\"], [0.2222222222222222, \"#7201a8\"], [0.3333333333333333, \"#9c179e\"], [0.4444444444444444, \"#bd3786\"], [0.5555555555555556, \"#d8576b\"], [0.6666666666666666, \"#ed7953\"], [0.7777777777777778, \"#fb9f3a\"], [0.8888888888888888, \"#fdca26\"], [1.0, \"#f0f921\"]], \"sequentialminus\": [[0.0, \"#0d0887\"], [0.1111111111111111, \"#46039f\"], [0.2222222222222222, \"#7201a8\"], [0.3333333333333333, \"#9c179e\"], [0.4444444444444444, \"#bd3786\"], [0.5555555555555556, \"#d8576b\"], [0.6666666666666666, \"#ed7953\"], [0.7777777777777778, \"#fb9f3a\"], [0.8888888888888888, \"#fdca26\"], [1.0, \"#f0f921\"]]}, \"colorway\": [\"#636efa\", \"#EF553B\", \"#00cc96\", \"#ab63fa\", \"#FFA15A\", \"#19d3f3\", \"#FF6692\", \"#B6E880\", \"#FF97FF\", \"#FECB52\"], \"font\": {\"color\": \"#2a3f5f\"}, \"geo\": {\"bgcolor\": \"white\", \"lakecolor\": \"white\", \"landcolor\": \"#E5ECF6\", \"showlakes\": true, \"showland\": true, \"subunitcolor\": \"white\"}, \"hoverlabel\": {\"align\": \"left\"}, \"hovermode\": \"closest\", \"mapbox\": {\"style\": \"light\"}, \"paper_bgcolor\": \"white\", \"plot_bgcolor\": \"#E5ECF6\", \"polar\": {\"angularaxis\": {\"gridcolor\": \"white\", \"linecolor\": \"white\", \"ticks\": \"\"}, \"bgcolor\": \"#E5ECF6\", \"radialaxis\": {\"gridcolor\": \"white\", \"linecolor\": \"white\", \"ticks\": \"\"}}, \"scene\": {\"xaxis\": {\"backgroundcolor\": \"#E5ECF6\", \"gridcolor\": \"white\", \"gridwidth\": 2, \"linecolor\": \"white\", \"showbackground\": true, \"ticks\": \"\", \"zerolinecolor\": \"white\"}, \"yaxis\": {\"backgroundcolor\": \"#E5ECF6\", \"gridcolor\": \"white\", \"gridwidth\": 2, \"linecolor\": \"white\", \"showbackground\": true, \"ticks\": \"\", \"zerolinecolor\": \"white\"}, \"zaxis\": {\"backgroundcolor\": \"#E5ECF6\", \"gridcolor\": \"white\", \"gridwidth\": 2, \"linecolor\": \"white\", \"showbackground\": true, \"ticks\": \"\", \"zerolinecolor\": \"white\"}}, \"shapedefaults\": {\"line\": {\"color\": \"#2a3f5f\"}}, \"ternary\": {\"aaxis\": {\"gridcolor\": \"white\", \"linecolor\": \"white\", \"ticks\": \"\"}, \"baxis\": {\"gridcolor\": \"white\", \"linecolor\": \"white\", \"ticks\": \"\"}, \"bgcolor\": \"#E5ECF6\", \"caxis\": {\"gridcolor\": \"white\", \"linecolor\": \"white\", \"ticks\": \"\"}}, \"title\": {\"x\": 0.05}, \"xaxis\": {\"automargin\": true, \"gridcolor\": \"white\", \"linecolor\": \"white\", \"ticks\": \"\", \"title\": {\"standoff\": 15}, \"zerolinecolor\": \"white\", \"zerolinewidth\": 2}, \"yaxis\": {\"automargin\": true, \"gridcolor\": \"white\", \"linecolor\": \"white\", \"ticks\": \"\", \"title\": {\"standoff\": 15}, \"zerolinecolor\": \"white\", \"zerolinewidth\": 2}}}, \"title\": {\"text\": \"Ref. Tension 51 lbs\"}, \"width\": 900, \"xaxis\": {\"showgrid\": false, \"ticklen\": 10, \"ticks\": \"inside\", \"title\": {\"text\": \"Stiffness (lbs/in)\"}}, \"yaxis\": {\"showgrid\": false, \"ticklen\": 10, \"ticks\": \"inside\", \"title\": {\"text\": \"Tension Loss %\"}}},\n",
       "                        {\"responsive\": true}\n",
       "                    ).then(function(){\n",
       "                            \n",
       "var gd = document.getElementById('8bff4641-d246-4adb-b4c9-7f08019c62eb');\n",
       "var x = new MutationObserver(function (mutations, observer) {{\n",
       "        var display = window.getComputedStyle(gd).display;\n",
       "        if (!display || display === 'none') {{\n",
       "            console.log([gd, 'removed!']);\n",
       "            Plotly.purge(gd);\n",
       "            observer.disconnect();\n",
       "        }}\n",
       "}});\n",
       "\n",
       "// Listen for the removal of the full notebook cells\n",
       "var notebookContainer = gd.closest('#notebook-container');\n",
       "if (notebookContainer) {{\n",
       "    x.observe(notebookContainer, {childList: true});\n",
       "}}\n",
       "\n",
       "// Listen for the clearing of the current output cell\n",
       "var outputEl = gd.closest('.output');\n",
       "if (outputEl) {{\n",
       "    x.observe(outputEl, {childList: true});\n",
       "}}\n",
       "\n",
       "                        })\n",
       "                };\n",
       "                });\n",
       "            </script>\n",
       "        </div>"
      ]
     },
     "metadata": {},
     "output_type": "display_data"
    }
   ],
   "source": [
    "create_scatter_plot('stiffness_lbs_per_in', 'tension_loss_pct', 51)"
   ]
  },
  {
   "cell_type": "markdown",
   "metadata": {},
   "source": [
    "The percentage loss in tension as measured by TWU seems to indicate that tension loss is the stronger differentiator, with poly strings losing ~2x the amount of tension after the first 100 hits than non-poly stirngs. "
   ]
  },
  {
   "cell_type": "code",
   "execution_count": 19,
   "metadata": {},
   "outputs": [
    {
     "data": {
      "application/vnd.plotly.v1+json": {
       "config": {
        "linkText": "Export to plot.ly",
        "plotlyServerURL": "https://plot.ly",
        "showLink": false
       },
       "data": [
        {
         "hovertext": [
          "Alien Black Diamond 16",
          "Ashaway MonoGut 16L",
          "Ashaway MonoGut 17",
          "Babolat Ballistic Polymono 16",
          "Babolat Hurricane Feel 16",
          "Babolat Hurricane Feel 17",
          "Babolat Pro Hurricane 17",
          "Babolat Pro Hurricane 18",
          "Babolat Pro Hurricane Tour 16",
          "Babolat Pro Hurricane Tour 17",
          "Babolat RPM Blast 16",
          "Babolat RPM Blast 17/1.25",
          "Babolat RPM Dual 16",
          "Babolat RPM Team 16 Black",
          "Boris Becker Bomber 16",
          "Diadem Solstice Power 16 (1.30)",
          "Diadem Solstice Power 17 (1.20)",
          "Double AR Diablo (1.24)",
          "Double AR Diablo (1.31)",
          "Double AR Raptor 1.27",
          "Double AR Twice Dragon(1.30)",
          "Double AR Twice Shark (1.25)",
          "Double AR WTS 25 (1.25)",
          "Dunlop Black Widow 16",
          "Dunlop Black Widow 17",
          "Dunlop Comfort Poly 17",
          "Dunlop Explosive 16",
          "Dunlop Juice 16 (1.31)",
          "Dunlop Juice 17 (1.26)",
          "Gamma Monoblast 16",
          "Gamma Moto 16",
          "Gamma Poly Z 16",
          "Gamma RZR Rx 16",
          "Gamma Zo Black Ice 17 (1.23)",
          "Gamma Zo Black Ice 18 (1.18)",
          "Gamma Zo Ice 16",
          "Gamma Zo Magic 16",
          "Gamma Zo Tour 17 (1.25)",
          "Gamma Zo Tour Rough 16",
          "Gamma Zo Twist 16",
          "Gamma Zo Verve 17",
          "Gosen Polylon 16",
          "Gosen Polylon 17 (1.24)",
          "Gosen Polylon Comfort 16",
          "Gosen Polylon PolyBreak 17 (1.24)",
          "Gosen Polylon PolyBreak 18 (1.20)",
          "Gosen Polylon SP 16 (1.30)",
          "Gosen Polylon SP 17 (1.24)",
          "Gosen Polymaster I 16",
          "Gosen Polymaster II 16",
          "Gosen Sidewinder 17",
          "Head Hawk 17 (1.25)",
          "Head Lynx 16 (1.30)",
          "Head Sonic Pro 16",
          "Head Sonic Pro 17",
          "Head Sonic Pro Edge 16",
          "Head Ultra Tour 16",
          "Head Ultratour 17",
          "IsoSpeed Axon Mono 16L",
          "IsoSpeed Black Fire 17",
          "IsoSpeed Pulse 16",
          "IsoSpeed Pyramid 16",
          "Kirschbaum Black Shark 16 (1.30)",
          "Kirschbaum Black Shark 17 (1.25)",
          "Kirschbaum Competition 16/1.30",
          "Kirschbaum Competition 17 (1.25)",
          "Kirschbaum Competition 17L (1.20)",
          "Kirschbaum Helix 16",
          "Kirschbaum Helix 17",
          "Kirschbaum Long Life 15",
          "Kirschbaum Max Power 17 (1.25)",
          "Kirschbaum P2 16/1.30",
          "Kirschbaum P2 17 (1.25)",
          "Kirschbaum P2 17L (1.20)",
          "Kirschbaum Pro Line I 1.30",
          "Kirschbaum Pro Line I 17 (1.25)",
          "Kirschbaum Pro Line I 17L (1.20)",
          "Kirschbaum Pro Line I 18L (1.15)",
          "Kirschbaum Pro Line II 1.30",
          "Kirschbaum Pro Line II 17 (1.25)",
          "Kirschbaum Pro Line II 17L (1.20)",
          "Kirschbaum Pro Line II 18 (1.15)",
          "Kirschbaum Pro Line X 16 (1.30)",
          "Kirschbaum Pro Line X 17 (1.25)",
          "Kirschbaum Spiky Shark 16",
          "Kirschbaum Spiky Shark 17",
          "Kirschbaum Super Smash 16/1.30",
          "Kirschbaum Super Smash 17 (1.25)",
          "Kirschbaum Super Smash Spiky 1.20",
          "Kirschbaum Super Smash Spiky 16/1.30",
          "Kirschbaum Super Smash Spiky 17 (1.25)",
          "Kirschbaum Touch Turbo 1.30",
          "Kirschbaum Touch Turbo 16L (1.275)",
          "Klip Hardcore 16/1.30",
          "Klip K-Boom 16/1.30",
          "L-Tec Premium 3S 16L (1.25)",
          "L-Tec Premium 4S 16L (1.25)",
          "L-Tec Premium 5S 16L (1.25)",
          "L-Tec Premium OS 17 (1.23)",
          "L-Tec Premium Pro OS 16L",
          "Leopard Plus Control 16",
          "Luxilon 4G 16L (1.25)",
          "Luxilon 4G Rough 16L",
          "Luxilon 4G Soft 1.25",
          "Luxilon ALU Power 125/16L",
          "Luxilon ALU Power Feel 18/1.20",
          "Luxilon Adrenaline 16",
          "Luxilon Adrenaline 16L/1.25",
          "Luxilon Adrenaline 17/1.20",
          "Luxilon Adrenaline Rough 16L/1.25",
          "Luxilon Alu Power Soft 1.25",
          "Luxilon Big Banger ALU Power Spin 127/16",
          "Luxilon Big Banger Ace 18 (1.12)",
          "Luxilon Big Banger Original 130/16",
          "Luxilon Big Banger Rough 130/16",
          "Luxilon Big Banger TiMO 17L (1.17)",
          "Luxilon Big Banger Timo 17 (1.22)",
          "Luxilon Big Banger Timo 18 (1.10)",
          "Luxilon Big Banger XP 125/16L",
          "Luxilon Big Banger XP 15L (1.38)",
          "Luxilon Element 1.30",
          "Luxilon M2 Pro 125/16",
          "Luxilon Monotec Super Poly 1.25/16L",
          "Luxilon Monotec Supersense 16L/1.25",
          "Luxilon Monotec Zolo 15L",
          "Luxilon Savage 16/1.27",
          "MSV Co.-Focus 16L",
          "MSV Focus Evo 16",
          "MSV Focus Evo 17",
          "MSV Focus Hex 17L (1.18)",
          "MSV Focus Hex Soft 17 (1.25)",
          "MSV Hepta-Twist 17",
          "Mantis Comfort Poly 16",
          "Mantis Power Poly 17",
          "One Strings Carbon NRG 16",
          "Pacific ATP Poly Power Pro 16L",
          "Pacific Poly Force 16L",
          "Pacific Poly Force 17",
          "Pacific Poly Force Xtreme 16L",
          "Pacific X Force 17",
          "Pacific X Force 18",
          "Poly Star Classic 16 (1.30)",
          "Poly Star Classic 16L (1.25)",
          "Poly Star Classic 17 (1.20)",
          "Poly Star Energy 16 (1.30)",
          "Poly Star Energy 16L (1.25)",
          "Poly Star Energy 17 (1.20)",
          "Poly Star Strike 16 (1.30)",
          "Poly Star Strike 16L (1.25)",
          "Poly Star Turbo 16 (1.30)",
          "Poly Star Turbo 16L (1.25)",
          "Polyfibre Black Venom 16 (1.30)",
          "Polyfibre Cobra 17/1.20",
          "Polyfibre Hexablade 16L (1.25)",
          "Polyfibre Hexablade 17L (1.18)",
          "Polyfibre Hightec Premium 16/1.30",
          "Polyfibre Hightec Premium 16L",
          "Polyfibre Hightec Premium 17",
          "Polyfibre Poly Hightec 16/1.30",
          "Polyfibre Poly Hightec 16L",
          "Polyfibre Poly Hightec 17",
          "Polyfibre Poly Hightec 18",
          "Polyfibre TCS 16/1.30",
          "Polyfibre TCS 16L",
          "Polyfibre TCS 17",
          "Polyfibre TCS Rapid 16L/1.25",
          "Polyfibre Viper 17/1.20",
          "Prince Beast XP 16",
          "Prince Poly EXP 17",
          "Prince Poly Spin 3D",
          "Prince Tour 16",
          "Prince Tour 17",
          "Prince Tour XC 15L",
          "Prince Tour XC 16L",
          "Prince Tour XC 17L",
          "Prince Tour XP 15L",
          "Prince Tour XP 16",
          "Prince Tour XS 1.35",
          "Prince Tour XS 16",
          "Prince Tour XT 18",
          "Prince Twisted 16L",
          "RS RS Lyon 17",
          "Signum Pro Firestorm 1.25",
          "Signum Pro Hyperion 16",
          "Signum Pro Hyperion 17 (1.24)",
          "Signum Pro Poly Megaforce 16",
          "Signum Pro Poly Megaforce 17 (1.19)",
          "Signum Pro Poly-Plasma 16L",
          "Signum Pro Poly-Plasma 17L (1.18)",
          "Signum Pro Poly-Plasma Pure 16L",
          "Signum Pro Poly-Plasma Pure 17 (1.23)",
          "Signum Pro Tornado 16",
          "Signum Pro Tornado 17 (1.23)",
          "Solinco Barb Wire 16",
          "Solinco Barb Wire 17 (1.20)",
          "Solinco Hyper-G 16",
          "Solinco Outlast 16",
          "Solinco Outlast 17",
          "Solinco Revolution 16",
          "Solinco Revolution 17",
          "Solinco Tour Bite 16",
          "Solinco Tour Bite 16 Soft",
          "Solinco Tour Bite 16L (1.25)",
          "Solinco Tour Bite 17",
          "Solinco Tour Bite 18 (1.15)",
          "Solinco Tour Bite Diamond Rough 16 (1.30)",
          "Solinco Tour Bite Diamond Rough 16L (1.25)",
          "Solinco Tour Bite Diamond Rough 17 (1.20)",
          "SuperString Nikita Original 1.25",
          "SuperString Viper V2 Rough 16L",
          "Tecnifibre Black Code 17",
          "Tecnifibre Black Code 18",
          "Tecnifibre Black Code 4S 17 (1.25)",
          "Tecnifibre Polyspin 16L",
          "Tecnifibre Pro Red Code 16",
          "Tecnifibre Pro Red Code 17",
          "Tecnifibre Pro Red Code 18",
          "Tecnifibre Razor Code 16 (1.30)",
          "Tecnifibre X-Code 16",
          "Topspin Cyber Blue 16",
          "Topspin Cyber Blue 17",
          "Topspin Cyber Flash 16",
          "Topspin Cyber Flash 17",
          "Topspin Cyber Flash 17L",
          "Tourna Big Hitter Black 7 17",
          "Tourna Big Hitter Blue 17",
          "Tourna Big Hitter Blue Rough 16",
          "Tourna Big Hitter Blue Rough 17",
          "Tourna Big Hitter Silver 17",
          "Tourna Big Hitter Silver Rough 16",
          "Tourna Big Hitter Silver Rough 17",
          "Tourna Black Zone 16",
          "Volkl Cyclone 16",
          "Volkl Cyclone 17",
          "Volkl Cyclone 18",
          "Volkl Cyclone 19 (1.10)",
          "Volkl Cyclone Tour 17 (1.25)",
          "Volkl V-Pro 16",
          "Volkl V-Pro 17",
          "Volkl V-Pro 18",
          "Volkl V-Star 16 (1.30)",
          "Volkl V-Torque 16",
          "Weiss Cannon Black 5 Edge 17 (1.24)",
          "Weiss Cannon MatchPower 1.25",
          "Weiss Cannon Scorpion 1.22",
          "Weiss Cannon Scorpion 1.33",
          "Weiss Cannon Silverstring 1.25",
          "Weiss Cannon Silverstring 120",
          "Weiss Cannon Turbotwist 17 (1.24)",
          "Weiss Cannon Turbotwist 17L (1.18)",
          "Wilson Enduro Pro 16",
          "Wilson Enduro Tour 16",
          "Wilson Enduro Tour 17",
          "Wilson Revolve 17 (1.25)",
          "Wilson Ripspin 15",
          "Wilson Ripspin 16",
          "Wilson Ripspin 17",
          "Wilson Spin Cycle 16L",
          "Y-Tex Quadro Twist 16L",
          "Yonex Poly Tour Pro Yellow 16 (1.30)",
          "Yonex Poly Tour Spin G 1.25"
         ],
         "marker": {
          "color": "rgba(17, 28, 242, 0.5)",
          "line": {
           "width": 1
          },
          "size": 10
         },
         "mode": "markers",
         "name": "Polyester",
         "type": "scatter",
         "x": [
          50.7,
          47,
          50.9,
          45.9,
          30.7,
          31.9,
          42,
          37.2,
          46.1,
          44.8,
          45.9,
          33.3,
          34.9,
          22,
          46.9,
          29.6,
          28.5,
          55.4,
          55.7,
          22.3,
          51.2,
          63.8,
          56.5,
          38.2,
          31.6,
          42.1,
          35.8,
          48.4,
          45.8,
          42.5,
          30.8,
          51.8,
          27.3,
          41.2,
          39.6,
          37.8,
          33.7,
          50.3,
          48.9,
          46.3,
          25.3,
          50.9,
          48.8,
          54.1,
          48.9,
          53.3,
          52.5,
          52.2,
          51.8,
          53,
          46.7,
          32.9,
          45.6,
          57,
          54.9,
          38.5,
          45.1,
          44.9,
          34.4,
          39.3,
          56.9,
          58,
          41.2,
          38.4,
          47.5,
          47.5,
          45,
          55.3,
          44.2,
          55.4,
          23.5,
          38.3,
          33.9,
          41.6,
          47.8,
          50.8,
          52.2,
          50.4,
          47.6,
          44.9,
          46,
          46.4,
          27.2,
          37,
          47.4,
          53.5,
          50.7,
          48,
          52.7,
          54.6,
          51,
          45.7,
          48.5,
          49.8,
          34,
          35.6,
          35.3,
          36.8,
          28.8,
          26.4,
          40,
          21.3,
          32.8,
          25.4,
          46.6,
          42.9,
          45.3,
          44.3,
          41.8,
          44.8,
          36.6,
          45,
          46.1,
          51.4,
          52,
          45.9,
          44.3,
          45.4,
          49,
          48,
          44.3,
          53,
          44.1,
          47.7,
          47,
          46.2,
          49.7,
          44.4,
          46.1,
          27.5,
          29.4,
          50.2,
          40.2,
          43,
          42.3,
          51.1,
          45.7,
          36.7,
          39.6,
          36.2,
          37,
          55.8,
          54.5,
          61.6,
          66.3,
          68,
          63.6,
          49.1,
          51.4,
          66.7,
          64.9,
          56.9,
          63.7,
          62.9,
          63.8,
          57.6,
          59.8,
          61.9,
          57.8,
          61.4,
          63,
          61,
          59.6,
          62.1,
          63.4,
          64.3,
          64.3,
          41.7,
          43.7,
          60.2,
          53,
          55.6,
          45.4,
          36.7,
          36.6,
          44.2,
          36.5,
          36.9,
          36.2,
          38.2,
          43.5,
          36,
          46.4,
          40.9,
          42.6,
          34.9,
          36.3,
          39.2,
          40.3,
          40.6,
          43,
          47.7,
          44.3,
          40.2,
          42.6,
          26.3,
          47.3,
          50.4,
          47.4,
          50,
          47.1,
          50.3,
          25.2,
          48.6,
          50.6,
          52,
          47,
          43.5,
          42.9,
          38.3,
          40.2,
          40.7,
          28.3,
          36.3,
          34.8,
          36.4,
          36.3,
          32.7,
          37.9,
          43.3,
          46.1,
          46.5,
          54.9,
          59.1,
          43,
          36.3,
          40.5,
          43.8,
          44,
          45,
          42.1,
          29.5,
          47.9,
          48.1,
          48.1,
          33.2,
          52.6,
          39.2,
          47.7,
          33.1,
          54.5,
          49.7,
          32.8,
          38.4,
          44.2,
          47.8,
          43.8,
          50.6,
          49.5,
          48.6,
          36.3,
          37.6,
          62.4,
          36.2,
          41.7,
          39.6,
          37.8,
          38.7,
          48.5,
          44.5,
          25.7
         ],
         "y": [
          4.5,
          3.5,
          3.9,
          4.7,
          4.7,
          4.4,
          3.1,
          3.3,
          5.1,
          5.2,
          4.5,
          4.6,
          4.6,
          3.9,
          5.1,
          8.1,
          8.6,
          7.4,
          7.7,
          5.3,
          7.2,
          5.7,
          7.3,
          5.2,
          5.4,
          4.5,
          4.8,
          3.6,
          3.9,
          3.8,
          5.8,
          5.4,
          3.9,
          3.7,
          4,
          4.2,
          4.1,
          3.7,
          6.1,
          4.7,
          6.1,
          4.1,
          4.3,
          5.5,
          4.2,
          4.8,
          4,
          4.6,
          4.7,
          5.1,
          4.6,
          4.7,
          7,
          4.2,
          3.9,
          4.8,
          4.5,
          4.1,
          3.2,
          5.6,
          4.7,
          7,
          5.4,
          5.8,
          4.9,
          4.5,
          4.1,
          5.4,
          5.4,
          4.6,
          5.4,
          5.2,
          4.9,
          4.8,
          4.4,
          4.1,
          3.9,
          4.4,
          5.7,
          4.7,
          4.8,
          4.5,
          5.1,
          4.8,
          7.5,
          7.4,
          5.3,
          5.7,
          5.1,
          5,
          5.2,
          5.3,
          5.4,
          4.7,
          4.1,
          4,
          6.7,
          4,
          4.1,
          4.3,
          3.9,
          3.9,
          4.2,
          6.7,
          5.8,
          5.4,
          3.6,
          3.5,
          2.9,
          3.3,
          6.9,
          4.3,
          4,
          4.8,
          4.4,
          4.4,
          3.9,
          3.6,
          4.1,
          3.6,
          6.6,
          3.6,
          3.3,
          2.1,
          4.6,
          3.4,
          4.2,
          4.9,
          4.5,
          6.5,
          6.3,
          5.7,
          4.8,
          4.8,
          5.1,
          5,
          4.5,
          4.5,
          5,
          4.5,
          4.7,
          4.2,
          4.4,
          4,
          4,
          3.7,
          4,
          5.1,
          4.8,
          5.3,
          5,
          4.3,
          3.6,
          4.6,
          5.2,
          4.2,
          4.4,
          3.9,
          4.1,
          4.4,
          4,
          3.9,
          4.4,
          3.8,
          4.2,
          4.3,
          3.9,
          3.9,
          4.4,
          3.3,
          3.1,
          3.4,
          5.5,
          5.5,
          5.9,
          5.2,
          5.5,
          5,
          5.5,
          6.4,
          3.7,
          5.4,
          4.8,
          4.6,
          4.2,
          4.3,
          4.8,
          4.7,
          5,
          5.6,
          5.2,
          5.1,
          4.8,
          4.4,
          4.9,
          7,
          6,
          5.5,
          6.4,
          6.6,
          6.7,
          6.9,
          5.9,
          6.3,
          5.8,
          4.9,
          5.4,
          4.3,
          3.4,
          5,
          4.2,
          4.6,
          9.8,
          3.8,
          4.9,
          4.8,
          5,
          4.2,
          2,
          5.8,
          5.1,
          4.8,
          4.2,
          4.6,
          6.3,
          4.9,
          3.4,
          3.2,
          5.4,
          4.5,
          4.1,
          5.6,
          6.2,
          5.8,
          7.1,
          8.2,
          6.1,
          5,
          5.1,
          4.9,
          6.9,
          5.6,
          4.7,
          3.6,
          4,
          4.2,
          3.8,
          3.7,
          4.2,
          4.8,
          4.7,
          5.2,
          4.8,
          7.7,
          4.9,
          5.2,
          5.2,
          4.2,
          6.2,
          3.4,
          4.8
         ]
        },
        {
         "hovertext": [
          "Alpha Gut 2000 16",
          "Ashaway Liberty 16",
          "Ashaway Synthetic Gut 16",
          "Babolat Addiction 16",
          "Babolat Addiction 17",
          "Babolat Conquest 16",
          "Babolat FiberTour 16",
          "Babolat Origin 17",
          "Babolat SG SpiralTek 16",
          "Babolat Super Fine Play 16",
          "Babolat Xcel 16",
          "Babolat Xcel Power 16",
          "Babolat Xcel Power 17",
          "Double AR 666 (1.30)",
          "Dunlop Comfort Synthetic 16",
          "Dunlop DNA 16 (1.30)",
          "Dunlop DNA 17 (1.22)",
          "Dunlop Explosive Synthetic 16",
          "Dunlop Hexy Fiber 16",
          "Dunlop Hexy Fiber 17",
          "Dunlop M-Fil Tour 16",
          "Dunlop Silk 16 (1.30)",
          "Dunlop Silk 17",
          "Dunlop Synthetic Gut 16",
          "Dunlop Tour Performance 16",
          "Dunlop X-Life Synthetic 15L",
          "Forten Sweet 16",
          "Gamma Asterisk 16",
          "Gamma Asterisk Spin 16",
          "Gamma ESP 16",
          "Gamma Glide Cross String 16",
          "Gamma Prodigy 16",
          "Gamma Professional 17",
          "Gamma Synthetic Gut 16",
          "Gamma TNT2 16",
          "Gamma TNT2 Pro Plus 16",
          "Gamma TNT2 Rx 16",
          "Gamma TNT2 Touch 16",
          "Gamma WearGuard Synthetic Gut 16",
          "Gosen A.K. Control 16",
          "Gosen AK Pro 16",
          "Gosen AK Pro 17",
          "Gosen Compositemaster I 16",
          "Gosen Compositemaster II 16",
          "Gosen Nanocubic 16",
          "Gosen Nanosilver 17",
          "Gosen OG Sheep Micro 17",
          "Gosen OG Sheep Micro 18",
          "Gosen OG Sheep Micro Super 16L",
          "Gosen OG-Sheep Micro 16",
          "Gosen Powermaster I 16",
          "Gosen Powermaster II 16",
          "Head ETS 16",
          "Head ETS 17",
          "Head FXP 17",
          "Head FXP Power 16",
          "Head FXP Power 17",
          "Head Fibergel Power 16",
          "Head Fibergel Power 17",
          "Head Fibergel Spin 16",
          "Head Reflex MLT 16 (1.30)",
          "Head Synthetic Gut 16",
          "Head Synthetic Gut PPS 16",
          "Kirschbaum Touch Multifibre 16",
          "Kirschbaum Touch Multifibre 17 (1.25)",
          "Klip Excellerator 16/1.30",
          "Klip Kicker 16",
          "Klip Scorcher 16/1.30",
          "Klip Synthetic Gut 16",
          "Klip Venom 16/1.30",
          "Mantis Comfort Synthetic 16",
          "Pacific PMX 16L",
          "Pacific Power Line 16L",
          "Pacific Power Line 17",
          "Pacific Power Twist 16L",
          "Pacific Premium Power X 16L",
          "Prince Lightning XX 16",
          "Prince Lightning XX 17",
          "Prince Premier Control 15",
          "Prince Premier Control 15L",
          "Prince Premier Control 16",
          "Prince Premier Control 17",
          "Prince Premier LT 17",
          "Prince Premier LT 18",
          "Prince Premier Power 16",
          "Prince Premier Power 17",
          "Prince Premier Power 18",
          "Prince Premier Touch 15L",
          "Prince Premier Touch 16",
          "Prince Premier Touch 17",
          "Prince Premier W/ Softflex 17",
          "Prince Premier W/Softflex 16",
          "Prince Recoil 16",
          "Prince Syn Gut Original 16",
          "Prince Syn Gut Original 17",
          "Prince Synthetic Gut 18 Duraflex",
          "Prince Synthetic Gut Multifilament 16",
          "Prince Synthetic Gut Multifilament 17",
          "Prince Topspin Plus 16",
          "Prince Topspin W/ Duraflex 15L",
          "Prince Tournament Nylon 15L",
          "Solinco Vanquish 16",
          "Tecnifibre E-Matrix 17",
          "Tecnifibre NRG2 16",
          "Tecnifibre NRG2 17/1.24",
          "Tecnifibre X-One Biphase 18",
          "Tourna Irradiated 16",
          "Volkl Gripper 17",
          "Volkl Power-Fiber II 16",
          "Volkl Power-Fiber II 17",
          "Volkl Power-Fiber II 18",
          "Volkl Synthetic Gut 16",
          "Volkl Synthetic Gut 17",
          "Weiss Cannon Explosiv 1.30",
          "Wilson Extreme 16 Synthetic Gut",
          "Wilson Hollow Core 16",
          "Wilson Hollow Core Pro 16",
          "Wilson Hollow Core Pro 17",
          "Wilson K-Gut 16",
          "Wilson K-Gut Pro 16",
          "Wilson NXT 16",
          "Wilson NXT 17",
          "Wilson NXT Duramax 15 (1.40)",
          "Wilson NXT Max 16",
          "Wilson NXT OS",
          "Wilson NXT Tour 16",
          "Wilson NXT Tour 17",
          "Wilson Optimus 16 (1.30)",
          "Wilson Reaction 16",
          "Wilson Red Alert 16",
          "Wilson SGX 16",
          "Wilson Sensation 16",
          "Wilson Sensation 17",
          "Wilson Sensation Supreme 16",
          "Wilson Shock Shield 16",
          "Wilson Stamina 16",
          "Wilson Synthetic Gut Extreme 17"
         ],
         "marker": {
          "color": "rgba(63, 191, 127, 0.5)",
          "line": {
           "width": 1
          },
          "size": 10
         },
         "mode": "markers",
         "name": "Nylon",
         "type": "scatter",
         "x": [
          16.5,
          24.8,
          24.3,
          20.1,
          20.1,
          30.2,
          22.8,
          17.3,
          15.3,
          21.7,
          18.9,
          18.9,
          21.7,
          24.3,
          19.7,
          25.1,
          28.2,
          20.6,
          25.2,
          24.8,
          23.3,
          25.9,
          30.8,
          22.9,
          22.3,
          22.1,
          22.6,
          21.2,
          24.5,
          27.1,
          22.7,
          21.3,
          23.3,
          23.2,
          21.6,
          25.9,
          23.4,
          26.1,
          22,
          22.4,
          21.9,
          20.7,
          21.3,
          23.5,
          20.7,
          21.7,
          23.5,
          21.4,
          21.4,
          21.3,
          22.4,
          22.4,
          24.7,
          21.3,
          20.5,
          25.6,
          22.2,
          32.8,
          24.5,
          25,
          24,
          23.6,
          23.3,
          23.3,
          21.8,
          20.1,
          19.1,
          24.5,
          24.8,
          20.8,
          24.4,
          26.3,
          19.4,
          22.3,
          22.7,
          24.4,
          19.3,
          19.3,
          18.9,
          18.1,
          17.8,
          19.4,
          30.1,
          27.6,
          20.6,
          19.7,
          20.5,
          24,
          22.9,
          24.9,
          22.7,
          25.2,
          23.8,
          20.7,
          16.5,
          19.4,
          20.1,
          22.6,
          20.5,
          17.4,
          19.7,
          20.8,
          19.1,
          18.3,
          15.1,
          18.9,
          23.6,
          24.5,
          21.1,
          19.6,
          22.8,
          20.3,
          22.2,
          25.3,
          20,
          33.7,
          31.7,
          33.7,
          19.7,
          18.3,
          20.5,
          23,
          17.6,
          20.7,
          18.8,
          21.3,
          18.4,
          22.8,
          26.4,
          19.8,
          19.1,
          21.2,
          21.5,
          27.9,
          32.3,
          21.2,
          19.2
         ],
         "y": [
          3.1,
          4.6,
          4.6,
          3.1,
          2.6,
          4.3,
          3.1,
          6.4,
          4.1,
          3.8,
          3,
          3.8,
          3.6,
          5.8,
          4.1,
          3.6,
          4.1,
          3.6,
          3.6,
          3.7,
          4.3,
          3.4,
          3.5,
          3.9,
          4.1,
          3.5,
          3.4,
          3.8,
          3.9,
          2.6,
          3.2,
          3.5,
          2.8,
          3.6,
          3.2,
          3.1,
          4.5,
          3.4,
          2.8,
          5.4,
          4.3,
          4.4,
          4.2,
          4.5,
          4,
          4.5,
          3.2,
          3.2,
          2.7,
          3.4,
          3.9,
          3.7,
          1.9,
          1.9,
          4.1,
          4.6,
          4.5,
          3,
          3.1,
          3.5,
          5.1,
          3.6,
          3.9,
          4.1,
          3.5,
          2.7,
          3.7,
          3.2,
          4.2,
          2.3,
          3.8,
          2,
          3.4,
          3.5,
          3.2,
          3.3,
          3.4,
          3.5,
          4.6,
          4.6,
          5.4,
          4.7,
          3.3,
          3.5,
          4.6,
          4.3,
          5,
          4.4,
          4.1,
          4.2,
          3.2,
          3.3,
          3.4,
          2.9,
          3.8,
          3.6,
          2.7,
          3.1,
          5.3,
          3.5,
          3.1,
          3.9,
          2.4,
          3.2,
          3.5,
          1.6,
          3,
          4.4,
          3.2,
          2.7,
          2.9,
          5.1,
          5.2,
          4,
          3.2,
          3.3,
          2.2,
          3.9,
          4.4,
          1.6,
          3.9,
          2,
          4.5,
          2.5,
          2.5,
          3.8,
          3.6,
          3.6,
          2.4,
          3,
          3.1,
          3.5,
          3.6,
          3,
          2.3,
          3,
          2.8
         ]
        },
        {
         "hovertext": [
          "Ashaway Dynamite 17",
          "Ashaway Dynamite Soft 17",
          "Ashaway Dynamite WB 16",
          "Ashaway MonoGut ZX 16",
          "Gamma Asterisk Tour 16",
          "Gamma Live Wire 16",
          "Gamma Live Wire XP 16",
          "Gamma Professional 16",
          "Gamma Professional Spin 16"
         ],
         "marker": {
          "color": "rgba(242, 137, 17, 0.5)",
          "line": {
           "width": 1
          },
          "size": 10
         },
         "mode": "markers",
         "name": "Nylon/Zyex",
         "type": "scatter",
         "x": [
          29.9,
          28.1,
          32.9,
          47.6,
          24.6,
          29.7,
          24.7,
          25.1,
          23.7
         ],
         "y": [
          3,
          2.6,
          3.3,
          4.4,
          3.4,
          2.6,
          2.6,
          2.4,
          2.7
         ]
        },
        {
         "hovertext": [
          "Babolat Attraction 16",
          "Dunlop S-Gut 17",
          "Gosen TecGut Remplir 16",
          "Tecnifibre E-Matrix 16",
          "Tecnifibre Multi-Feel 16",
          "Tecnifibre Multi-Feel 17 (1.25)",
          "Tecnifibre NRG2 18 (1.18)",
          "Tecnifibre TGV 16",
          "Tecnifibre TGV 17/1.25",
          "Tecnifibre X-One Biphase 16",
          "Tecnifibre X-One Biphase 17",
          "Tecnifibre XR3 16",
          "Tecnifibre XR3 17"
         ],
         "marker": {
          "color": "rgba(242, 36, 17, 0.5)",
          "line": {
           "width": 1
          },
          "size": 10
         },
         "mode": "markers",
         "name": "Nylon/Polyurethane",
         "type": "scatter",
         "x": [
          20,
          21.4,
          31.1,
          20.4,
          21.4,
          20.9,
          20,
          24.8,
          21.2,
          17.7,
          15.1,
          20.8,
          18
         ],
         "y": [
          2.7,
          3.1,
          4.6,
          2.7,
          3.3,
          2.6,
          2.6,
          3.1,
          3,
          1.6,
          2.1,
          2.9,
          3
         ]
        },
        {
         "hovertext": [
          "Babolat VS Natural ThermoGut 16 Touch",
          "Klip Legend 16 Uncoated",
          "Pacific Prime Natural Gut 16",
          "Wilson Natural Gut 16"
         ],
         "marker": {
          "color": "rgba(223, 242, 17, 0.5)",
          "line": {
           "width": 1
          },
          "size": 10
         },
         "mode": "markers",
         "name": "Gut",
         "type": "scatter",
         "x": [
          18.7,
          15,
          13.5,
          17.3
         ],
         "y": [
          2.7,
          1.2,
          4.4,
          1.3
         ]
        },
        {
         "hovertext": [
          "Dunlop Explosive Poly Max 16",
          "Head FXP 16",
          "Head FXP Tour 16",
          "IsoSpeed Energetic Plus 16",
          "Tecnifibre Duramix HD 16",
          "Tecnifibre Duramix HD 17",
          "Tecnifibre HDX Tour 16 (1.30)",
          "Tecnifibre Pro Mix 16",
          "Tecnifibre Pro Mix 17",
          "Wilson Enduro Pro 17 (1.25)",
          "Wilson NXT Control 16 (1.32)"
         ],
         "marker": {
          "color": "rgba(148, 17, 242, 0.5)",
          "line": {
           "width": 1
          },
          "size": 10
         },
         "mode": "markers",
         "name": "Nylon/Polyester",
         "type": "scatter",
         "x": [
          23.5,
          22.8,
          22.8,
          22.4,
          34.1,
          32,
          12,
          37.7,
          34.3,
          32.9,
          31
         ],
         "y": [
          3.4,
          3.8,
          4.2,
          2.4,
          2.2,
          1.7,
          4.3,
          2.6,
          3.7,
          4,
          3
         ]
        },
        {
         "hovertext": [
          "Head PerfectControl 16",
          "IsoSpeed Professional Classic 17"
         ],
         "marker": {
          "color": "rgba(247, 17, 228, 0.5)",
          "line": {
           "width": 1
          },
          "size": 10
         },
         "mode": "markers",
         "name": "Polyolefin",
         "type": "scatter",
         "x": [
          20,
          28.9
         ],
         "y": [
          2.6,
          1.6
         ]
        },
        {
         "hovertext": [
          "Head RIP PerfectPower 16",
          "IsoSpeed Axon Multi 16L",
          "IsoSpeed Energetic 17"
         ],
         "marker": {
          "color": "rgba(17, 223, 242, 0.5)",
          "line": {
           "width": 1
          },
          "size": 10
         },
         "mode": "markers",
         "name": "Nylon/Polyolefin",
         "type": "scatter",
         "x": [
          23.1,
          29.1,
          34.3
         ],
         "y": [
          2.3,
          3,
          1.9
         ]
        }
       ],
       "layout": {
        "font": {
         "color": "rgba(0, 0, 0, 1)",
         "family": "Courier New",
         "size": 20
        },
        "height": 1000,
        "legend": {
         "orientation": "h"
        },
        "template": {
         "data": {
          "bar": [
           {
            "error_x": {
             "color": "#2a3f5f"
            },
            "error_y": {
             "color": "#2a3f5f"
            },
            "marker": {
             "line": {
              "color": "#E5ECF6",
              "width": 0.5
             }
            },
            "type": "bar"
           }
          ],
          "barpolar": [
           {
            "marker": {
             "line": {
              "color": "#E5ECF6",
              "width": 0.5
             }
            },
            "type": "barpolar"
           }
          ],
          "carpet": [
           {
            "aaxis": {
             "endlinecolor": "#2a3f5f",
             "gridcolor": "white",
             "linecolor": "white",
             "minorgridcolor": "white",
             "startlinecolor": "#2a3f5f"
            },
            "baxis": {
             "endlinecolor": "#2a3f5f",
             "gridcolor": "white",
             "linecolor": "white",
             "minorgridcolor": "white",
             "startlinecolor": "#2a3f5f"
            },
            "type": "carpet"
           }
          ],
          "choropleth": [
           {
            "colorbar": {
             "outlinewidth": 0,
             "ticks": ""
            },
            "type": "choropleth"
           }
          ],
          "contour": [
           {
            "colorbar": {
             "outlinewidth": 0,
             "ticks": ""
            },
            "colorscale": [
             [
              0,
              "#0d0887"
             ],
             [
              0.1111111111111111,
              "#46039f"
             ],
             [
              0.2222222222222222,
              "#7201a8"
             ],
             [
              0.3333333333333333,
              "#9c179e"
             ],
             [
              0.4444444444444444,
              "#bd3786"
             ],
             [
              0.5555555555555556,
              "#d8576b"
             ],
             [
              0.6666666666666666,
              "#ed7953"
             ],
             [
              0.7777777777777778,
              "#fb9f3a"
             ],
             [
              0.8888888888888888,
              "#fdca26"
             ],
             [
              1,
              "#f0f921"
             ]
            ],
            "type": "contour"
           }
          ],
          "contourcarpet": [
           {
            "colorbar": {
             "outlinewidth": 0,
             "ticks": ""
            },
            "type": "contourcarpet"
           }
          ],
          "heatmap": [
           {
            "colorbar": {
             "outlinewidth": 0,
             "ticks": ""
            },
            "colorscale": [
             [
              0,
              "#0d0887"
             ],
             [
              0.1111111111111111,
              "#46039f"
             ],
             [
              0.2222222222222222,
              "#7201a8"
             ],
             [
              0.3333333333333333,
              "#9c179e"
             ],
             [
              0.4444444444444444,
              "#bd3786"
             ],
             [
              0.5555555555555556,
              "#d8576b"
             ],
             [
              0.6666666666666666,
              "#ed7953"
             ],
             [
              0.7777777777777778,
              "#fb9f3a"
             ],
             [
              0.8888888888888888,
              "#fdca26"
             ],
             [
              1,
              "#f0f921"
             ]
            ],
            "type": "heatmap"
           }
          ],
          "heatmapgl": [
           {
            "colorbar": {
             "outlinewidth": 0,
             "ticks": ""
            },
            "colorscale": [
             [
              0,
              "#0d0887"
             ],
             [
              0.1111111111111111,
              "#46039f"
             ],
             [
              0.2222222222222222,
              "#7201a8"
             ],
             [
              0.3333333333333333,
              "#9c179e"
             ],
             [
              0.4444444444444444,
              "#bd3786"
             ],
             [
              0.5555555555555556,
              "#d8576b"
             ],
             [
              0.6666666666666666,
              "#ed7953"
             ],
             [
              0.7777777777777778,
              "#fb9f3a"
             ],
             [
              0.8888888888888888,
              "#fdca26"
             ],
             [
              1,
              "#f0f921"
             ]
            ],
            "type": "heatmapgl"
           }
          ],
          "histogram": [
           {
            "marker": {
             "colorbar": {
              "outlinewidth": 0,
              "ticks": ""
             }
            },
            "type": "histogram"
           }
          ],
          "histogram2d": [
           {
            "colorbar": {
             "outlinewidth": 0,
             "ticks": ""
            },
            "colorscale": [
             [
              0,
              "#0d0887"
             ],
             [
              0.1111111111111111,
              "#46039f"
             ],
             [
              0.2222222222222222,
              "#7201a8"
             ],
             [
              0.3333333333333333,
              "#9c179e"
             ],
             [
              0.4444444444444444,
              "#bd3786"
             ],
             [
              0.5555555555555556,
              "#d8576b"
             ],
             [
              0.6666666666666666,
              "#ed7953"
             ],
             [
              0.7777777777777778,
              "#fb9f3a"
             ],
             [
              0.8888888888888888,
              "#fdca26"
             ],
             [
              1,
              "#f0f921"
             ]
            ],
            "type": "histogram2d"
           }
          ],
          "histogram2dcontour": [
           {
            "colorbar": {
             "outlinewidth": 0,
             "ticks": ""
            },
            "colorscale": [
             [
              0,
              "#0d0887"
             ],
             [
              0.1111111111111111,
              "#46039f"
             ],
             [
              0.2222222222222222,
              "#7201a8"
             ],
             [
              0.3333333333333333,
              "#9c179e"
             ],
             [
              0.4444444444444444,
              "#bd3786"
             ],
             [
              0.5555555555555556,
              "#d8576b"
             ],
             [
              0.6666666666666666,
              "#ed7953"
             ],
             [
              0.7777777777777778,
              "#fb9f3a"
             ],
             [
              0.8888888888888888,
              "#fdca26"
             ],
             [
              1,
              "#f0f921"
             ]
            ],
            "type": "histogram2dcontour"
           }
          ],
          "mesh3d": [
           {
            "colorbar": {
             "outlinewidth": 0,
             "ticks": ""
            },
            "type": "mesh3d"
           }
          ],
          "parcoords": [
           {
            "line": {
             "colorbar": {
              "outlinewidth": 0,
              "ticks": ""
             }
            },
            "type": "parcoords"
           }
          ],
          "pie": [
           {
            "automargin": true,
            "type": "pie"
           }
          ],
          "scatter": [
           {
            "marker": {
             "colorbar": {
              "outlinewidth": 0,
              "ticks": ""
             }
            },
            "type": "scatter"
           }
          ],
          "scatter3d": [
           {
            "line": {
             "colorbar": {
              "outlinewidth": 0,
              "ticks": ""
             }
            },
            "marker": {
             "colorbar": {
              "outlinewidth": 0,
              "ticks": ""
             }
            },
            "type": "scatter3d"
           }
          ],
          "scattercarpet": [
           {
            "marker": {
             "colorbar": {
              "outlinewidth": 0,
              "ticks": ""
             }
            },
            "type": "scattercarpet"
           }
          ],
          "scattergeo": [
           {
            "marker": {
             "colorbar": {
              "outlinewidth": 0,
              "ticks": ""
             }
            },
            "type": "scattergeo"
           }
          ],
          "scattergl": [
           {
            "marker": {
             "colorbar": {
              "outlinewidth": 0,
              "ticks": ""
             }
            },
            "type": "scattergl"
           }
          ],
          "scattermapbox": [
           {
            "marker": {
             "colorbar": {
              "outlinewidth": 0,
              "ticks": ""
             }
            },
            "type": "scattermapbox"
           }
          ],
          "scatterpolar": [
           {
            "marker": {
             "colorbar": {
              "outlinewidth": 0,
              "ticks": ""
             }
            },
            "type": "scatterpolar"
           }
          ],
          "scatterpolargl": [
           {
            "marker": {
             "colorbar": {
              "outlinewidth": 0,
              "ticks": ""
             }
            },
            "type": "scatterpolargl"
           }
          ],
          "scatterternary": [
           {
            "marker": {
             "colorbar": {
              "outlinewidth": 0,
              "ticks": ""
             }
            },
            "type": "scatterternary"
           }
          ],
          "surface": [
           {
            "colorbar": {
             "outlinewidth": 0,
             "ticks": ""
            },
            "colorscale": [
             [
              0,
              "#0d0887"
             ],
             [
              0.1111111111111111,
              "#46039f"
             ],
             [
              0.2222222222222222,
              "#7201a8"
             ],
             [
              0.3333333333333333,
              "#9c179e"
             ],
             [
              0.4444444444444444,
              "#bd3786"
             ],
             [
              0.5555555555555556,
              "#d8576b"
             ],
             [
              0.6666666666666666,
              "#ed7953"
             ],
             [
              0.7777777777777778,
              "#fb9f3a"
             ],
             [
              0.8888888888888888,
              "#fdca26"
             ],
             [
              1,
              "#f0f921"
             ]
            ],
            "type": "surface"
           }
          ],
          "table": [
           {
            "cells": {
             "fill": {
              "color": "#EBF0F8"
             },
             "line": {
              "color": "white"
             }
            },
            "header": {
             "fill": {
              "color": "#C8D4E3"
             },
             "line": {
              "color": "white"
             }
            },
            "type": "table"
           }
          ]
         },
         "layout": {
          "annotationdefaults": {
           "arrowcolor": "#2a3f5f",
           "arrowhead": 0,
           "arrowwidth": 1
          },
          "coloraxis": {
           "colorbar": {
            "outlinewidth": 0,
            "ticks": ""
           }
          },
          "colorscale": {
           "diverging": [
            [
             0,
             "#8e0152"
            ],
            [
             0.1,
             "#c51b7d"
            ],
            [
             0.2,
             "#de77ae"
            ],
            [
             0.3,
             "#f1b6da"
            ],
            [
             0.4,
             "#fde0ef"
            ],
            [
             0.5,
             "#f7f7f7"
            ],
            [
             0.6,
             "#e6f5d0"
            ],
            [
             0.7,
             "#b8e186"
            ],
            [
             0.8,
             "#7fbc41"
            ],
            [
             0.9,
             "#4d9221"
            ],
            [
             1,
             "#276419"
            ]
           ],
           "sequential": [
            [
             0,
             "#0d0887"
            ],
            [
             0.1111111111111111,
             "#46039f"
            ],
            [
             0.2222222222222222,
             "#7201a8"
            ],
            [
             0.3333333333333333,
             "#9c179e"
            ],
            [
             0.4444444444444444,
             "#bd3786"
            ],
            [
             0.5555555555555556,
             "#d8576b"
            ],
            [
             0.6666666666666666,
             "#ed7953"
            ],
            [
             0.7777777777777778,
             "#fb9f3a"
            ],
            [
             0.8888888888888888,
             "#fdca26"
            ],
            [
             1,
             "#f0f921"
            ]
           ],
           "sequentialminus": [
            [
             0,
             "#0d0887"
            ],
            [
             0.1111111111111111,
             "#46039f"
            ],
            [
             0.2222222222222222,
             "#7201a8"
            ],
            [
             0.3333333333333333,
             "#9c179e"
            ],
            [
             0.4444444444444444,
             "#bd3786"
            ],
            [
             0.5555555555555556,
             "#d8576b"
            ],
            [
             0.6666666666666666,
             "#ed7953"
            ],
            [
             0.7777777777777778,
             "#fb9f3a"
            ],
            [
             0.8888888888888888,
             "#fdca26"
            ],
            [
             1,
             "#f0f921"
            ]
           ]
          },
          "colorway": [
           "#636efa",
           "#EF553B",
           "#00cc96",
           "#ab63fa",
           "#FFA15A",
           "#19d3f3",
           "#FF6692",
           "#B6E880",
           "#FF97FF",
           "#FECB52"
          ],
          "font": {
           "color": "#2a3f5f"
          },
          "geo": {
           "bgcolor": "white",
           "lakecolor": "white",
           "landcolor": "#E5ECF6",
           "showlakes": true,
           "showland": true,
           "subunitcolor": "white"
          },
          "hoverlabel": {
           "align": "left"
          },
          "hovermode": "closest",
          "mapbox": {
           "style": "light"
          },
          "paper_bgcolor": "white",
          "plot_bgcolor": "#E5ECF6",
          "polar": {
           "angularaxis": {
            "gridcolor": "white",
            "linecolor": "white",
            "ticks": ""
           },
           "bgcolor": "#E5ECF6",
           "radialaxis": {
            "gridcolor": "white",
            "linecolor": "white",
            "ticks": ""
           }
          },
          "scene": {
           "xaxis": {
            "backgroundcolor": "#E5ECF6",
            "gridcolor": "white",
            "gridwidth": 2,
            "linecolor": "white",
            "showbackground": true,
            "ticks": "",
            "zerolinecolor": "white"
           },
           "yaxis": {
            "backgroundcolor": "#E5ECF6",
            "gridcolor": "white",
            "gridwidth": 2,
            "linecolor": "white",
            "showbackground": true,
            "ticks": "",
            "zerolinecolor": "white"
           },
           "zaxis": {
            "backgroundcolor": "#E5ECF6",
            "gridcolor": "white",
            "gridwidth": 2,
            "linecolor": "white",
            "showbackground": true,
            "ticks": "",
            "zerolinecolor": "white"
           }
          },
          "shapedefaults": {
           "line": {
            "color": "#2a3f5f"
           }
          },
          "ternary": {
           "aaxis": {
            "gridcolor": "white",
            "linecolor": "white",
            "ticks": ""
           },
           "baxis": {
            "gridcolor": "white",
            "linecolor": "white",
            "ticks": ""
           },
           "bgcolor": "#E5ECF6",
           "caxis": {
            "gridcolor": "white",
            "linecolor": "white",
            "ticks": ""
           }
          },
          "title": {
           "x": 0.05
          },
          "xaxis": {
           "automargin": true,
           "gridcolor": "white",
           "linecolor": "white",
           "ticks": "",
           "title": {
            "standoff": 15
           },
           "zerolinecolor": "white",
           "zerolinewidth": 2
          },
          "yaxis": {
           "automargin": true,
           "gridcolor": "white",
           "linecolor": "white",
           "ticks": "",
           "title": {
            "standoff": 15
           },
           "zerolinecolor": "white",
           "zerolinewidth": 2
          }
         }
        },
        "title": {
         "text": "Ref. Tension 51 lbs"
        },
        "width": 900,
        "xaxis": {
         "showgrid": false,
         "ticklen": 10,
         "ticks": "inside",
         "title": {
          "text": "Tension Loss %"
         }
        },
        "yaxis": {
         "showgrid": false,
         "ticklen": 10,
         "ticks": "inside",
         "title": {
          "text": "Spin Potential"
         }
        }
       }
      },
      "text/html": [
       "<div>\n",
       "        \n",
       "        \n",
       "            <div id=\"420cc886-67db-42fc-a398-73c97e94cab0\" class=\"plotly-graph-div\" style=\"height:1000px; width:900px;\"></div>\n",
       "            <script type=\"text/javascript\">\n",
       "                require([\"plotly\"], function(Plotly) {\n",
       "                    window.PLOTLYENV=window.PLOTLYENV || {};\n",
       "                    \n",
       "                if (document.getElementById(\"420cc886-67db-42fc-a398-73c97e94cab0\")) {\n",
       "                    Plotly.newPlot(\n",
       "                        '420cc886-67db-42fc-a398-73c97e94cab0',\n",
       "                        [{\"hovertext\": [\"Alien Black Diamond 16\", \"Ashaway MonoGut 16L\", \"Ashaway MonoGut 17\", \"Babolat Ballistic Polymono 16\", \"Babolat Hurricane Feel 16\", \"Babolat Hurricane Feel 17\", \"Babolat Pro Hurricane 17\", \"Babolat Pro Hurricane 18\", \"Babolat Pro Hurricane Tour 16\", \"Babolat Pro Hurricane Tour 17\", \"Babolat RPM Blast 16\", \"Babolat RPM Blast 17/1.25\", \"Babolat RPM Dual 16\", \"Babolat RPM Team 16 Black\", \"Boris Becker Bomber 16\", \"Diadem Solstice Power 16 (1.30)\", \"Diadem Solstice Power 17 (1.20)\", \"Double AR Diablo (1.24)\", \"Double AR Diablo (1.31)\", \"Double AR Raptor 1.27\", \"Double AR Twice Dragon(1.30)\", \"Double AR Twice Shark (1.25)\", \"Double AR WTS 25 (1.25)\", \"Dunlop Black Widow 16\", \"Dunlop Black Widow 17\", \"Dunlop Comfort Poly 17\", \"Dunlop Explosive 16\", \"Dunlop Juice 16 (1.31)\", \"Dunlop Juice 17 (1.26)\", \"Gamma Monoblast 16\", \"Gamma Moto 16\", \"Gamma Poly Z 16\", \"Gamma RZR Rx 16\", \"Gamma Zo Black Ice 17 (1.23)\", \"Gamma Zo Black Ice 18 (1.18)\", \"Gamma Zo Ice 16\", \"Gamma Zo Magic 16\", \"Gamma Zo Tour 17 (1.25)\", \"Gamma Zo Tour Rough 16\", \"Gamma Zo Twist 16\", \"Gamma Zo Verve 17\", \"Gosen Polylon 16\", \"Gosen Polylon 17 (1.24)\", \"Gosen Polylon Comfort 16\", \"Gosen Polylon PolyBreak 17 (1.24)\", \"Gosen Polylon PolyBreak 18 (1.20)\", \"Gosen Polylon SP 16 (1.30)\", \"Gosen Polylon SP 17 (1.24)\", \"Gosen Polymaster I 16\", \"Gosen Polymaster II 16\", \"Gosen Sidewinder 17\", \"Head Hawk 17 (1.25)\", \"Head Lynx 16 (1.30)\", \"Head Sonic Pro 16\", \"Head Sonic Pro 17\", \"Head Sonic Pro Edge 16\", \"Head Ultra Tour 16\", \"Head Ultratour 17\", \"IsoSpeed Axon Mono 16L\", \"IsoSpeed Black Fire 17\", \"IsoSpeed Pulse 16\", \"IsoSpeed Pyramid 16\", \"Kirschbaum Black Shark 16 (1.30)\", \"Kirschbaum Black Shark 17 (1.25)\", \"Kirschbaum Competition 16/1.30\", \"Kirschbaum Competition 17 (1.25)\", \"Kirschbaum Competition 17L (1.20)\", \"Kirschbaum Helix 16\", \"Kirschbaum Helix 17\", \"Kirschbaum Long Life 15\", \"Kirschbaum Max Power 17 (1.25)\", \"Kirschbaum P2 16/1.30\", \"Kirschbaum P2 17 (1.25)\", \"Kirschbaum P2 17L (1.20)\", \"Kirschbaum Pro Line I 1.30\", \"Kirschbaum Pro Line I 17 (1.25)\", \"Kirschbaum Pro Line I 17L (1.20)\", \"Kirschbaum Pro Line I 18L (1.15)\", \"Kirschbaum Pro Line II 1.30\", \"Kirschbaum Pro Line II 17 (1.25)\", \"Kirschbaum Pro Line II 17L (1.20)\", \"Kirschbaum Pro Line II 18 (1.15)\", \"Kirschbaum Pro Line X 16 (1.30)\", \"Kirschbaum Pro Line X 17 (1.25)\", \"Kirschbaum Spiky Shark 16\", \"Kirschbaum Spiky Shark 17\", \"Kirschbaum Super Smash 16/1.30\", \"Kirschbaum Super Smash 17 (1.25)\", \"Kirschbaum Super Smash Spiky 1.20\", \"Kirschbaum Super Smash Spiky 16/1.30\", \"Kirschbaum Super Smash Spiky 17 (1.25)\", \"Kirschbaum Touch Turbo 1.30\", \"Kirschbaum Touch Turbo 16L (1.275)\", \"Klip Hardcore 16/1.30\", \"Klip K-Boom 16/1.30\", \"L-Tec Premium 3S 16L (1.25)\", \"L-Tec Premium 4S 16L (1.25)\", \"L-Tec Premium 5S 16L (1.25)\", \"L-Tec Premium OS 17 (1.23)\", \"L-Tec Premium Pro OS 16L\", \"Leopard Plus Control 16\", \"Luxilon 4G 16L (1.25)\", \"Luxilon 4G Rough 16L\", \"Luxilon 4G Soft 1.25\", \"Luxilon ALU Power 125/16L\", \"Luxilon ALU Power Feel 18/1.20\", \"Luxilon Adrenaline 16\", \"Luxilon Adrenaline 16L/1.25\", \"Luxilon Adrenaline 17/1.20\", \"Luxilon Adrenaline Rough 16L/1.25\", \"Luxilon Alu Power Soft 1.25\", \"Luxilon Big Banger ALU Power Spin 127/16\", \"Luxilon Big Banger Ace 18 (1.12)\", \"Luxilon Big Banger Original 130/16\", \"Luxilon Big Banger Rough 130/16\", \"Luxilon Big Banger TiMO 17L (1.17)\", \"Luxilon Big Banger Timo 17 (1.22)\", \"Luxilon Big Banger Timo 18 (1.10)\", \"Luxilon Big Banger XP 125/16L\", \"Luxilon Big Banger XP 15L (1.38)\", \"Luxilon Element 1.30\", \"Luxilon M2 Pro 125/16\", \"Luxilon Monotec Super Poly 1.25/16L\", \"Luxilon Monotec Supersense 16L/1.25\", \"Luxilon Monotec Zolo 15L\", \"Luxilon Savage 16/1.27\", \"MSV Co.-Focus 16L\", \"MSV Focus Evo 16\", \"MSV Focus Evo 17\", \"MSV Focus Hex 17L (1.18)\", \"MSV Focus Hex Soft 17 (1.25)\", \"MSV Hepta-Twist 17\", \"Mantis Comfort Poly 16\", \"Mantis Power Poly 17\", \"One Strings Carbon NRG 16\", \"Pacific ATP Poly Power Pro 16L\", \"Pacific Poly Force 16L\", \"Pacific Poly Force 17\", \"Pacific Poly Force Xtreme 16L\", \"Pacific X Force 17\", \"Pacific X Force 18\", \"Poly Star Classic 16 (1.30)\", \"Poly Star Classic 16L (1.25)\", \"Poly Star Classic 17 (1.20)\", \"Poly Star Energy 16 (1.30)\", \"Poly Star Energy 16L (1.25)\", \"Poly Star Energy 17 (1.20)\", \"Poly Star Strike 16 (1.30)\", \"Poly Star Strike 16L (1.25)\", \"Poly Star Turbo 16 (1.30)\", \"Poly Star Turbo 16L (1.25)\", \"Polyfibre Black Venom 16 (1.30)\", \"Polyfibre Cobra 17/1.20\", \"Polyfibre Hexablade 16L (1.25)\", \"Polyfibre Hexablade 17L (1.18)\", \"Polyfibre Hightec Premium 16/1.30\", \"Polyfibre Hightec Premium 16L\", \"Polyfibre Hightec Premium 17\", \"Polyfibre Poly Hightec 16/1.30\", \"Polyfibre Poly Hightec 16L\", \"Polyfibre Poly Hightec 17\", \"Polyfibre Poly Hightec 18\", \"Polyfibre TCS 16/1.30\", \"Polyfibre TCS 16L\", \"Polyfibre TCS 17\", \"Polyfibre TCS Rapid 16L/1.25\", \"Polyfibre Viper 17/1.20\", \"Prince Beast XP 16\", \"Prince Poly EXP 17\", \"Prince Poly Spin 3D\", \"Prince Tour 16\", \"Prince Tour 17\", \"Prince Tour XC 15L\", \"Prince Tour XC 16L\", \"Prince Tour XC 17L\", \"Prince Tour XP 15L\", \"Prince Tour XP 16\", \"Prince Tour XS 1.35\", \"Prince Tour XS 16\", \"Prince Tour XT 18\", \"Prince Twisted 16L\", \"RS RS Lyon 17\", \"Signum Pro Firestorm 1.25\", \"Signum Pro Hyperion 16\", \"Signum Pro Hyperion 17 (1.24)\", \"Signum Pro Poly Megaforce 16\", \"Signum Pro Poly Megaforce 17 (1.19)\", \"Signum Pro Poly-Plasma 16L\", \"Signum Pro Poly-Plasma 17L (1.18)\", \"Signum Pro Poly-Plasma Pure 16L\", \"Signum Pro Poly-Plasma Pure 17 (1.23)\", \"Signum Pro Tornado 16\", \"Signum Pro Tornado 17 (1.23)\", \"Solinco Barb Wire 16\", \"Solinco Barb Wire 17 (1.20)\", \"Solinco Hyper-G 16\", \"Solinco Outlast 16\", \"Solinco Outlast 17\", \"Solinco Revolution 16\", \"Solinco Revolution 17\", \"Solinco Tour Bite 16\", \"Solinco Tour Bite 16 Soft\", \"Solinco Tour Bite 16L (1.25)\", \"Solinco Tour Bite 17\", \"Solinco Tour Bite 18 (1.15)\", \"Solinco Tour Bite Diamond Rough 16 (1.30)\", \"Solinco Tour Bite Diamond Rough 16L (1.25)\", \"Solinco Tour Bite Diamond Rough 17 (1.20)\", \"SuperString Nikita Original 1.25\", \"SuperString Viper V2 Rough 16L\", \"Tecnifibre Black Code 17\", \"Tecnifibre Black Code 18\", \"Tecnifibre Black Code 4S 17 (1.25)\", \"Tecnifibre Polyspin 16L\", \"Tecnifibre Pro Red Code 16\", \"Tecnifibre Pro Red Code 17\", \"Tecnifibre Pro Red Code 18\", \"Tecnifibre Razor Code 16 (1.30)\", \"Tecnifibre X-Code 16\", \"Topspin Cyber Blue 16\", \"Topspin Cyber Blue 17\", \"Topspin Cyber Flash 16\", \"Topspin Cyber Flash 17\", \"Topspin Cyber Flash 17L\", \"Tourna Big Hitter Black 7 17\", \"Tourna Big Hitter Blue 17\", \"Tourna Big Hitter Blue Rough 16\", \"Tourna Big Hitter Blue Rough 17\", \"Tourna Big Hitter Silver 17\", \"Tourna Big Hitter Silver Rough 16\", \"Tourna Big Hitter Silver Rough 17\", \"Tourna Black Zone 16\", \"Volkl Cyclone 16\", \"Volkl Cyclone 17\", \"Volkl Cyclone 18\", \"Volkl Cyclone 19 (1.10)\", \"Volkl Cyclone Tour 17 (1.25)\", \"Volkl V-Pro 16\", \"Volkl V-Pro 17\", \"Volkl V-Pro 18\", \"Volkl V-Star 16 (1.30)\", \"Volkl V-Torque 16\", \"Weiss Cannon Black 5 Edge 17 (1.24)\", \"Weiss Cannon MatchPower 1.25\", \"Weiss Cannon Scorpion 1.22\", \"Weiss Cannon Scorpion 1.33\", \"Weiss Cannon Silverstring 1.25\", \"Weiss Cannon Silverstring 120\", \"Weiss Cannon Turbotwist 17 (1.24)\", \"Weiss Cannon Turbotwist 17L (1.18)\", \"Wilson Enduro Pro 16\", \"Wilson Enduro Tour 16\", \"Wilson Enduro Tour 17\", \"Wilson Revolve 17 (1.25)\", \"Wilson Ripspin 15\", \"Wilson Ripspin 16\", \"Wilson Ripspin 17\", \"Wilson Spin Cycle 16L\", \"Y-Tex Quadro Twist 16L\", \"Yonex Poly Tour Pro Yellow 16 (1.30)\", \"Yonex Poly Tour Spin G 1.25\"], \"marker\": {\"color\": \"rgba(17, 28, 242, 0.5)\", \"line\": {\"width\": 1}, \"size\": 10}, \"mode\": \"markers\", \"name\": \"Polyester\", \"type\": \"scatter\", \"x\": [50.7, 47.0, 50.9, 45.9, 30.7, 31.9, 42.0, 37.2, 46.1, 44.8, 45.9, 33.3, 34.9, 22.0, 46.9, 29.6, 28.5, 55.4, 55.7, 22.3, 51.2, 63.8, 56.5, 38.2, 31.6, 42.1, 35.8, 48.4, 45.8, 42.5, 30.8, 51.8, 27.3, 41.2, 39.6, 37.8, 33.7, 50.3, 48.9, 46.3, 25.3, 50.9, 48.8, 54.1, 48.9, 53.3, 52.5, 52.2, 51.8, 53.0, 46.7, 32.9, 45.6, 57.0, 54.9, 38.5, 45.1, 44.9, 34.4, 39.3, 56.9, 58.0, 41.2, 38.4, 47.5, 47.5, 45.0, 55.3, 44.2, 55.4, 23.5, 38.3, 33.9, 41.6, 47.8, 50.8, 52.2, 50.4, 47.6, 44.9, 46.0, 46.4, 27.2, 37.0, 47.4, 53.5, 50.7, 48.0, 52.7, 54.6, 51.0, 45.7, 48.5, 49.8, 34.0, 35.6, 35.3, 36.8, 28.8, 26.4, 40.0, 21.3, 32.8, 25.4, 46.6, 42.9, 45.3, 44.3, 41.8, 44.8, 36.6, 45.0, 46.1, 51.4, 52.0, 45.9, 44.3, 45.4, 49.0, 48.0, 44.3, 53.0, 44.1, 47.7, 47.0, 46.2, 49.7, 44.4, 46.1, 27.5, 29.4, 50.2, 40.2, 43.0, 42.3, 51.1, 45.7, 36.7, 39.6, 36.2, 37.0, 55.8, 54.5, 61.6, 66.3, 68.0, 63.6, 49.1, 51.4, 66.7, 64.9, 56.9, 63.7, 62.9, 63.8, 57.6, 59.8, 61.9, 57.8, 61.4, 63.0, 61.0, 59.6, 62.1, 63.4, 64.3, 64.3, 41.7, 43.7, 60.2, 53.0, 55.6, 45.4, 36.7, 36.6, 44.2, 36.5, 36.9, 36.2, 38.2, 43.5, 36.0, 46.4, 40.9, 42.6, 34.9, 36.3, 39.2, 40.3, 40.6, 43.0, 47.7, 44.3, 40.2, 42.6, 26.3, 47.3, 50.4, 47.4, 50.0, 47.1, 50.3, 25.2, 48.6, 50.6, 52.0, 47.0, 43.5, 42.9, 38.3, 40.2, 40.7, 28.3, 36.3, 34.8, 36.4, 36.3, 32.7, 37.9, 43.3, 46.1, 46.5, 54.9, 59.1, 43.0, 36.3, 40.5, 43.8, 44.0, 45.0, 42.1, 29.5, 47.9, 48.1, 48.1, 33.2, 52.6, 39.2, 47.7, 33.1, 54.5, 49.7, 32.8, 38.4, 44.2, 47.8, 43.8, 50.6, 49.5, 48.6, 36.3, 37.6, 62.4, 36.2, 41.7, 39.6, 37.8, 38.7, 48.5, 44.5, 25.7], \"y\": [4.5, 3.5, 3.9, 4.7, 4.7, 4.4, 3.1, 3.3, 5.1, 5.2, 4.5, 4.6, 4.6, 3.9, 5.1, 8.1, 8.6, 7.4, 7.7, 5.3, 7.2, 5.7, 7.3, 5.2, 5.4, 4.5, 4.8, 3.6, 3.9, 3.8, 5.8, 5.4, 3.9, 3.7, 4.0, 4.2, 4.1, 3.7, 6.1, 4.7, 6.1, 4.1, 4.3, 5.5, 4.2, 4.8, 4.0, 4.6, 4.7, 5.1, 4.6, 4.7, 7.0, 4.2, 3.9, 4.8, 4.5, 4.1, 3.2, 5.6, 4.7, 7.0, 5.4, 5.8, 4.9, 4.5, 4.1, 5.4, 5.4, 4.6, 5.4, 5.2, 4.9, 4.8, 4.4, 4.1, 3.9, 4.4, 5.7, 4.7, 4.8, 4.5, 5.1, 4.8, 7.5, 7.4, 5.3, 5.7, 5.1, 5.0, 5.2, 5.3, 5.4, 4.7, 4.1, 4.0, 6.7, 4.0, 4.1, 4.3, 3.9, 3.9, 4.2, 6.7, 5.8, 5.4, 3.6, 3.5, 2.9, 3.3, 6.9, 4.3, 4.0, 4.8, 4.4, 4.4, 3.9, 3.6, 4.1, 3.6, 6.6, 3.6, 3.3, 2.1, 4.6, 3.4, 4.2, 4.9, 4.5, 6.5, 6.3, 5.7, 4.8, 4.8, 5.1, 5.0, 4.5, 4.5, 5.0, 4.5, 4.7, 4.2, 4.4, 4.0, 4.0, 3.7, 4.0, 5.1, 4.8, 5.3, 5.0, 4.3, 3.6, 4.6, 5.2, 4.2, 4.4, 3.9, 4.1, 4.4, 4.0, 3.9, 4.4, 3.8, 4.2, 4.3, 3.9, 3.9, 4.4, 3.3, 3.1, 3.4, 5.5, 5.5, 5.9, 5.2, 5.5, 5.0, 5.5, 6.4, 3.7, 5.4, 4.8, 4.6, 4.2, 4.3, 4.8, 4.7, 5.0, 5.6, 5.2, 5.1, 4.8, 4.4, 4.9, 7.0, 6.0, 5.5, 6.4, 6.6, 6.7, 6.9, 5.9, 6.3, 5.8, 4.9, 5.4, 4.3, 3.4, 5.0, 4.2, 4.6, 9.8, 3.8, 4.9, 4.8, 5.0, 4.2, 2.0, 5.8, 5.1, 4.8, 4.2, 4.6, 6.3, 4.9, 3.4, 3.2, 5.4, 4.5, 4.1, 5.6, 6.2, 5.8, 7.1, 8.2, 6.1, 5.0, 5.1, 4.9, 6.9, 5.6, 4.7, 3.6, 4.0, 4.2, 3.8, 3.7, 4.2, 4.8, 4.7, 5.2, 4.8, 7.7, 4.9, 5.2, 5.2, 4.2, 6.2, 3.4, 4.8]}, {\"hovertext\": [\"Alpha Gut 2000 16\", \"Ashaway Liberty 16\", \"Ashaway Synthetic Gut 16\", \"Babolat Addiction 16\", \"Babolat Addiction 17\", \"Babolat Conquest 16\", \"Babolat FiberTour 16\", \"Babolat Origin 17\", \"Babolat SG SpiralTek 16\", \"Babolat Super Fine Play 16\", \"Babolat Xcel 16\", \"Babolat Xcel Power 16\", \"Babolat Xcel Power 17\", \"Double AR 666 (1.30)\", \"Dunlop Comfort Synthetic 16\", \"Dunlop DNA 16 (1.30)\", \"Dunlop DNA 17 (1.22)\", \"Dunlop Explosive Synthetic 16\", \"Dunlop Hexy Fiber 16\", \"Dunlop Hexy Fiber 17\", \"Dunlop M-Fil Tour 16\", \"Dunlop Silk 16 (1.30)\", \"Dunlop Silk 17\", \"Dunlop Synthetic Gut 16\", \"Dunlop Tour Performance 16\", \"Dunlop X-Life Synthetic 15L\", \"Forten Sweet 16\", \"Gamma Asterisk 16\", \"Gamma Asterisk Spin 16\", \"Gamma ESP 16\", \"Gamma Glide Cross String 16\", \"Gamma Prodigy 16\", \"Gamma Professional 17\", \"Gamma Synthetic Gut 16\", \"Gamma TNT2 16\", \"Gamma TNT2 Pro Plus 16\", \"Gamma TNT2 Rx 16\", \"Gamma TNT2 Touch 16\", \"Gamma WearGuard Synthetic Gut 16\", \"Gosen A.K. Control 16\", \"Gosen AK Pro 16\", \"Gosen AK Pro 17\", \"Gosen Compositemaster I 16\", \"Gosen Compositemaster II 16\", \"Gosen Nanocubic 16\", \"Gosen Nanosilver 17\", \"Gosen OG Sheep Micro 17\", \"Gosen OG Sheep Micro 18\", \"Gosen OG Sheep Micro Super 16L\", \"Gosen OG-Sheep Micro 16\", \"Gosen Powermaster I 16\", \"Gosen Powermaster II 16\", \"Head ETS 16\", \"Head ETS 17\", \"Head FXP 17\", \"Head FXP Power 16\", \"Head FXP Power 17\", \"Head Fibergel Power 16\", \"Head Fibergel Power 17\", \"Head Fibergel Spin 16\", \"Head Reflex MLT 16 (1.30)\", \"Head Synthetic Gut 16\", \"Head Synthetic Gut PPS 16\", \"Kirschbaum Touch Multifibre 16\", \"Kirschbaum Touch Multifibre 17 (1.25)\", \"Klip Excellerator 16/1.30\", \"Klip Kicker 16\", \"Klip Scorcher 16/1.30\", \"Klip Synthetic Gut 16\", \"Klip Venom 16/1.30\", \"Mantis Comfort Synthetic 16\", \"Pacific PMX 16L\", \"Pacific Power Line 16L\", \"Pacific Power Line 17\", \"Pacific Power Twist 16L\", \"Pacific Premium Power X 16L\", \"Prince Lightning XX 16\", \"Prince Lightning XX 17\", \"Prince Premier Control 15\", \"Prince Premier Control 15L\", \"Prince Premier Control 16\", \"Prince Premier Control 17\", \"Prince Premier LT 17\", \"Prince Premier LT 18\", \"Prince Premier Power 16\", \"Prince Premier Power 17\", \"Prince Premier Power 18\", \"Prince Premier Touch 15L\", \"Prince Premier Touch 16\", \"Prince Premier Touch 17\", \"Prince Premier W/ Softflex 17\", \"Prince Premier W/Softflex 16\", \"Prince Recoil 16\", \"Prince Syn Gut Original 16\", \"Prince Syn Gut Original 17\", \"Prince Synthetic Gut 18 Duraflex\", \"Prince Synthetic Gut Multifilament 16\", \"Prince Synthetic Gut Multifilament 17\", \"Prince Topspin Plus 16\", \"Prince Topspin W/ Duraflex 15L\", \"Prince Tournament Nylon 15L\", \"Solinco Vanquish 16\", \"Tecnifibre E-Matrix 17\", \"Tecnifibre NRG2 16\", \"Tecnifibre NRG2 17/1.24\", \"Tecnifibre X-One Biphase 18\", \"Tourna Irradiated 16\", \"Volkl Gripper 17\", \"Volkl Power-Fiber II 16\", \"Volkl Power-Fiber II 17\", \"Volkl Power-Fiber II 18\", \"Volkl Synthetic Gut 16\", \"Volkl Synthetic Gut 17\", \"Weiss Cannon Explosiv 1.30\", \"Wilson Extreme 16 Synthetic Gut\", \"Wilson Hollow Core 16\", \"Wilson Hollow Core Pro 16\", \"Wilson Hollow Core Pro 17\", \"Wilson K-Gut 16\", \"Wilson K-Gut Pro 16\", \"Wilson NXT 16\", \"Wilson NXT 17\", \"Wilson NXT Duramax 15 (1.40)\", \"Wilson NXT Max 16\", \"Wilson NXT OS\", \"Wilson NXT Tour 16\", \"Wilson NXT Tour 17\", \"Wilson Optimus 16 (1.30)\", \"Wilson Reaction 16\", \"Wilson Red Alert 16\", \"Wilson SGX 16\", \"Wilson Sensation 16\", \"Wilson Sensation 17\", \"Wilson Sensation Supreme 16\", \"Wilson Shock Shield 16\", \"Wilson Stamina 16\", \"Wilson Synthetic Gut Extreme 17\"], \"marker\": {\"color\": \"rgba(63, 191, 127, 0.5)\", \"line\": {\"width\": 1}, \"size\": 10}, \"mode\": \"markers\", \"name\": \"Nylon\", \"type\": \"scatter\", \"x\": [16.5, 24.8, 24.3, 20.1, 20.1, 30.2, 22.8, 17.3, 15.3, 21.7, 18.9, 18.9, 21.7, 24.3, 19.7, 25.1, 28.2, 20.6, 25.2, 24.8, 23.3, 25.9, 30.8, 22.9, 22.3, 22.1, 22.6, 21.2, 24.5, 27.1, 22.7, 21.3, 23.3, 23.2, 21.6, 25.9, 23.4, 26.1, 22.0, 22.4, 21.9, 20.7, 21.3, 23.5, 20.7, 21.7, 23.5, 21.4, 21.4, 21.3, 22.4, 22.4, 24.7, 21.3, 20.5, 25.6, 22.2, 32.8, 24.5, 25.0, 24.0, 23.6, 23.3, 23.3, 21.8, 20.1, 19.1, 24.5, 24.8, 20.8, 24.4, 26.3, 19.4, 22.3, 22.7, 24.4, 19.3, 19.3, 18.9, 18.1, 17.8, 19.4, 30.1, 27.6, 20.6, 19.7, 20.5, 24.0, 22.9, 24.9, 22.7, 25.2, 23.8, 20.7, 16.5, 19.4, 20.1, 22.6, 20.5, 17.4, 19.7, 20.8, 19.1, 18.3, 15.1, 18.9, 23.6, 24.5, 21.1, 19.6, 22.8, 20.3, 22.2, 25.3, 20.0, 33.7, 31.7, 33.7, 19.7, 18.3, 20.5, 23.0, 17.6, 20.7, 18.8, 21.3, 18.4, 22.8, 26.4, 19.8, 19.1, 21.2, 21.5, 27.9, 32.3, 21.2, 19.2], \"y\": [3.1, 4.6, 4.6, 3.1, 2.6, 4.3, 3.1, 6.4, 4.1, 3.8, 3.0, 3.8, 3.6, 5.8, 4.1, 3.6, 4.1, 3.6, 3.6, 3.7, 4.3, 3.4, 3.5, 3.9, 4.1, 3.5, 3.4, 3.8, 3.9, 2.6, 3.2, 3.5, 2.8, 3.6, 3.2, 3.1, 4.5, 3.4, 2.8, 5.4, 4.3, 4.4, 4.2, 4.5, 4.0, 4.5, 3.2, 3.2, 2.7, 3.4, 3.9, 3.7, 1.9, 1.9, 4.1, 4.6, 4.5, 3.0, 3.1, 3.5, 5.1, 3.6, 3.9, 4.1, 3.5, 2.7, 3.7, 3.2, 4.2, 2.3, 3.8, 2.0, 3.4, 3.5, 3.2, 3.3, 3.4, 3.5, 4.6, 4.6, 5.4, 4.7, 3.3, 3.5, 4.6, 4.3, 5.0, 4.4, 4.1, 4.2, 3.2, 3.3, 3.4, 2.9, 3.8, 3.6, 2.7, 3.1, 5.3, 3.5, 3.1, 3.9, 2.4, 3.2, 3.5, 1.6, 3.0, 4.4, 3.2, 2.7, 2.9, 5.1, 5.2, 4.0, 3.2, 3.3, 2.2, 3.9, 4.4, 1.6, 3.9, 2.0, 4.5, 2.5, 2.5, 3.8, 3.6, 3.6, 2.4, 3.0, 3.1, 3.5, 3.6, 3.0, 2.3, 3.0, 2.8]}, {\"hovertext\": [\"Ashaway Dynamite 17\", \"Ashaway Dynamite Soft 17\", \"Ashaway Dynamite WB 16\", \"Ashaway MonoGut ZX 16\", \"Gamma Asterisk Tour 16\", \"Gamma Live Wire 16\", \"Gamma Live Wire XP 16\", \"Gamma Professional 16\", \"Gamma Professional Spin 16\"], \"marker\": {\"color\": \"rgba(242, 137, 17, 0.5)\", \"line\": {\"width\": 1}, \"size\": 10}, \"mode\": \"markers\", \"name\": \"Nylon/Zyex\", \"type\": \"scatter\", \"x\": [29.9, 28.1, 32.9, 47.6, 24.6, 29.7, 24.7, 25.1, 23.7], \"y\": [3.0, 2.6, 3.3, 4.4, 3.4, 2.6, 2.6, 2.4, 2.7]}, {\"hovertext\": [\"Babolat Attraction 16\", \"Dunlop S-Gut 17\", \"Gosen TecGut Remplir 16\", \"Tecnifibre E-Matrix 16\", \"Tecnifibre Multi-Feel 16\", \"Tecnifibre Multi-Feel 17 (1.25)\", \"Tecnifibre NRG2 18 (1.18)\", \"Tecnifibre TGV 16\", \"Tecnifibre TGV 17/1.25\", \"Tecnifibre X-One Biphase 16\", \"Tecnifibre X-One Biphase 17\", \"Tecnifibre XR3 16\", \"Tecnifibre XR3 17\"], \"marker\": {\"color\": \"rgba(242, 36, 17, 0.5)\", \"line\": {\"width\": 1}, \"size\": 10}, \"mode\": \"markers\", \"name\": \"Nylon/Polyurethane\", \"type\": \"scatter\", \"x\": [20.0, 21.4, 31.1, 20.4, 21.4, 20.9, 20.0, 24.8, 21.2, 17.7, 15.1, 20.8, 18.0], \"y\": [2.7, 3.1, 4.6, 2.7, 3.3, 2.6, 2.6, 3.1, 3.0, 1.6, 2.1, 2.9, 3.0]}, {\"hovertext\": [\"Babolat VS Natural ThermoGut 16 Touch\", \"Klip Legend 16 Uncoated\", \"Pacific Prime Natural Gut 16\", \"Wilson Natural Gut 16\"], \"marker\": {\"color\": \"rgba(223, 242, 17, 0.5)\", \"line\": {\"width\": 1}, \"size\": 10}, \"mode\": \"markers\", \"name\": \"Gut\", \"type\": \"scatter\", \"x\": [18.7, 15.0, 13.5, 17.3], \"y\": [2.7, 1.2, 4.4, 1.3]}, {\"hovertext\": [\"Dunlop Explosive Poly Max 16\", \"Head FXP 16\", \"Head FXP Tour 16\", \"IsoSpeed Energetic Plus 16\", \"Tecnifibre Duramix HD 16\", \"Tecnifibre Duramix HD 17\", \"Tecnifibre HDX Tour 16 (1.30)\", \"Tecnifibre Pro Mix 16\", \"Tecnifibre Pro Mix 17\", \"Wilson Enduro Pro 17 (1.25)\", \"Wilson NXT Control 16 (1.32)\"], \"marker\": {\"color\": \"rgba(148, 17, 242, 0.5)\", \"line\": {\"width\": 1}, \"size\": 10}, \"mode\": \"markers\", \"name\": \"Nylon/Polyester\", \"type\": \"scatter\", \"x\": [23.5, 22.8, 22.8, 22.4, 34.1, 32.0, 12.0, 37.7, 34.3, 32.9, 31.0], \"y\": [3.4, 3.8, 4.2, 2.4, 2.2, 1.7, 4.3, 2.6, 3.7, 4.0, 3.0]}, {\"hovertext\": [\"Head PerfectControl 16\", \"IsoSpeed Professional Classic 17\"], \"marker\": {\"color\": \"rgba(247, 17, 228, 0.5)\", \"line\": {\"width\": 1}, \"size\": 10}, \"mode\": \"markers\", \"name\": \"Polyolefin\", \"type\": \"scatter\", \"x\": [20.0, 28.9], \"y\": [2.6, 1.6]}, {\"hovertext\": [\"Head RIP PerfectPower 16\", \"IsoSpeed Axon Multi 16L\", \"IsoSpeed Energetic 17\"], \"marker\": {\"color\": \"rgba(17, 223, 242, 0.5)\", \"line\": {\"width\": 1}, \"size\": 10}, \"mode\": \"markers\", \"name\": \"Nylon/Polyolefin\", \"type\": \"scatter\", \"x\": [23.1, 29.1, 34.3], \"y\": [2.3, 3.0, 1.9]}],\n",
       "                        {\"font\": {\"color\": \"rgba(0, 0, 0, 1)\", \"family\": \"Courier New\", \"size\": 20}, \"height\": 1000, \"legend\": {\"orientation\": \"h\"}, \"template\": {\"data\": {\"bar\": [{\"error_x\": {\"color\": \"#2a3f5f\"}, \"error_y\": {\"color\": \"#2a3f5f\"}, \"marker\": {\"line\": {\"color\": \"#E5ECF6\", \"width\": 0.5}}, \"type\": \"bar\"}], \"barpolar\": [{\"marker\": {\"line\": {\"color\": \"#E5ECF6\", \"width\": 0.5}}, \"type\": \"barpolar\"}], \"carpet\": [{\"aaxis\": {\"endlinecolor\": \"#2a3f5f\", \"gridcolor\": \"white\", \"linecolor\": \"white\", \"minorgridcolor\": \"white\", \"startlinecolor\": \"#2a3f5f\"}, \"baxis\": {\"endlinecolor\": \"#2a3f5f\", \"gridcolor\": \"white\", \"linecolor\": \"white\", \"minorgridcolor\": \"white\", \"startlinecolor\": \"#2a3f5f\"}, \"type\": \"carpet\"}], \"choropleth\": [{\"colorbar\": {\"outlinewidth\": 0, \"ticks\": \"\"}, \"type\": \"choropleth\"}], \"contour\": [{\"colorbar\": {\"outlinewidth\": 0, \"ticks\": \"\"}, \"colorscale\": [[0.0, \"#0d0887\"], [0.1111111111111111, \"#46039f\"], [0.2222222222222222, \"#7201a8\"], [0.3333333333333333, \"#9c179e\"], [0.4444444444444444, \"#bd3786\"], [0.5555555555555556, \"#d8576b\"], [0.6666666666666666, \"#ed7953\"], [0.7777777777777778, \"#fb9f3a\"], [0.8888888888888888, \"#fdca26\"], [1.0, \"#f0f921\"]], \"type\": \"contour\"}], \"contourcarpet\": [{\"colorbar\": {\"outlinewidth\": 0, \"ticks\": \"\"}, \"type\": \"contourcarpet\"}], \"heatmap\": [{\"colorbar\": {\"outlinewidth\": 0, \"ticks\": \"\"}, \"colorscale\": [[0.0, \"#0d0887\"], [0.1111111111111111, \"#46039f\"], [0.2222222222222222, \"#7201a8\"], [0.3333333333333333, \"#9c179e\"], [0.4444444444444444, \"#bd3786\"], [0.5555555555555556, \"#d8576b\"], [0.6666666666666666, \"#ed7953\"], [0.7777777777777778, \"#fb9f3a\"], [0.8888888888888888, \"#fdca26\"], [1.0, \"#f0f921\"]], \"type\": \"heatmap\"}], \"heatmapgl\": [{\"colorbar\": {\"outlinewidth\": 0, \"ticks\": \"\"}, \"colorscale\": [[0.0, \"#0d0887\"], [0.1111111111111111, \"#46039f\"], [0.2222222222222222, \"#7201a8\"], [0.3333333333333333, \"#9c179e\"], [0.4444444444444444, \"#bd3786\"], [0.5555555555555556, \"#d8576b\"], [0.6666666666666666, \"#ed7953\"], [0.7777777777777778, \"#fb9f3a\"], [0.8888888888888888, \"#fdca26\"], [1.0, \"#f0f921\"]], \"type\": \"heatmapgl\"}], \"histogram\": [{\"marker\": {\"colorbar\": {\"outlinewidth\": 0, \"ticks\": \"\"}}, \"type\": \"histogram\"}], \"histogram2d\": [{\"colorbar\": {\"outlinewidth\": 0, \"ticks\": \"\"}, \"colorscale\": [[0.0, \"#0d0887\"], [0.1111111111111111, \"#46039f\"], [0.2222222222222222, \"#7201a8\"], [0.3333333333333333, \"#9c179e\"], [0.4444444444444444, \"#bd3786\"], [0.5555555555555556, \"#d8576b\"], [0.6666666666666666, \"#ed7953\"], [0.7777777777777778, \"#fb9f3a\"], [0.8888888888888888, \"#fdca26\"], [1.0, \"#f0f921\"]], \"type\": \"histogram2d\"}], \"histogram2dcontour\": [{\"colorbar\": {\"outlinewidth\": 0, \"ticks\": \"\"}, \"colorscale\": [[0.0, \"#0d0887\"], [0.1111111111111111, \"#46039f\"], [0.2222222222222222, \"#7201a8\"], [0.3333333333333333, \"#9c179e\"], [0.4444444444444444, \"#bd3786\"], [0.5555555555555556, \"#d8576b\"], [0.6666666666666666, \"#ed7953\"], [0.7777777777777778, \"#fb9f3a\"], [0.8888888888888888, \"#fdca26\"], [1.0, \"#f0f921\"]], \"type\": \"histogram2dcontour\"}], \"mesh3d\": [{\"colorbar\": {\"outlinewidth\": 0, \"ticks\": \"\"}, \"type\": \"mesh3d\"}], \"parcoords\": [{\"line\": {\"colorbar\": {\"outlinewidth\": 0, \"ticks\": \"\"}}, \"type\": \"parcoords\"}], \"pie\": [{\"automargin\": true, \"type\": \"pie\"}], \"scatter\": [{\"marker\": {\"colorbar\": {\"outlinewidth\": 0, \"ticks\": \"\"}}, \"type\": \"scatter\"}], \"scatter3d\": [{\"line\": {\"colorbar\": {\"outlinewidth\": 0, \"ticks\": \"\"}}, \"marker\": {\"colorbar\": {\"outlinewidth\": 0, \"ticks\": \"\"}}, \"type\": \"scatter3d\"}], \"scattercarpet\": [{\"marker\": {\"colorbar\": {\"outlinewidth\": 0, \"ticks\": \"\"}}, \"type\": \"scattercarpet\"}], \"scattergeo\": [{\"marker\": {\"colorbar\": {\"outlinewidth\": 0, \"ticks\": \"\"}}, \"type\": \"scattergeo\"}], \"scattergl\": [{\"marker\": {\"colorbar\": {\"outlinewidth\": 0, \"ticks\": \"\"}}, \"type\": \"scattergl\"}], \"scattermapbox\": [{\"marker\": {\"colorbar\": {\"outlinewidth\": 0, \"ticks\": \"\"}}, \"type\": \"scattermapbox\"}], \"scatterpolar\": [{\"marker\": {\"colorbar\": {\"outlinewidth\": 0, \"ticks\": \"\"}}, \"type\": \"scatterpolar\"}], \"scatterpolargl\": [{\"marker\": {\"colorbar\": {\"outlinewidth\": 0, \"ticks\": \"\"}}, \"type\": \"scatterpolargl\"}], \"scatterternary\": [{\"marker\": {\"colorbar\": {\"outlinewidth\": 0, \"ticks\": \"\"}}, \"type\": \"scatterternary\"}], \"surface\": [{\"colorbar\": {\"outlinewidth\": 0, \"ticks\": \"\"}, \"colorscale\": [[0.0, \"#0d0887\"], [0.1111111111111111, \"#46039f\"], [0.2222222222222222, \"#7201a8\"], [0.3333333333333333, \"#9c179e\"], [0.4444444444444444, \"#bd3786\"], [0.5555555555555556, \"#d8576b\"], [0.6666666666666666, \"#ed7953\"], [0.7777777777777778, \"#fb9f3a\"], [0.8888888888888888, \"#fdca26\"], [1.0, \"#f0f921\"]], \"type\": \"surface\"}], \"table\": [{\"cells\": {\"fill\": {\"color\": \"#EBF0F8\"}, \"line\": {\"color\": \"white\"}}, \"header\": {\"fill\": {\"color\": \"#C8D4E3\"}, \"line\": {\"color\": \"white\"}}, \"type\": \"table\"}]}, \"layout\": {\"annotationdefaults\": {\"arrowcolor\": \"#2a3f5f\", \"arrowhead\": 0, \"arrowwidth\": 1}, \"coloraxis\": {\"colorbar\": {\"outlinewidth\": 0, \"ticks\": \"\"}}, \"colorscale\": {\"diverging\": [[0, \"#8e0152\"], [0.1, \"#c51b7d\"], [0.2, \"#de77ae\"], [0.3, \"#f1b6da\"], [0.4, \"#fde0ef\"], [0.5, \"#f7f7f7\"], [0.6, \"#e6f5d0\"], [0.7, \"#b8e186\"], [0.8, \"#7fbc41\"], [0.9, \"#4d9221\"], [1, \"#276419\"]], \"sequential\": [[0.0, \"#0d0887\"], [0.1111111111111111, \"#46039f\"], [0.2222222222222222, \"#7201a8\"], [0.3333333333333333, \"#9c179e\"], [0.4444444444444444, \"#bd3786\"], [0.5555555555555556, \"#d8576b\"], [0.6666666666666666, \"#ed7953\"], [0.7777777777777778, \"#fb9f3a\"], [0.8888888888888888, \"#fdca26\"], [1.0, \"#f0f921\"]], \"sequentialminus\": [[0.0, \"#0d0887\"], [0.1111111111111111, \"#46039f\"], [0.2222222222222222, \"#7201a8\"], [0.3333333333333333, \"#9c179e\"], [0.4444444444444444, \"#bd3786\"], [0.5555555555555556, \"#d8576b\"], [0.6666666666666666, \"#ed7953\"], [0.7777777777777778, \"#fb9f3a\"], [0.8888888888888888, \"#fdca26\"], [1.0, \"#f0f921\"]]}, \"colorway\": [\"#636efa\", \"#EF553B\", \"#00cc96\", \"#ab63fa\", \"#FFA15A\", \"#19d3f3\", \"#FF6692\", \"#B6E880\", \"#FF97FF\", \"#FECB52\"], \"font\": {\"color\": \"#2a3f5f\"}, \"geo\": {\"bgcolor\": \"white\", \"lakecolor\": \"white\", \"landcolor\": \"#E5ECF6\", \"showlakes\": true, \"showland\": true, \"subunitcolor\": \"white\"}, \"hoverlabel\": {\"align\": \"left\"}, \"hovermode\": \"closest\", \"mapbox\": {\"style\": \"light\"}, \"paper_bgcolor\": \"white\", \"plot_bgcolor\": \"#E5ECF6\", \"polar\": {\"angularaxis\": {\"gridcolor\": \"white\", \"linecolor\": \"white\", \"ticks\": \"\"}, \"bgcolor\": \"#E5ECF6\", \"radialaxis\": {\"gridcolor\": \"white\", \"linecolor\": \"white\", \"ticks\": \"\"}}, \"scene\": {\"xaxis\": {\"backgroundcolor\": \"#E5ECF6\", \"gridcolor\": \"white\", \"gridwidth\": 2, \"linecolor\": \"white\", \"showbackground\": true, \"ticks\": \"\", \"zerolinecolor\": \"white\"}, \"yaxis\": {\"backgroundcolor\": \"#E5ECF6\", \"gridcolor\": \"white\", \"gridwidth\": 2, \"linecolor\": \"white\", \"showbackground\": true, \"ticks\": \"\", \"zerolinecolor\": \"white\"}, \"zaxis\": {\"backgroundcolor\": \"#E5ECF6\", \"gridcolor\": \"white\", \"gridwidth\": 2, \"linecolor\": \"white\", \"showbackground\": true, \"ticks\": \"\", \"zerolinecolor\": \"white\"}}, \"shapedefaults\": {\"line\": {\"color\": \"#2a3f5f\"}}, \"ternary\": {\"aaxis\": {\"gridcolor\": \"white\", \"linecolor\": \"white\", \"ticks\": \"\"}, \"baxis\": {\"gridcolor\": \"white\", \"linecolor\": \"white\", \"ticks\": \"\"}, \"bgcolor\": \"#E5ECF6\", \"caxis\": {\"gridcolor\": \"white\", \"linecolor\": \"white\", \"ticks\": \"\"}}, \"title\": {\"x\": 0.05}, \"xaxis\": {\"automargin\": true, \"gridcolor\": \"white\", \"linecolor\": \"white\", \"ticks\": \"\", \"title\": {\"standoff\": 15}, \"zerolinecolor\": \"white\", \"zerolinewidth\": 2}, \"yaxis\": {\"automargin\": true, \"gridcolor\": \"white\", \"linecolor\": \"white\", \"ticks\": \"\", \"title\": {\"standoff\": 15}, \"zerolinecolor\": \"white\", \"zerolinewidth\": 2}}}, \"title\": {\"text\": \"Ref. Tension 51 lbs\"}, \"width\": 900, \"xaxis\": {\"showgrid\": false, \"ticklen\": 10, \"ticks\": \"inside\", \"title\": {\"text\": \"Tension Loss %\"}}, \"yaxis\": {\"showgrid\": false, \"ticklen\": 10, \"ticks\": \"inside\", \"title\": {\"text\": \"Spin Potential\"}}},\n",
       "                        {\"responsive\": true}\n",
       "                    ).then(function(){\n",
       "                            \n",
       "var gd = document.getElementById('420cc886-67db-42fc-a398-73c97e94cab0');\n",
       "var x = new MutationObserver(function (mutations, observer) {{\n",
       "        var display = window.getComputedStyle(gd).display;\n",
       "        if (!display || display === 'none') {{\n",
       "            console.log([gd, 'removed!']);\n",
       "            Plotly.purge(gd);\n",
       "            observer.disconnect();\n",
       "        }}\n",
       "}});\n",
       "\n",
       "// Listen for the removal of the full notebook cells\n",
       "var notebookContainer = gd.closest('#notebook-container');\n",
       "if (notebookContainer) {{\n",
       "    x.observe(notebookContainer, {childList: true});\n",
       "}}\n",
       "\n",
       "// Listen for the clearing of the current output cell\n",
       "var outputEl = gd.closest('.output');\n",
       "if (outputEl) {{\n",
       "    x.observe(outputEl, {childList: true});\n",
       "}}\n",
       "\n",
       "                        })\n",
       "                };\n",
       "                });\n",
       "            </script>\n",
       "        </div>"
      ]
     },
     "metadata": {},
     "output_type": "display_data"
    }
   ],
   "source": [
    "create_scatter_plot('tension_loss_pct', 'spin_potential', 51)"
   ]
  }
 ],
 "metadata": {
  "kernelspec": {
   "display_name": "Python 3",
   "language": "python",
   "name": "python3"
  },
  "language_info": {
   "codemirror_mode": {
    "name": "ipython",
    "version": 3
   },
   "file_extension": ".py",
   "mimetype": "text/x-python",
   "name": "python",
   "nbconvert_exporter": "python",
   "pygments_lexer": "ipython3",
   "version": "3.6.1"
  }
 },
 "nbformat": 4,
 "nbformat_minor": 2
}
